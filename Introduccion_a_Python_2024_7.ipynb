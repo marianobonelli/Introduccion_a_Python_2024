{
  "nbformat": 4,
  "nbformat_minor": 0,
  "metadata": {
    "colab": {
      "provenance": [],
      "include_colab_link": true
    },
    "kernelspec": {
      "name": "python3",
      "display_name": "Python 3"
    },
    "language_info": {
      "name": "python"
    }
  },
  "cells": [
    {
      "cell_type": "markdown",
      "metadata": {
        "id": "view-in-github",
        "colab_type": "text"
      },
      "source": [
        "<a href=\"https://colab.research.google.com/github/marianobonelli/Introduccion_a_Python_2024/blob/main/Introduccion_a_Python_2024_7.ipynb\" target=\"_parent\"><img src=\"https://colab.research.google.com/assets/colab-badge.svg\" alt=\"Open In Colab\"/></a>"
      ]
    },
    {
      "cell_type": "markdown",
      "source": [
        "# Introducción a la programación y análisis de datos con Python orientado a la producción agropecuaria\n",
        "\n",
        "[![Cronograma](https://img.shields.io/badge/-Cronograma-blue?style=flat&logo=google-docs&logoColor=white)](https://docs.google.com/document/d/1RkiQrAyWAuJglmTdKCfa4QQ4JYHh0Klg6iRRzxSv8cc/edit?usp=sharing) [![Repositorio de GitHub](https://img.shields.io/badge/-Repositorio%20de%20GitHub-blue?style=flat&logo=github&logoColor=white)](https://github.com/marianobonelli/Introduccion_a_Python_2024)\n",
        "<!-- [![Video de la clase](https://img.shields.io/badge/-Video%20de%20la%20clase-blue?style=flat&logo=youtube&logoColor=white)](https://youtu.be/eS30BzqMUR8) -->\n",
        "\n",
        "\n",
        "\n",
        "\n",
        "**Clase 7: Jueves 12 de Septiembre**\n",
        "\n",
        "\n",
        "Manejo y visualización de datos espaciales con geopandas y folium\n",
        "\n",
        "---"
      ],
      "metadata": {
        "id": "Al-INYTSu9hm"
      }
    },
    {
      "cell_type": "markdown",
      "source": [
        "# Mapas y geolocalización con geopandas y folium."
      ],
      "metadata": {
        "id": "tUJ3r6ZhX9Cu"
      }
    },
    {
      "cell_type": "markdown",
      "source": [
        "### Importamos archivos de prueba:"
      ],
      "metadata": {
        "id": "90WaHqgNQkoy"
      }
    },
    {
      "cell_type": "code",
      "source": [
        "# Descargar los archivos usando wget\n",
        "!wget https://raw.githubusercontent.com/marianobonelli/Introduccion_a_Python_2024/main/assets/rindes_lotes_9_10.zip -O rindes_lotes_9_10.zip\n",
        "!wget https://raw.githubusercontent.com/marianobonelli/Introduccion_a_Python_2024/main/assets/lotes.zip -O lotes.zip"
      ],
      "metadata": {
        "id": "GiKK_G8gdH1E"
      },
      "execution_count": null,
      "outputs": []
    },
    {
      "cell_type": "markdown",
      "source": [
        "## Geopandas\n",
        "\n",
        "[<img src=\"https://geopandas.org/en/stable/_static/geopandas_logo_web.svg\" width=200px>](https://geopandas.org/en/stable/docs.html)\n",
        "\n"
      ],
      "metadata": {
        "id": "2SQBjhipTaRp"
      }
    },
    {
      "cell_type": "markdown",
      "source": [
        "GeoPandas, como su nombre sugiere, extiende la popular biblioteca de ciencia de datos pandas añadiendo soporte para datos geoespaciales. Si no estás familiarizado con pandas, te recomendamos echar un vistazo rápido a su documentación de inicio antes de proceder.\n",
        "\n",
        "La estructura de datos principal en GeoPandas es el geopandas.GeoDataFrame, una subclase de pandas.DataFrame, que puede almacenar columnas de geometría y realizar operaciones espaciales. El geopandas.GeoSeries, una subclase de pandas.Series, maneja las geometrías. Por lo tanto, tu GeoDataFrame es una combinación de pandas.Series, con datos tradicionales (numéricos, booleanos, texto, etc.), y geopandas.GeoSeries, con geometrías (puntos, polígonos, etc.). Puedes tener tantas columnas con geometrías como desees; no hay límite típico para el software GIS de escritorio.\n",
        "\n",
        "[<img src=\"https://geopandas.org/en/stable/_images/dataframe.svg\" width=650px>](https://geopandas.org/en/stable/getting_started/introduction.html)"
      ],
      "metadata": {
        "id": "xgrm8loSUxac"
      }
    },
    {
      "cell_type": "markdown",
      "source": [
        " ### Lectura de archivos como GeoDataFrame (GDF)\n",
        "\n",
        " [geopandas.read_file()](https://geopandas.org/en/stable/docs/reference/api/geopandas.read_file.html)"
      ],
      "metadata": {
        "id": "bxfXVixcBnf1"
      }
    },
    {
      "cell_type": "code",
      "source": [
        "import geopandas as gpd\n",
        "\n",
        "lotes_gdf = gpd.read_file('lotes.zip')\n",
        "lotes_gdf.head()"
      ],
      "metadata": {
        "id": "jhUJbjx38-8Y"
      },
      "execution_count": null,
      "outputs": []
    },
    {
      "cell_type": "code",
      "source": [
        "lotes_gdf.info()"
      ],
      "metadata": {
        "id": "gDVX0oLJC3Hr"
      },
      "execution_count": null,
      "outputs": []
    },
    {
      "cell_type": "code",
      "source": [
        "# Uso de try para manejo de errores\n",
        "\n",
        "try:\n",
        "  lotes_gdf = gpd.read_file('lotes.zipp')\n",
        "  lotes_gdf.head()\n",
        "except Exception as e:\n",
        "  print(f'Ocurrió un error: {e}')"
      ],
      "metadata": {
        "id": "3CW8AwaJ8--s"
      },
      "execution_count": null,
      "outputs": []
    },
    {
      "cell_type": "code",
      "source": [
        "rindes_gdf = gpd.read_file('rindes_lotes_9_10.zip')\n",
        "rindes_gdf.head()"
      ],
      "metadata": {
        "id": "QPB2bBjx8_BT"
      },
      "execution_count": null,
      "outputs": []
    },
    {
      "cell_type": "markdown",
      "source": [
        "#### Uso de pyogrio para acelerar la lectura de archivos"
      ],
      "metadata": {
        "id": "UD3JAfvUQ6zB"
      }
    },
    {
      "cell_type": "code",
      "source": [
        "!pip install pyogrio"
      ],
      "metadata": {
        "id": "hHNCPfXdCIsN"
      },
      "execution_count": null,
      "outputs": []
    },
    {
      "cell_type": "code",
      "source": [
        "rindes_gdf = gpd.read_file('rindes_lotes_9_10.zip', engine=\"pyogrio\")\n",
        "rindes_gdf.head()"
      ],
      "metadata": {
        "id": "3OgFucLN8_Dc"
      },
      "execution_count": null,
      "outputs": []
    },
    {
      "cell_type": "code",
      "source": [
        "rindes_gdf.info()"
      ],
      "metadata": {
        "id": "gcEbBe5E8_Me"
      },
      "execution_count": null,
      "outputs": []
    },
    {
      "cell_type": "markdown",
      "source": [
        "### Visualización de los GDF"
      ],
      "metadata": {
        "id": "Y_SW8iJ8RCgt"
      }
    },
    {
      "cell_type": "markdown",
      "source": [
        "#### Mapas estáticos nativos de geopandas\n",
        "\n",
        "[Making maps and plots](https://geopandas.org/en/stable/docs/user_guide/mapping.html)"
      ],
      "metadata": {
        "id": "jKQBTc06RJ6K"
      }
    },
    {
      "cell_type": "code",
      "source": [
        "# Visualización de los gdf\n",
        "\n",
        "rindes_gdf.plot(column=\"Yld_Mass_D\",\n",
        "                cmap='RdYlGn', # escala de colores: https://matplotlib.org/stable/users/explain/colors/colormaps.html\n",
        "                markersize=3 # tamaño de los puntos\n",
        "                )"
      ],
      "metadata": {
        "id": "E5Y5F3sYDe_F"
      },
      "execution_count": null,
      "outputs": []
    },
    {
      "cell_type": "markdown",
      "source": [
        "##### Visualización por cuantiles"
      ],
      "metadata": {
        "id": "Y9T-FFDoRPOj"
      }
    },
    {
      "cell_type": "code",
      "source": [
        "import pandas as pd\n",
        "\n",
        "# Primero, crearemos categorías basadas en cuantiles para la columna 'Yld_Mass_D'\n",
        "rindes_gdf['cuantiles'] = pd.qcut(rindes_gdf['Yld_Mass_D'], 4, labels=False)\n",
        "\n",
        "# Graficamos ahora la nueva columna cuantiles\n",
        "rindes_gdf.plot(column='cuantiles',\n",
        "                cmap='RdYlGn', # escala de colores: https://matplotlib.org/stable/users/explain/colors/colormaps.html\n",
        "                markersize=3 # tamaño de los puntos\n",
        "                )"
      ],
      "metadata": {
        "id": "ifGiTH9cE932"
      },
      "execution_count": null,
      "outputs": []
    },
    {
      "cell_type": "markdown",
      "source": [
        "#### Mapas interactivos de geopandas con folium\n",
        "\n",
        "GeoPandas ofrece una amplia variedad de opciones para visualizar datos espaciales. Entre ellas, destaca el método .explore, que utiliza Folium para crear mapas interactivos.\n",
        "\n",
        "Puedes acceder a la documentación de GeoPandas sobre mapeo interactivo [aquí](https://geopandas.org/en/stable/docs/user_guide/interactive_mapping.html).\n",
        "\n",
        "Si deseas obtener más información sobre Folium y la creación de mapas interactivos, consulta su documentación [aquí](https://python-visualization.github.io/folium/latest/getting_started.html)."
      ],
      "metadata": {
        "id": "dFSmPQzVRUGx"
      }
    },
    {
      "cell_type": "code",
      "source": [
        "# Es necesario instalar algunas librerías extras primero\n",
        "\n",
        "!pip install folium matplotlib mapclassify"
      ],
      "metadata": {
        "id": "OGsfgsNRFsKj"
      },
      "execution_count": null,
      "outputs": []
    },
    {
      "cell_type": "code",
      "source": [
        "import folium\n",
        "\n",
        "# Crear el mapa\n",
        "mapa = lotes_gdf.explore(\n",
        "    column=\"Cultivo\",  # hacer un coropleta basado en la columna \"Cultivo\"\n",
        "    tooltip=[\"Lote\", 'Cultivo', 'Hibrido/Va',  'Surface (h'],  # mostrar valor en tooltip (al pasar el mouse)\n",
        "    popup=True,  # mostrar todos los valores en popup (al hacer clic)\n",
        "    tiles=\"OpenStreetMap\",  # \"CartoDB positron\" / \"OpenStreetMap\" / \"Esri.WorldImagery\"\n",
        "    cmap=\"Set1\",  # usar el mapa de colores \"Set1\" de matplotlib # cmap = https://matplotlib.org/stable/users/explain/colors/colormaps.html\n",
        "    style_kwds=dict(color=\"black\"),  # usar contorno negro\n",
        "    name=\"Lotes\",  # nombre del mapa\n",
        ")\n",
        "\n",
        "folium.LayerControl().add_to(mapa)  # agregar control de capas\n",
        "\n",
        "# Guardar el mapa como un archivo HTML\n",
        "mapa.save(\"mapa_lotes.html\")\n",
        "\n",
        "mapa"
      ],
      "metadata": {
        "id": "46LXlgdwDfB0"
      },
      "execution_count": null,
      "outputs": []
    },
    {
      "cell_type": "markdown",
      "source": [
        "#### Mapas con matplotlib"
      ],
      "metadata": {
        "id": "CLiDd41ORcZ1"
      }
    },
    {
      "cell_type": "code",
      "source": [
        "import matplotlib.pyplot as plt\n",
        "\n",
        "fig, ax = plt.subplots(figsize=(10, 10))\n",
        "\n",
        "# Utilizar una columna del GeoDataFrame para los colores. Reemplaza 'tu_columna_color' con el nombre de tu columna\n",
        "lotes_gdf.plot(ax=ax,\n",
        "               column='Cultivo', # columna a partir de la cual se asigna simbología\n",
        "               cmap=\"Set1\", # cmap = https://matplotlib.org/stable/users/explain/colors/colormaps.html\n",
        "               edgecolor='black', # contorno negro\n",
        "               legend=False, # sin leyenda\n",
        "               )\n",
        "\n",
        "# Graficar los puntos\n",
        "rindes_gdf.plot(ax=ax,\n",
        "                column='cuantiles', # columna a partir de la cual se asigna simbología\n",
        "                cmap=\"RdYlGn\", # cmap = https://matplotlib.org/stable/users/explain/colors/colormaps.html\n",
        "                markersize=0.2, # tamaño de los puntos\n",
        "                )\n",
        "\n",
        "# Quitar los ejes\n",
        "ax.set_axis_off()\n",
        "\n",
        "plt.show()"
      ],
      "metadata": {
        "id": "2KWNHxC2DfG1"
      },
      "execution_count": null,
      "outputs": []
    },
    {
      "cell_type": "markdown",
      "source": [
        "#### Mapas con Plotly"
      ],
      "metadata": {
        "id": "OdHNdu7ARh_j"
      }
    },
    {
      "cell_type": "code",
      "source": [
        "# https://plotly.github.io/plotly.py-docs/generated/plotly.express.choropleth_mapbox.html\n",
        "\n",
        "import plotly.express as px\n",
        "\n",
        "# Crear figura para los lotes\n",
        "fig = px.choropleth_mapbox(\n",
        "    lotes_gdf,  # GeoDataFrame que se desea graficar\n",
        "    geojson=lotes_gdf.geometry.__geo_interface__,  # Convierte las geometrías del GeoDataFrame a formato GeoJSON para que Plotly pueda procesarlas\n",
        "    locations=lotes_gdf.index,  # Utiliza los índices del GeoDataFrame para asignar las geometrías a cada fila\n",
        "    color='Cultivo',  # Usar la columna 'Cultivo' para la simbología\n",
        ")\n",
        "\n",
        "# Calcular el centroide del conjunto de polígonos\n",
        "centroid = lotes_gdf.geometry.unary_union.centroid\n",
        "\n",
        "# Actualizar el layout para centrar el mapa\n",
        "fig.update_layout(\n",
        "    mapbox_style=\"open-street-map\",  # Establece el estilo del mapa base, utilizando el estilo de \"OpenStreetMap\"\n",
        "    mapbox_zoom=12,  # Define el nivel de zoom del mapa; 12 es un valor intermedio que muestra detalles sin acercarse demasiado\n",
        "    mapbox_center={\"lat\": centroid.y, \"lon\": centroid.x},  # Centra el mapa en el centroide calculado (latitud y longitud)\n",
        "    # margin={\"r\": 0, \"t\": 0, \"l\": 0, \"b\": 0},  # Elimina los márgenes alrededor del gráfico para maximizar el área de visualización\n",
        ")\n",
        "\n",
        "fig.show()"
      ],
      "metadata": {
        "id": "5qMYPJJwDfJp"
      },
      "execution_count": null,
      "outputs": []
    },
    {
      "cell_type": "markdown",
      "source": [
        "### Algunas funcionalidades de geopandas\n",
        "\n",
        "* [Proyecciones automáticas](https://geopandas.org/en/stable/docs/reference/api/geopandas.GeoDataFrame.estimate_utm_crs.html#geopandas.GeoDataFrame.estimate_utm_crs)\n",
        "\n",
        "* [Overlay](https://geopandas.org/en/stable/docs/user_guide/set_operations.html)\n",
        "\n",
        "* [Muchos otros](https://geopandas.org/en/stable/docs/reference/geoseries.html)"
      ],
      "metadata": {
        "id": "hNKHwVAgRmdJ"
      }
    },
    {
      "cell_type": "code",
      "source": [
        "# Estimar CRS UTM para cada GeoDataFrame\n",
        "crs_rindes = rindes_gdf.estimate_utm_crs()\n",
        "crs_lotes = lotes_gdf.estimate_utm_crs()\n",
        "\n",
        "print(f'CRS de los rindes: {rindes_gdf.crs}')\n",
        "print(f'CRS de los lotes: {lotes_gdf.crs}')\n",
        "print(f'CRS estimado de los rindes: {crs_rindes}')\n",
        "print(f'CRS estimado de los lotes: {crs_lotes}')"
      ],
      "metadata": {
        "id": "QtbU-wwEDfLx"
      },
      "execution_count": null,
      "outputs": []
    },
    {
      "cell_type": "code",
      "source": [
        "# Proyectar ambos GDFs al CRS UTM\n",
        "rindes_gdf = rindes_gdf.to_crs(crs_rindes)\n",
        "lotes_gdf = lotes_gdf.to_crs(crs_lotes)\n",
        "\n",
        "print(f'CRS de los rindes: {rindes_gdf.crs}')\n",
        "print(f'CRS de los lotes: {lotes_gdf.crs}')"
      ],
      "metadata": {
        "id": "Hq5EEV80naQl"
      },
      "execution_count": null,
      "outputs": []
    },
    {
      "cell_type": "code",
      "source": [
        "# Filtrar el lote específico\n",
        "lote_especifico = lotes_gdf[lotes_gdf['Lote'] == 'SM9']\n",
        "\n",
        "lote_especifico"
      ],
      "metadata": {
        "id": "FftFBvKlnFNA"
      },
      "execution_count": null,
      "outputs": []
    },
    {
      "cell_type": "code",
      "source": [
        "# Extraer puntos dentro del polígono especificado\n",
        "puntos_dentro_lote = rindes_gdf[rindes_gdf.geometry.within(lote_especifico.unary_union)]\n",
        "\n",
        "# Volver a proyectar los puntos a EPSG:4326 para visualización\n",
        "puntos_dentro_lote = puntos_dentro_lote.to_crs(\"EPSG:4326\")\n",
        "\n",
        "print(f'CRS de los puntos dentro del lote: {puntos_dentro_lote.crs}')\n",
        "\n",
        "# estadisticas de resumen del gdf:\n",
        "# puntos_dentro_lote.describe()"
      ],
      "metadata": {
        "id": "esIVSxNYnOXK"
      },
      "execution_count": null,
      "outputs": []
    },
    {
      "cell_type": "code",
      "source": [
        "# Visualización con Matplotlib\n",
        "fig, ax = plt.subplots(figsize=(10, 10))\n",
        "\n",
        "puntos_dentro_lote.plot(ax=ax,\n",
        "                        column='cuantiles',\n",
        "                        cmap=\"RdYlGn\",\n",
        "                        markersize=2,\n",
        "                        )\n",
        "ax.set_axis_off()\n",
        "\n",
        "plt.show()"
      ],
      "metadata": {
        "id": "fqY_isyzoAN7"
      },
      "execution_count": null,
      "outputs": []
    },
    {
      "cell_type": "code",
      "source": [
        "media_rinde = puntos_dentro_lote['Yld_Mass_D'].mean()\n",
        "desviacion_estandar_rinde = puntos_dentro_lote['Yld_Mass_D'].std()\n",
        "\n",
        "media_velocidad = puntos_dentro_lote['Speed_km_h'].mean()\n",
        "desviacion_estandar_velocidad = puntos_dentro_lote['Speed_km_h'].std()\n",
        "\n",
        "media_distancia = puntos_dentro_lote['Distance_m'].mean()\n",
        "desviacion_estandar_distancia = puntos_dentro_lote['Distance_m'].std()\n",
        "\n",
        "# Filtrado de datos a partir de la media mas menos tres desvíos standar a partir del campo Yld_Mass_D\n",
        "\n",
        "puntos_dentro_lote_filtrados = puntos_dentro_lote[(puntos_dentro_lote['Yld_Mass_D'] > media_rinde - 3 * desviacion_estandar_rinde) &\n",
        "                                                  (puntos_dentro_lote['Yld_Mass_D'] < media_rinde + 3 * desviacion_estandar_rinde) &\n",
        "                                                  (puntos_dentro_lote['Speed_km_h'] > media_velocidad - 3 * desviacion_estandar_velocidad) &\n",
        "                                                  (puntos_dentro_lote['Speed_km_h'] < media_velocidad + 3 * desviacion_estandar_velocidad) &\n",
        "                                                  (puntos_dentro_lote['Distance_m'] > media_distancia - 3 * desviacion_estandar_distancia) &\n",
        "                                                  (puntos_dentro_lote['Distance_m'] < media_distancia + 3 * desviacion_estandar_distancia)\n",
        "                                                  ]\n",
        "\n",
        "print(f'Cantidad de puntos dentro del lote: {len(puntos_dentro_lote)}')\n",
        "print(f'Cantidad de puntos dentro del lote filtrados: {len(puntos_dentro_lote_filtrados)}')"
      ],
      "metadata": {
        "id": "dlviLzmnoxWm"
      },
      "execution_count": null,
      "outputs": []
    },
    {
      "cell_type": "code",
      "source": [
        "# Visualización con Matplotlib\n",
        "fig, ax = plt.subplots(figsize=(10, 10))\n",
        "\n",
        "puntos_dentro_lote_filtrados.plot(ax=ax,\n",
        "                        column='Yld_Mass_D',\n",
        "                        cmap=\"RdYlGn\",\n",
        "                        markersize=2,\n",
        "                        )\n",
        "ax.set_axis_off()\n",
        "\n",
        "plt.show()"
      ],
      "metadata": {
        "id": "mYw0kE_spsSy"
      },
      "execution_count": null,
      "outputs": []
    },
    {
      "cell_type": "markdown",
      "source": [
        "### Bibliografia extra complementaria\n",
        "\n",
        "* [Qiusheng Wu](https://github.com/giswqs)\n"
      ],
      "metadata": {
        "id": "n0UMzNZEgEWF"
      }
    },
    {
      "cell_type": "markdown",
      "source": [
        "# Trabajo Final:\n",
        "\n",
        "* Extraer los datos de rinde del lote 10\n",
        "* Hacer un histograma y un boxplot de los datos de rinde\n",
        "* Filtrar el gdf de rinde para excluir los datos que tengan en primer lugar, valores de rinde = 0 y en segundo lugar que tengan valores superiores a la media mas tres desvíos estandar e inferiores a la media menos tres desvíos estandar para los datos de rinde, ancho de labor, distancia y velocidad\n",
        "* Hacer un histograma y un boxplot de los datos de rinde ya filtrado\n",
        "* Graficar el mapa de rindes ya filtrado, asignarle titulo\n",
        "* Extraer el centroide del lote y a partir de esas coordenadas obtener los datos de precipitación y temperatura para todo diciembre del 2021. Graficar los datos.\n",
        "\n",
        "Se debe entregar un colab individual al mail mbonelli95@gmail.com con copia a nicoestebansoria@gmail.com y thomasvarela1990@gmail.com antes del jueves 3 de octubre.\n",
        "\n",
        "El jueves 26 de septiembre habrá una clase de consulta."
      ],
      "metadata": {
        "id": "1kpWLtRixC93"
      }
    }
  ]
}