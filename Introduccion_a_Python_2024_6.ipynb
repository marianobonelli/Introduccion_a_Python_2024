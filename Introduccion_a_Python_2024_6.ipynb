{
  "nbformat": 4,
  "nbformat_minor": 0,
  "metadata": {
    "colab": {
      "provenance": [],
      "include_colab_link": true
    },
    "kernelspec": {
      "name": "python3",
      "display_name": "Python 3"
    },
    "language_info": {
      "name": "python"
    }
  },
  "cells": [
    {
      "cell_type": "markdown",
      "metadata": {
        "id": "view-in-github",
        "colab_type": "text"
      },
      "source": [
        "<a href=\"https://colab.research.google.com/github/marianobonelli/Introduccion_a_Python_2024/blob/main/Introduccion_a_Python_2024_6.ipynb\" target=\"_parent\"><img src=\"https://colab.research.google.com/assets/colab-badge.svg\" alt=\"Open In Colab\"/></a>"
      ]
    },
    {
      "cell_type": "markdown",
      "source": [
        "# Introducción a la programación y análisis de datos con Python orientado a la producción agropecuaria\n",
        "\n",
        "[![Cronograma](https://img.shields.io/badge/-Cronograma-blue?style=flat&logo=google-docs&logoColor=white)](https://docs.google.com/document/d/1RkiQrAyWAuJglmTdKCfa4QQ4JYHh0Klg6iRRzxSv8cc/edit?usp=sharing) [![Repositorio de GitHub](https://img.shields.io/badge/-Repositorio%20de%20GitHub-blue?style=flat&logo=github&logoColor=white)](https://github.com/marianobonelli/Introduccion_a_Python_2024) [![Video de la clase](https://img.shields.io/badge/-Video%20de%20la%20clase-blue?style=flat&logo=youtube&logoColor=white)](https://youtu.be/eS30BzqMUR8)\n",
        "\n",
        "\n",
        "\n",
        "\n",
        "**Clase 6: Martes 10 de Septiembre**\n",
        "\n",
        "\n",
        "Introducción a librerías - Parte I:\n",
        "\n",
        "* Uso de plotly para visualizar datos.\n",
        "* Anexo: ipywidgets\n",
        "\n",
        "---"
      ],
      "metadata": {
        "id": "Al-INYTSu9hm"
      }
    },
    {
      "cell_type": "markdown",
      "source": [
        "# Plotly\n",
        "\n",
        "[<img src=\"https://plotly.com/all_static/images/graphing_library_dark.svg\" width=300px>](https://plotly.com/python/)\n",
        "\n"
      ],
      "metadata": {
        "id": "yNgLTvwJXbNp"
      }
    },
    {
      "cell_type": "markdown",
      "source": [
        "<img src=\"https://images.plot.ly/plotly-documentation/thumbnail/bubble.jpg\" width=200px> <img src=\"https://images.plot.ly/plotly-documentation/thumbnail/histogram2d.jpg\" width=200px> <img src=\"https://images.plot.ly/plotly-documentation/thumbnail/bubble-map.jpg\" width=200px> <img src=\"https://images.plot.ly/plotly-documentation/thumbnail/3d-camera-controls.jpg\" width=200px>\n",
        "\n",
        "### Características\n",
        "\n",
        "Plotly es una biblioteca para la creación de gráficos e líneas, gráficos de dispersión, gráficos de áreas, gráficos de barras, barras de error, diagramas de caja, histogramas, mapas de calor, subgráficos, ejes múltiples, gráficos polares y gráficos de burbujas. Permite crear gráficos que pueden ser explorados interactivamente en un navegador web.\n",
        "\n"
      ],
      "metadata": {
        "id": "TfmEnQ1Q79zk"
      }
    },
    {
      "cell_type": "markdown",
      "source": [
        "### Estructura del código\n",
        "\n",
        "* ***Importación de la Biblioteca:*** `import plotly.express as px`\n",
        "\n",
        "\n",
        "* ***Creación de Gráficos:*** Se utilizan funciones de alto nivel para crear gráficos. Por ejemplo, `px.scatter(iris, x='sepal_width', y='sepal_length', color='species')` crea un gráfico de dispersión interactivo.\n",
        "\n",
        "* ***Personalización:*** Plotly permite una amplia gama de personalizaciones, desde cambiar colores y estilos hasta ajustar los aspectos interactivos.\n",
        "\n",
        "* ***Visualización:*** Se muestra el gráfico utilizando `fig.show()`. Esto abrirá el gráfico en el jupyter notebook/colab o un navegador web, permitiendo interacciones como el zoom y el paso del mouse sobre los puntos para obtener más información."
      ],
      "metadata": {
        "id": "8fLLo9LJ7_hO"
      }
    },
    {
      "cell_type": "code",
      "source": [
        "import plotly.express as px\n",
        "import pandas as pd"
      ],
      "metadata": {
        "id": "QwoohhD2KTvj"
      },
      "execution_count": null,
      "outputs": []
    },
    {
      "cell_type": "markdown",
      "source": [
        "Usaremos plotly.express para crear gráficos de manera sencilla y plotly.graph_objects para opciones más avanzadas. Vamos a comenzar cargando el conjunto de datos iris."
      ],
      "metadata": {
        "id": "uzVteTLHDyWj"
      }
    },
    {
      "cell_type": "code",
      "source": [
        "# Cargar el conjunto de datos iris\n",
        "df = px.data.iris()\n",
        "\n",
        "# Mostrar las primeras filas del dataframe\n",
        "df.head()"
      ],
      "metadata": {
        "id": "THlThX2ZDRZT"
      },
      "execution_count": null,
      "outputs": []
    },
    {
      "cell_type": "markdown",
      "source": [
        "## Scatter Plot (Gráfico de Dispersión)\n",
        "\n",
        "Este gráfico muestra la relación entre dos características del conjunto de datos, como sepal_length y sepal_width."
      ],
      "metadata": {
        "id": "JYDNyq0LD33O"
      }
    },
    {
      "cell_type": "code",
      "source": [
        "# Scatter: https://plotly.com/python/line-and-scatter/\n",
        "\n",
        "fig = px.scatter(\n",
        "    df,\n",
        "    x='sepal_width',\n",
        "    y='sepal_length',\n",
        "    # color='species', # configura la división por colores a partir de una columna del df\n",
        "    # facet_col=\"species\", # divide en columna según valors unicos de la columna especificada\n",
        "    # title='Gráfico de Dispersión de Sepal Width vs Sepal Length', # Título\n",
        "    # width=10000, # Ancho\n",
        "    # height=8000, # Alto\n",
        "    )\n",
        "\n",
        "fig.show()"
      ],
      "metadata": {
        "id": "9kglNcRlOIFi"
      },
      "execution_count": null,
      "outputs": []
    },
    {
      "cell_type": "markdown",
      "source": [
        "## Line Plot (Gráfico de Líneas)\n",
        "\n",
        "Un gráfico de líneas para visualizar cómo cambian las características a lo largo de los índices de las filas. Por ejemplo, podemos graficar sepal_length para ver cómo varía a través del conjunto de datos."
      ],
      "metadata": {
        "id": "_cribG_wD9ln"
      }
    },
    {
      "cell_type": "code",
      "source": [
        "# Crear un gráfico de líneas\n",
        "fig = px.line(df,\n",
        "              x=df.index,\n",
        "              y='sepal_length',\n",
        "              color='species',\n",
        "              title='Gráfico de Líneas de Sepal Length por Índice',\n",
        "              )\n",
        "fig.show()"
      ],
      "metadata": {
        "id": "Gk_iqKaIQlHy"
      },
      "execution_count": null,
      "outputs": []
    },
    {
      "cell_type": "markdown",
      "source": [
        "## Box Plot\n",
        "\n",
        "Visualizar la cantidad de muestras de cada especie en el conjunto de datos."
      ],
      "metadata": {
        "id": "-Yh9_BrpEl3J"
      }
    },
    {
      "cell_type": "code",
      "source": [
        "# Crear un box plot\n",
        "fig = px.box(df,\n",
        "             x='species',\n",
        "             y='sepal_length',\n",
        "             color='species',\n",
        "             title='Box Plot de Sepal Length por Especie',\n",
        "             )\n",
        "fig.show()"
      ],
      "metadata": {
        "id": "Arpf6eoDEqm8"
      },
      "execution_count": null,
      "outputs": []
    },
    {
      "cell_type": "markdown",
      "source": [
        "## Histogram (Histograma)\n",
        "Visualizar la distribución de cada característica como sepal_length."
      ],
      "metadata": {
        "id": "0yjA-gtpEwC6"
      }
    },
    {
      "cell_type": "code",
      "source": [
        "# Crear un histograma\n",
        "fig = px.histogram(df,\n",
        "                   x='sepal_length',\n",
        "                   color='species',\n",
        "                   title='Histograma de Sepal Length por Especie',\n",
        "                   nbins=20,\n",
        "                   )\n",
        "fig.show()"
      ],
      "metadata": {
        "id": "jqoEzwGEEynA"
      },
      "execution_count": null,
      "outputs": []
    },
    {
      "cell_type": "markdown",
      "source": [
        "## 3D Scatter Plot (Gráfico de Dispersión en 3D)\n",
        "Plotly permite crear gráficos en 3D para visualizar relaciones complejas entre tres variables. Vamos a visualizar tres características del conjunto de datos (sepal_length, sepal_width, y petal_length) en un gráfico 3D."
      ],
      "metadata": {
        "id": "MBCZ9SaQFG4F"
      }
    },
    {
      "cell_type": "code",
      "source": [
        "# Crear un scatter plot 3D\n",
        "fig = px.scatter_3d(df,\n",
        "                    x='sepal_length',\n",
        "                    y='sepal_width',\n",
        "                    z='petal_length',\n",
        "                    color='species',\n",
        "                    title='Gráfico de Dispersión 3D de Sepal y Petal Lengths',\n",
        "                    )\n",
        "fig.show()"
      ],
      "metadata": {
        "id": "s8BP3bPgQaSp"
      },
      "execution_count": null,
      "outputs": []
    },
    {
      "cell_type": "markdown",
      "source": [
        "## Customización de Gráficos\n",
        "Personalizar gráficos puede mejorar la claridad y el impacto visual. Vamos a personalizar el scatter plot inicial con un título, etiquetas de ejes, tamaño de los puntos, y una anotación."
      ],
      "metadata": {
        "id": "7RbCKSrGFPzc"
      }
    },
    {
      "cell_type": "code",
      "source": [
        "# Crear un scatter plot con personalización\n",
        "fig = px.scatter(\n",
        "    df,\n",
        "    x='sepal_width', # Eje x: ancho del sépalo\n",
        "    y='sepal_length', # Eje y: largo del sépalo\n",
        "    color='species', # Color de los puntos basado en la especie\n",
        "    title='Gráfico de Dispersión de Sepal Width vs Sepal Length' # Título del gráfico\n",
        ")\n",
        "\n",
        "# Personalizar el gráfico\n",
        "fig.update_traces(\n",
        "    marker={'size': 12, # Tamaño de los puntos\n",
        "            'line': {'width': 2, 'color': 'DarkSlateGrey'}, # Borde de los puntos\n",
        "            },\n",
        "    hovertemplate=\"<b>Ancho del Sépal:</b> %{x} cm<br>\"  # Personalizar la información mostrada al hacer hover\n",
        "                  \"<b>Largo del Sépal:</b> %{y} cm\"\n",
        "                  \"<extra></extra>\"\n",
        "    )\n",
        "\n",
        "# Hovertemplate:\n",
        "# <b>...</b> -> Negrita\n",
        "# <br> -> Enter\n",
        "# %{x} -> Llama al valor de x\n",
        "# <extra></extra> Elimina etiqueta adicional al costado\n",
        "\n",
        "# Actualizar el layout del gráfico\n",
        "fig.update_layout(\n",
        "    title='Gráfico de Dispersión Personalizado', # Título del gráfico\n",
        "    xaxis_title='Ancho del Sépal (cm)', # Etiqueta del eje x\n",
        "    yaxis_title='Largo del Sépal (cm)', # Etiqueta del eje y\n",
        "    legend_title='Especie' # Título de la leyenda\n",
        ")\n",
        "\n",
        "# Añadir anotación\n",
        "fig.add_annotation(\n",
        "    x=3.5, y=6.5, # Coordenadas de la anotación\n",
        "    text=\"Ejemplo de anotación\", # Texto de la anotación\n",
        "    showarrow=True, # Mostrar flecha hacia el punto anotado\n",
        "    arrowhead=1 # Tipo de flecha\n",
        ")\n",
        "\n",
        "# Mostrar el gráfico\n",
        "fig.show()"
      ],
      "metadata": {
        "id": "E614v4sqFSm1"
      },
      "execution_count": null,
      "outputs": []
    },
    {
      "cell_type": "markdown",
      "source": [
        "## Exportar Gráficos\n",
        "Para exportar gráficos a archivos en formato interactivo:"
      ],
      "metadata": {
        "id": "__gG1t5LFfgO"
      }
    },
    {
      "cell_type": "code",
      "source": [
        "# Exportar como archivo HTML\n",
        "fig.write_html(\"grafico_interactivo.html\")"
      ],
      "metadata": {
        "id": "ZqcTECGkFiNB"
      },
      "execution_count": null,
      "outputs": []
    },
    {
      "cell_type": "markdown",
      "source": [
        "# Jupyter Widgets\n",
        "\n",
        "[ipywidgets](https://ipywidgets.readthedocs.io/en/stable/#) es una biblioteca de Python que permite crear widgets interactivos para Jupyter Notebooks, JupyterLab y Google Colab. Estos widgets proporcionan controles de interfaz de usuario (como sliders, botones, cuadros de texto, menús desplegables, etc.) que permiten interactuar dinámicamente con el código y visualizar datos en tiempo real. Esto facilita la exploración de datos, la visualización interactiva y la creación de aplicaciones o herramientas educativas dentro del entorno de Jupyter."
      ],
      "metadata": {
        "id": "z_l3B8HYSoCr"
      }
    },
    {
      "cell_type": "code",
      "source": [
        "import ipywidgets as widgets\n",
        "from IPython.display import display"
      ],
      "metadata": {
        "id": "0N9GJwt_Nca_"
      },
      "execution_count": null,
      "outputs": []
    },
    {
      "cell_type": "markdown",
      "source": [
        "## Slider\n",
        "Un slider es una forma interactiva de seleccionar un valor numérico:"
      ],
      "metadata": {
        "id": "kCvpf_imRlAF"
      }
    },
    {
      "cell_type": "code",
      "source": [
        "slider = widgets.IntSlider(\n",
        "    value=5, # Valor inicial\n",
        "    min=0, # Valor mínimo\n",
        "    max=10, # Valor máximo\n",
        "    step=1, # Incremento\n",
        "    description='Slider:', # Etiqueta\n",
        ")\n",
        "\n",
        "display(slider)"
      ],
      "metadata": {
        "id": "JpbD2ODYNeov"
      },
      "execution_count": null,
      "outputs": []
    },
    {
      "cell_type": "code",
      "source": [
        "slider.value # obtener el value del sidebar"
      ],
      "metadata": {
        "id": "EMk9sISyPKuO"
      },
      "execution_count": null,
      "outputs": []
    },
    {
      "cell_type": "markdown",
      "source": [
        "## Cuadro de Texto\n",
        "Puedes permitir que los usuarios ingresen texto de forma interactiva:"
      ],
      "metadata": {
        "id": "SZjq41okRn5W"
      }
    },
    {
      "cell_type": "code",
      "source": [
        "# Crear un widget de cuadro de texto con ipywidgets\n",
        "text_box = widgets.Text(\n",
        "    description='Input:', # Etiqueta que se mostrará al lado del cuadro de texto\n",
        ")\n",
        "\n",
        "# Mostrar el cuadro de texto en la interfaz de usuario\n",
        "display(text_box)"
      ],
      "metadata": {
        "id": "5g1VP5OCNgTO"
      },
      "execution_count": null,
      "outputs": []
    },
    {
      "cell_type": "code",
      "source": [
        "text_box.value # obtener el value del text_box"
      ],
      "metadata": {
        "id": "1-E8xC8IO2wf"
      },
      "execution_count": null,
      "outputs": []
    },
    {
      "cell_type": "markdown",
      "source": [
        "## Botones\n",
        "Los botones pueden ser utilizados para disparar acciones cuando se hacen clic:"
      ],
      "metadata": {
        "id": "RahPpoclRqmR"
      }
    },
    {
      "cell_type": "code",
      "source": [
        "# Definir la función que se ejecutará cuando se haga clic en el botón\n",
        "def on_button_click(b):\n",
        "    print('Button clicked!') # Imprimir un mensaje en la consola cuando el botón sea presionado\n",
        "\n",
        "# Crear un widget de botón con ipywidgets\n",
        "button = widgets.Button(\n",
        "    description='Click me!', # Texto que se mostrará en el botón\n",
        "    button_style='primary' # Estilo del botón: puede ser 'primary', 'success', 'info', 'warning', 'danger' o ''\n",
        ")\n",
        "\n",
        "# Asociar la función on_button_click al evento de clic del botón\n",
        "button.on_click(on_button_click)\n",
        "\n",
        "# Mostrar el botón en la interfaz de usuario\n",
        "display(button)"
      ],
      "metadata": {
        "id": "ggbxJTsmNjYw"
      },
      "execution_count": null,
      "outputs": []
    },
    {
      "cell_type": "markdown",
      "source": [
        "## Dropdowns"
      ],
      "metadata": {
        "id": "jobj1fPcTKdU"
      }
    },
    {
      "cell_type": "code",
      "source": [
        "# Crear un widget Dropdown (menú desplegable) para seleccionar la columna que se utilizará en el eje X del gráfico\n",
        "x_dropdown = widgets.Dropdown(\n",
        "    options=df.columns,   # Lista de opciones: nombres de las columnas del DataFrame 'df'\n",
        "    description='Eje X:', # Descripción que se mostrará al lado del Dropdown\n",
        ")\n",
        "\n",
        "# Crear un widget Dropdown para seleccionar la columna que se utilizará en el eje Y del gráfico\n",
        "y_dropdown = widgets.Dropdown(\n",
        "    options=df.columns,   # Lista de opciones: nombres de las columnas del DataFrame 'df'\n",
        "    description='Eje Y:', # Descripción que se mostrará al lado del Dropdown\n",
        ")\n",
        "\n",
        "# Crear un widget Dropdown para seleccionar la columna que se utilizará para la coloración de los puntos en el gráfico\n",
        "color_dropdown = widgets.Dropdown(\n",
        "    options=df.columns,   # Lista de opciones: nombres de las columnas del DataFrame 'df'\n",
        "    description='Color:', # Descripción que se mostrará al lado del Dropdown\n",
        ")\n",
        "\n",
        "# Mostrar los widgets Dropdown en la interfaz de usuario\n",
        "display(x_dropdown, y_dropdown, color_dropdown)"
      ],
      "metadata": {
        "id": "90HC_LGGP16F"
      },
      "execution_count": null,
      "outputs": []
    },
    {
      "cell_type": "code",
      "source": [
        "# Crear un gráfico de dispersión utilizando Plotly Express\n",
        "fig = px.scatter(\n",
        "    df, # DataFrame con los datos a graficar\n",
        "    x=x_dropdown.value, # Eje X: columna seleccionada en el widget x_dropdown\n",
        "    y=y_dropdown.value, # Eje Y: columna seleccionada en el widget y_dropdown\n",
        "    color=color_dropdown.value, # Color: columna seleccionada en el widget color_dropdown\n",
        ")\n",
        "\n",
        "# Mostrar el gráfico interactivo\n",
        "fig.show()"
      ],
      "metadata": {
        "id": "z8JGI8ynRBsA"
      },
      "execution_count": null,
      "outputs": []
    },
    {
      "cell_type": "markdown",
      "source": [
        "\n",
        "\n",
        "---\n",
        "\n",
        "\n",
        "\n",
        "# Minidesafíos"
      ],
      "metadata": {
        "id": "gTCxcfy2tw-3"
      }
    },
    {
      "cell_type": "markdown",
      "source": [
        "A partir de la función de llamada a la API de NASA POWER obtener los datos de precipitación, humedad de suelo a 5cm (GWETTOP) y humedad de suelo a 100cm (GWETROOT) para las fechas entre el 01 de septiembre del 2023 al 1 de febrero del 2024.\n",
        "\n",
        "Cargar los datos a un dataframe de pandas como se muestra al principio de la clase\n",
        "\n",
        "Graficar los datos en plotly de la siguiente manera:\n",
        "\n",
        "* 1 grafico de lineas con los datos de humedad de suelo.\n",
        "* 1 grafico de barras con los datos de precipitación.\n",
        "\n",
        "En ambos casos asegurarse de que los gráficos tengan título, leyenda, nombre en los ejes y configuración con hovertemplate de los tooltips\n",
        "\n",
        "Guardar los gráficos como html"
      ],
      "metadata": {
        "id": "FH8uutAtH7xY"
      }
    },
    {
      "cell_type": "code",
      "source": [],
      "metadata": {
        "id": "ER4FKIqQKLAx"
      },
      "execution_count": null,
      "outputs": []
    }
  ]
}