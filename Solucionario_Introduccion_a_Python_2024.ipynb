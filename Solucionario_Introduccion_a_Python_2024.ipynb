{
  "nbformat": 4,
  "nbformat_minor": 0,
  "metadata": {
    "colab": {
      "provenance": [],
      "include_colab_link": true
    },
    "kernelspec": {
      "name": "python3",
      "display_name": "Python 3"
    },
    "language_info": {
      "name": "python"
    }
  },
  "cells": [
    {
      "cell_type": "markdown",
      "metadata": {
        "id": "view-in-github",
        "colab_type": "text"
      },
      "source": [
        "<a href=\"https://colab.research.google.com/github/marianobonelli/Introduccion_a_Python_2024/blob/main/Solucionario_Introduccion_a_Python_2024.ipynb\" target=\"_parent\"><img src=\"https://colab.research.google.com/assets/colab-badge.svg\" alt=\"Open In Colab\"/></a>"
      ]
    },
    {
      "cell_type": "markdown",
      "source": [
        "# Solucionario - Introducción a la programación y análisis de datos con Python orientado a la producción agropecuaria\n",
        "\n",
        "[![Cronograma](https://img.shields.io/badge/-Cronograma-blue?style=flat&logo=google-docs&logoColor=white)](https://docs.google.com/document/d/1RkiQrAyWAuJglmTdKCfa4QQ4JYHh0Klg6iRRzxSv8cc/edit?usp=sharing) [![Repositorio de GitHub](https://img.shields.io/badge/-Repositorio%20de%20GitHub-blue?style=flat&logo=github&logoColor=white)](https://github.com/marianobonelli/Introduccion_a_Python_2024)\n",
        "\n",
        "\n",
        "\n",
        "\n",
        "\n",
        "\n",
        "---"
      ],
      "metadata": {
        "id": "NcSQvjU782Sn"
      }
    },
    {
      "cell_type": "markdown",
      "source": [
        "# **Clase 1: Martes 20 de agosto**\n",
        "\n",
        "Introducción:\n",
        "\n",
        "* Introducción a la programación en Python.\n",
        "\n",
        "* Tipos de datos (int, float, boolean, string).\n",
        "\n",
        "* Variables.\n",
        "\n",
        "* Input / Output.\n",
        "\n",
        "* Operadores y operaciones con tipos de datos."
      ],
      "metadata": {
        "id": "XVgnif0Y9Hdi"
      }
    },
    {
      "cell_type": "markdown",
      "source": [
        "Generar un código que le pida al usuario (mediante un input) que ingrese el diametro de un círculo y que imprima el perimetro del mismo de esta manera:\n",
        "\n",
        "El perimetro del circulo es de __ cm."
      ],
      "metadata": {
        "id": "RpLYikrLax1f"
      }
    },
    {
      "cell_type": "code",
      "source": [
        "diametro = float(input(\"Ingrese el diametro del circulo: \"))\n",
        "perimetro = 3.14 * diametro\n",
        "print(\"El perimetro del circulo es de\", perimetro, \"cm.\")"
      ],
      "metadata": {
        "id": "h3uACpxYax9R"
      },
      "execution_count": null,
      "outputs": []
    },
    {
      "cell_type": "markdown",
      "source": [
        "Generar un código que le pida al usuario (mediante un input) que ingrese Nombre, Apellido, año de nacimiento e imprima al final un saludo de esta manera:\n",
        "\n",
        "Hola soy {nombre} {apellido} y mi edad es de {años} años."
      ],
      "metadata": {
        "id": "VkGImcRnayr0"
      }
    },
    {
      "cell_type": "code",
      "source": [
        "nombre = input(\"Ingrese su nombre: \")\n",
        "apellido = input(\"Ingrese su apellido: \")\n",
        "año_nacimiento = int(input(\"Ingrese su año de nacimiento: \"))\n",
        "años = 2024 - año_nacimiento\n",
        "#print(f'Hola soy {nombre} {apellido} y mie edad es de {años} años')\n",
        "print(\"Hola soy\", nombre, apellido, \"y mi edad es de\", años, \"años.\")"
      ],
      "metadata": {
        "id": "aWBXhIZTayyq"
      },
      "execution_count": null,
      "outputs": []
    },
    {
      "cell_type": "markdown",
      "source": [
        "\n",
        "\n",
        "---\n",
        "\n",
        "\n",
        "# **Clase 2: Jueves 22 de agosto**\n",
        "\n",
        "Control de flujo:\n",
        "\n",
        "* Control de flujo (if, while, for).\n"
      ],
      "metadata": {
        "id": "q2oMVHds9pTc"
      }
    },
    {
      "cell_type": "markdown",
      "source": [
        "## Minidesafío if:\n"
      ],
      "metadata": {
        "id": "STJPgikpwRt_"
      }
    },
    {
      "cell_type": "markdown",
      "source": [
        "Contexto: Estás monitoreando la temperatura para evitar el estrés térmico en un invernadero. Si la temperatura supera los 30°C, se debe activar el sistema de enfriamiento.\n",
        "\n",
        "Desafío: Escribe un programa en Python que tome como entrada la temperatura actual del invernadero. Usa una estructura if para verificar si la temperatura es demasiado alta y, en ese caso, imprime un mensaje para activar el sistema de enfriamiento.\n",
        "\n",
        "Ejemplo de salida esperada si la temperatura es 32°C:\n",
        "\n",
        "\n",
        "\n",
        "```yaml\n",
        "La temperatura actual es 32°C. Activar el sistema de enfriamiento.\n",
        "```"
      ],
      "metadata": {
        "id": "S7g7bxl--Rn9"
      }
    },
    {
      "cell_type": "code",
      "source": [
        "temperatura = float(input(\"Ingrese la temperatura actual del invernadero: \"))\n",
        "\n",
        "if temperatura > 30:\n",
        "    print(\"La temperatura actual es\", temperatura, \"°C. Activar el sistema de enfriamiento.\")\n",
        "else:\n",
        "    print(\"La temperatura actual es\", temperatura, \"°C. No es necesario activar el sistema de enfriamiento.\")"
      ],
      "metadata": {
        "id": "c6z1lBRQwf0W"
      },
      "execution_count": null,
      "outputs": []
    },
    {
      "cell_type": "markdown",
      "source": [
        "Desafío: Realizar un programa que revise si una nota está aprobada (es decir si es mayor o igual a 4) utilizando un if/else. La nota será ingresada por el usuario usando input()."
      ],
      "metadata": {
        "id": "doz8Xh6N9EVh"
      }
    },
    {
      "cell_type": "code",
      "source": [
        "nota = float(input(\"Ingrese la nota: \"))\n",
        "\n",
        "if nota >= 4:\n",
        "    print(\"La nota es aprobada.\")\n",
        "else:\n",
        "    print(\"La nota es reprobada.\")"
      ],
      "metadata": {
        "id": "_aSQ-lKw9Jjf"
      },
      "execution_count": null,
      "outputs": []
    },
    {
      "cell_type": "markdown",
      "source": [
        "Desafío: Realizar un programa que convierta una nota porcentual del 0 al 100 a una letra entre A y F de acuerdo a la siguiente conversión:\n",
        "\n",
        "```yaml\n",
        "A: 90–100\n",
        "B: 80–89\n",
        "C: 70–79\n",
        "D: 60–69\n",
        "F: 0–59\n",
        "```\n"
      ],
      "metadata": {
        "id": "TVj-eXok9J96"
      }
    },
    {
      "cell_type": "code",
      "source": [
        "nota = float(input(\"Ingrese la nota porcentual: \"))\n",
        "\n",
        "if nota >= 90:\n",
        "    print(\"La nota es A.\")\n",
        "elif nota >= 80:\n",
        "    print(\"La nota es B.\")\n",
        "elif nota >= 70:\n",
        "    print(\"La nota es C.\")\n",
        "elif nota >= 60:\n",
        "    print(\"La nota es D.\")\n",
        "else:\n",
        "    print(\"La nota es F.\")"
      ],
      "metadata": {
        "id": "r3Rg33ct9K3B"
      },
      "execution_count": null,
      "outputs": []
    },
    {
      "cell_type": "markdown",
      "source": [
        "## Minidesafío while:\n",
        "\n"
      ],
      "metadata": {
        "id": "Q-KfdMgyv79A"
      }
    },
    {
      "cell_type": "markdown",
      "source": [
        "Contexto: Tienes un tanque de agua para riego que se está llenando. Sabes que el tanque tiene una capacidad de 1000 litros y que la tasa de flujo hacia el tanque es de 100 litros por hora.\n",
        "\n",
        "Desafío: Escribe un script que simule el tiempo que toma llenar el tanque. Usa un bucle while para incrementar la cantidad de agua en el tanque hasta que se llene. Imprime un mensaje cada hora que indique la cantidad de agua en el tanque.\n",
        "\n",
        "Ejemplo de salida esperada:\n",
        "\n",
        "\n",
        "\n",
        "```yaml\n",
        "1 hora: El tanque tiene 100 litros.\n",
        "2 horas: El tanque tiene 200 litros.\n",
        "...\n",
        "10 horas: El tanque tiene 1000 litros. El tanque está ahora lleno.\n",
        "```\n"
      ],
      "metadata": {
        "id": "LgpYAwGs-PRa"
      }
    },
    {
      "cell_type": "code",
      "source": [
        "capacidad_tanque = 1000\n",
        "tasa_flujo = 100\n",
        "cantidad_agua = 0\n",
        "horas = 0\n",
        "\n",
        "while cantidad_agua < capacidad_tanque:\n",
        "    cantidad_agua += tasa_flujo\n",
        "    horas += 1\n",
        "    print(horas, \"horas: El tanque tiene\", cantidad_agua, \"litros.\")\n",
        "\n",
        "print(\"El tanque está ahora lleno.\")"
      ],
      "metadata": {
        "id": "YuAcEldIwlcM"
      },
      "execution_count": null,
      "outputs": []
    },
    {
      "cell_type": "markdown",
      "source": [
        "Control de Orugas Defoliadoras\n",
        "\n",
        "Supongamos que tienes equipo de muestreo en un campo de cultivo que cuenta el número de orugas defoliadoras. El número de orugas comienza en 0 y aumenta cada día. Cuando el número de orugas alcanza un umbral crítico, se debe aplicar un control.\n",
        "\n",
        "Instrucciones:\n",
        "\n",
        "* Define un número inicial de orugas (por ejemplo, 0).\n",
        "\n",
        "* Cada día, el número de orugas aumenta en un valor fijo (por ejemplo, 1 oruga por día).\n",
        "\n",
        "* Define un umbral crítico de orugas (por ejemplo, 7 orugas).\n",
        "\n",
        "* Utiliza un bucle while para simular el proceso hasta que se alcance el umbral crítico.\n",
        "\n",
        "* Imprime el día, el número de orugas y un mensaje que indique si se debe aplicar control."
      ],
      "metadata": {
        "id": "Hnlot4369rcn"
      }
    },
    {
      "cell_type": "code",
      "source": [
        "numero_inicial_orugas = 0\n",
        "umbral_critico = 7\n",
        "dia = 1\n",
        "\n",
        "while numero_inicial_orugas < umbral_critico:\n",
        "    numero_inicial_orugas += 1\n",
        "    print(\"Día\", dia, \": El número de orugas es\", numero_inicial_orugas, \". No es necesario aplicar control.\")"
      ],
      "metadata": {
        "id": "GHy9IAJo9wEl"
      },
      "execution_count": null,
      "outputs": []
    },
    {
      "cell_type": "markdown",
      "source": [
        "## Minidesafío for:\n",
        "\n"
      ],
      "metadata": {
        "id": "MJeILxJ4wF2B"
      }
    },
    {
      "cell_type": "markdown",
      "source": [
        "Contexto: Eres un agricultor que planea sembrar una hilera de plantas con espacios iguales entre ellas. Dispones de 20 semillas para sembrar en una hilera de 100 metros de largo.\n",
        "\n",
        "Desafío: Escribe un programa que calcule y muestre las posiciones exactas (en metros) donde cada semilla debe ser plantada a lo largo de la hilera. Usa un ciclo for con range para iterar sobre el número de semillas y calcular las posiciones.\n",
        "\n",
        "Ejemplo de salida esperada:\n",
        "\n",
        "\n",
        "\n",
        "```yaml\n",
        "Planta la semilla 1 en la posición 5.0m.\n",
        "Planta la semilla 2 en la posición 10.0m.\n",
        "...\n",
        "Planta la semilla 20 en la posición 100.0m.\n",
        "```\n"
      ],
      "metadata": {
        "id": "wsrZA1Ef-UF3"
      }
    },
    {
      "cell_type": "code",
      "source": [
        "for i in range(1, 21):\n",
        "    posicion = i * 5\n",
        "    print(\"Planta la semilla\", i, \"en la posición\", posicion, \"m.\")"
      ],
      "metadata": {
        "id": "tLNM1xxiwmEx"
      },
      "execution_count": null,
      "outputs": []
    },
    {
      "cell_type": "markdown",
      "source": [
        "\n",
        "\n",
        "---\n",
        "\n",
        "\n",
        "\n",
        "# **Clase 3: Martes 27 de agosto**\n",
        "\n",
        "Funciones\n",
        "\n",
        "Estructuras de datos:\n",
        "\n",
        "* Listas.\n",
        "\n",
        "* Operaciones con listas.\n",
        "\n",
        "* Estructuras de datos (Dictionary, Set, Tuple).\n",
        "\n",
        "* Operaciones con estructuras de datos."
      ],
      "metadata": {
        "id": "gAwUNqtEKxfm"
      }
    },
    {
      "cell_type": "markdown",
      "source": [
        "## Listas"
      ],
      "metadata": {
        "id": "IEskYO5bOjN7"
      }
    },
    {
      "cell_type": "markdown",
      "source": [
        "###Ejercicio: Seguimiento de cultivos\n",
        "\n",
        "Supongamos que eres un agrónomo que está realizando un seguimiento de diferentes cultivos. Tienes una lista inicial de cultivos, y necesitas realizar varias operaciones con esa lista para gestionar los datos."
      ],
      "metadata": {
        "id": "ep8hheH7OwvM"
      }
    },
    {
      "cell_type": "markdown",
      "source": [
        "1. Creación de la lista de cultivos:"
      ],
      "metadata": {
        "id": "6uhIX-tzPrri"
      }
    },
    {
      "cell_type": "code",
      "source": [
        "cultivos = ['Maíz', 'Trigo', 'Café', 'Arroz']"
      ],
      "metadata": {
        "id": "H0hUY3qrPAF2"
      },
      "execution_count": null,
      "outputs": []
    },
    {
      "cell_type": "markdown",
      "source": [
        "2. Agregar un nuevo cultivo a la lista:"
      ],
      "metadata": {
        "id": "MNRWEQs2Pzbh"
      }
    },
    {
      "cell_type": "code",
      "source": [
        "# agregar un nuevo cultivo a la lista\n",
        "\n",
        "cultivos.append('Soja')\n",
        "print(cultivos)"
      ],
      "metadata": {
        "id": "qSdigqHtQZef"
      },
      "execution_count": null,
      "outputs": []
    },
    {
      "cell_type": "markdown",
      "source": [
        "3. Eliminar un cultivo de la lista:"
      ],
      "metadata": {
        "id": "aGfgsa3tQW8x"
      }
    },
    {
      "cell_type": "code",
      "source": [
        "# eliminar un cultivo de la lista\n",
        "\n",
        "cultivos.remove('Café')\n",
        "print(cultivos)"
      ],
      "metadata": {
        "id": "mM6UCQZNQZ-l"
      },
      "execution_count": null,
      "outputs": []
    },
    {
      "cell_type": "markdown",
      "source": [
        "4. Ordenar la lista de cultivos alfabéticamente:"
      ],
      "metadata": {
        "id": "_jo_xbvtQCyw"
      }
    },
    {
      "cell_type": "code",
      "source": [
        "# Ordenar la lista de cultivos alfabéticamente\n",
        "\n",
        "cultivos.sort()\n",
        "print(cultivos)"
      ],
      "metadata": {
        "id": "E1AWfR58Qabp"
      },
      "execution_count": null,
      "outputs": []
    },
    {
      "cell_type": "markdown",
      "source": [
        "5. Buscar si un cultivo está en la lista:"
      ],
      "metadata": {
        "id": "mvjLTzx2QHWl"
      }
    },
    {
      "cell_type": "code",
      "source": [
        "# Buscar si un cultivo está en la lista\n",
        "\n",
        "if 'Maíz' in cultivos:\n",
        "    print('Sí, el cultivo de maíz está en la lista.')\n",
        "else:\n",
        "    print('No, el cultivo de maíz no está en la lista.')"
      ],
      "metadata": {
        "id": "LmdYh1nQRR23"
      },
      "execution_count": null,
      "outputs": []
    },
    {
      "cell_type": "markdown",
      "source": [
        "6. Imprimir el largo de la lista"
      ],
      "metadata": {
        "id": "9QSqRpeoRGlo"
      }
    },
    {
      "cell_type": "code",
      "source": [
        "# Imprimir el largo de la lista\n",
        "\n",
        "print('La lista tiene', len(cultivos), 'elementos.')"
      ],
      "metadata": {
        "id": "5KK0Kf0kQa4o"
      },
      "execution_count": null,
      "outputs": []
    },
    {
      "cell_type": "markdown",
      "source": [
        "7. Imprimir el nombre de cada cultivo:"
      ],
      "metadata": {
        "id": "FVhgWnziQTVO"
      }
    },
    {
      "cell_type": "code",
      "source": [
        "# Imprimir el nombre de cada cultivo\n",
        "\n",
        "for cultivo in cultivos:\n",
        "    print(cultivo)"
      ],
      "metadata": {
        "id": "sSpxsnIuQcYk"
      },
      "execution_count": null,
      "outputs": []
    },
    {
      "cell_type": "markdown",
      "source": [
        "## Diccionarios\n"
      ],
      "metadata": {
        "id": "g3rarD9XD7mf"
      }
    },
    {
      "cell_type": "markdown",
      "source": [
        "### Información sobre parcelas\n",
        "A partir del siguiente diccionario:\n",
        "\n",
        "\n",
        "```python\n",
        "# Crear el diccionario de parcelas\n",
        "parcelas = {\n",
        "    'Parcela 1': {'Cultivo': 'Maíz', 'Hectáreas': 50, 'Rendimiento esperado': 8},\n",
        "    'Parcela 2': {'Cultivo': 'Trigo', 'Hectáreas': 40, 'Rendimiento esperado': 4}\n",
        "}\n",
        "```\n",
        "\n",
        "\n",
        "Instrucciones:\n",
        "\n",
        "* Accede a la información del cultivo de una parcela específica."
      ],
      "metadata": {
        "id": "h0M_1gfrEATl"
      }
    },
    {
      "cell_type": "code",
      "source": [
        "# Crear el diccionario de parcelas\n",
        "parcelas = {\n",
        "    'Parcela 1': {'Cultivo': 'Maíz', 'Hectáreas': 50, 'Rendimiento esperado': 8},\n",
        "    'Parcela 2': {'Cultivo': 'Trigo', 'Hectáreas': 40, 'Rendimiento esperado': 4}\n",
        "}\n",
        "\n",
        "# Accede a la información del cultivo de una parcela específica\n",
        "\n",
        "cultivo_parcela1 = parcelas['Parcela 1']['Cultivo']\n",
        "print(\"El cultivo de la parcela 1 es:\", cultivo_parcela1)"
      ],
      "metadata": {
        "id": "4czvaIscE-U-"
      },
      "execution_count": null,
      "outputs": []
    },
    {
      "cell_type": "markdown",
      "source": [
        "* Actualiza el rendimiento esperado de una parcela.\n"
      ],
      "metadata": {
        "id": "vvVc3F46FMkC"
      }
    },
    {
      "cell_type": "code",
      "source": [
        "# Actualiza el rendimiento esperado de una parcela\n",
        "\n",
        "parcelas['Parcela 1']['Rendimiento esperado'] = 10\n",
        "print(parcelas)"
      ],
      "metadata": {
        "id": "LJWGeZSqFKmk"
      },
      "execution_count": null,
      "outputs": []
    },
    {
      "cell_type": "markdown",
      "source": [
        "* Añade una nueva parcela con sus datos."
      ],
      "metadata": {
        "id": "xlWPcwx7FNKG"
      }
    },
    {
      "cell_type": "code",
      "source": [
        "# Añade una nueva parcela con sus datos.\n",
        "\n",
        "parcelas['Parcela 3'] = {'Cultivo': 'Café', 'Hectáreas': 30, 'Rendimiento esperado': 6}\n",
        "print(parcelas)"
      ],
      "metadata": {
        "id": "LR0725cJFKuX"
      },
      "execution_count": null,
      "outputs": []
    },
    {
      "cell_type": "markdown",
      "source": [
        "## Funciones\n"
      ],
      "metadata": {
        "id": "ekxVq13kD3qf"
      }
    },
    {
      "cell_type": "markdown",
      "source": [
        "\n",
        "### Cálculo de costos de producción I\n",
        "\n",
        "Define una función llamada calcular_costos_produccion que reciba como parámetros la cantidad de hectáreas y el costo por hectárea. La función debe devolver el costo total de producción.\n",
        "\n",
        "def calcular_costos_produccion(hectareas, costo_por_hectarea):"
      ],
      "metadata": {
        "id": "bCCFEqf2BqTi"
      }
    },
    {
      "cell_type": "code",
      "source": [
        "def calcular_costos_produccion(x, y):\n",
        "    z = x * y\n",
        "    return z\n",
        "\n",
        "hectareas = float(input(\"Ingrese la cantidad de hectáreas: \"))\n",
        "costo_por_hectarea = float(input(\"Ingrese el costo por hectárea: \"))\n",
        "\n",
        "costo_total = calcular_costos_produccion(hectareas, costo_por_hectarea)\n",
        "print(\"El costo total de producción es:\", costo_total)"
      ],
      "metadata": {
        "id": "X5Mn9dMEBcsH"
      },
      "execution_count": null,
      "outputs": []
    },
    {
      "cell_type": "markdown",
      "source": [
        "### Cálculo de costos de producción II\n",
        "\n",
        "Continuando con el ejercicio anterior, reutiliza la función calcular_costos_produccion para calcular el costo de producción para al menos 5 lotes diferentes. Cada lote debe tener una superficie o un costo por hectárea distinto. Asegúrate de implementar una solución que permita realizar el cálculo para varios lotes con una sola llamada a la función.\n",
        "\n"
      ],
      "metadata": {
        "id": "FIyvAoI3B1vF"
      }
    },
    {
      "cell_type": "code",
      "source": [
        "#Respuesta usando lista\n",
        "\n",
        "# Lotes de producción\n",
        "lotes = [\n",
        "    {'hectareas': 50, 'costo_por_hectarea': 10},\n",
        "    {'hectareas': 40, 'costo_por_hectarea': 8},\n",
        "    {'hectareas': 30, 'costo_por_hectarea': 12},\n",
        "    {'hectareas': 60, 'costo_por_hectarea': 9},\n",
        "    {'hectareas': 20, 'costo_por_hectarea': 1}\n",
        "    ]\n",
        "\n",
        "# Calcular el costo de producción para cada lote y mostrar el resultado\n",
        "for lote in lotes:\n",
        "    costo_total = calcular_costos_produccion(lote['hectareas'], lote['costo_por_hectarea'])\n",
        "    print(\"El costo total de producción para el lote es:\", costo_total)"
      ],
      "metadata": {
        "id": "HPVcYVGPDDhI"
      },
      "execution_count": null,
      "outputs": []
    },
    {
      "cell_type": "code",
      "source": [
        "#Respuesta usando diccionario:\n",
        "\n",
        "# Lotes de producción\n",
        "lotes = {\n",
        "    'Lote 1': {'hectareas': 50, 'costo_por_hectarea': 10},\n",
        "    'Lote 2': {'hectareas': 40, 'costo_por_hectarea': 8},\n",
        "    'Lote 3': {'hectareas': 30, 'costo_por_hectarea': 12},\n",
        "    'Lote 4': {'hectareas': 60, 'costo_por_hectarea': 9},\n",
        "    'Lote 5': {'hectareas': 20, 'costo_por_hectarea': 1}\n",
        "    }\n",
        "\n",
        "# Calcular el costo de producción para cada lote y mostrar el resultado\n",
        "for nombre_lote, datos_lote in lotes.items():  # Iterate over key-value pairs\n",
        "    costo_total = calcular_costos_produccion(datos_lote['hectareas'], datos_lote['costo_por_hectarea'])\n",
        "    print(\"El costo total de producción para el lote\", nombre_lote, \"es:\", costo_total)"
      ],
      "metadata": {
        "id": "boD_XPI0bT66"
      },
      "execution_count": null,
      "outputs": []
    },
    {
      "cell_type": "markdown",
      "source": [
        "\n",
        "\n",
        "---\n",
        "\n",
        "# Clase 4: Jueves 29 de agosto\n",
        "\n",
        "\n",
        "Introducción a librerías - Parte I:\n",
        "\n",
        "* Introducción a librerías y ejemplos.\n",
        "\n",
        "* Importación y manejo de datos con requests y pandas.\n"
      ],
      "metadata": {
        "id": "ynVQk3_PfQW7"
      }
    },
    {
      "cell_type": "markdown",
      "source": [
        "## Minidesafíos **requests**:\n",
        "\n"
      ],
      "metadata": {
        "id": "VmqOujnEeZEb"
      }
    },
    {
      "cell_type": "markdown",
      "source": [
        "### 1. Armar un llamado a la API de power.larc.nasa.gov y obtener los datos de precipitación, temperatura mínima, temperatura media, temperatura máxima para una coordenada y un rango de fechas a elección."
      ],
      "metadata": {
        "id": "AU_dG3OJV_KE"
      }
    },
    {
      "cell_type": "code",
      "source": [
        "import requests\n",
        "import pandas as pd\n",
        "\n",
        "parameters = 'PRECTOTCORR,T2M_MAX,T2M_MIN,T2M'\n",
        "longitud = -64.29\n",
        "latitud = -33.1\n",
        "start = 20240101 # AAAAMMDD\n",
        "end = 20240115 # AAAAMMDD\n",
        "\n",
        "response = requests.get(f\"https://power.larc.nasa.gov/api/temporal/daily/point?parameters={parameters}&community=RE&longitude={longitud}&latitude={latitud}&start={start}&end={end}&format=json\")\n",
        "\n",
        "# Imprimiendo el contenido de la respuesta\n",
        "print(response.url)"
      ],
      "metadata": {
        "id": "nMbOIiizWMOM"
      },
      "execution_count": null,
      "outputs": []
    },
    {
      "cell_type": "markdown",
      "source": [
        "### 2. Obtener los datos tanto como json y como csv"
      ],
      "metadata": {
        "id": "u-RocdzeWDAw"
      }
    },
    {
      "cell_type": "code",
      "source": [
        "response_json = requests.get(f\"https://power.larc.nasa.gov/api/temporal/daily/point?parameters={parameters}&community=RE&longitude={longitud}&latitude={latitud}&start={start}&end={end}&format=json\")\n",
        "response_json = response_json.json()\n",
        "\n",
        "response_csv = requests.get(f\"https://power.larc.nasa.gov/api/temporal/daily/point?parameters={parameters}&community=RE&longitude={longitud}&latitude={latitud}&start={start}&end={end}&format=CSV\")\n",
        "response_csv = response_csv.url"
      ],
      "metadata": {
        "id": "6_cVUvn_WMxp"
      },
      "execution_count": null,
      "outputs": []
    },
    {
      "cell_type": "markdown",
      "source": [
        "## Minidesafíos Pandas"
      ],
      "metadata": {
        "id": "i-Q1TQOu7FJg"
      }
    },
    {
      "cell_type": "markdown",
      "source": [
        "### 1. Leer el csv con pandas y visualizar el dataframe"
      ],
      "metadata": {
        "id": "hpCym6YW9bMD"
      }
    },
    {
      "cell_type": "code",
      "source": [
        "df = pd.read_csv(response_csv, skiprows=12)\n",
        "\n",
        "print(df)"
      ],
      "metadata": {
        "id": "2MKnpgl_7Y80"
      },
      "execution_count": null,
      "outputs": []
    },
    {
      "cell_type": "markdown",
      "source": [
        "### 2. Descripción del dataframe:\n",
        "\n",
        "Visualizar los tipos de datos almacenados con .info() y calcular estadísticas descriptivas con .describe()"
      ],
      "metadata": {
        "id": "BPf4peYe9uuA"
      }
    },
    {
      "cell_type": "code",
      "source": [
        "df.info()\n",
        "\n",
        "df.describe()"
      ],
      "metadata": {
        "id": "FgLXqFu29_Nm"
      },
      "execution_count": null,
      "outputs": []
    },
    {
      "cell_type": "markdown",
      "source": [
        "### 3. Obtener los valores medios para cada columna del periodo:\n",
        "\n"
      ],
      "metadata": {
        "id": "9U46WFo89_dN"
      }
    },
    {
      "cell_type": "code",
      "source": [
        "df.mean()"
      ],
      "metadata": {
        "id": "K3ZXcR_k_WJu"
      },
      "execution_count": null,
      "outputs": []
    },
    {
      "cell_type": "markdown",
      "source": [
        "### 4. Contabilizar los días que tuvieron valores por encima de la media para cada columna:\n",
        "\n"
      ],
      "metadata": {
        "id": "toRZ80CB_ig5"
      }
    },
    {
      "cell_type": "code",
      "source": [
        "# Calcular la media para cada columna\n",
        "medias_columnas = df.mean()\n",
        "\n",
        "# Comparar los valores del DataFrame con la media y contar los días por encima de la media\n",
        "dias_por_encima_de_la_media = (df > medias_columnas).sum()\n",
        "\n",
        "# Mostrar la cantidad de días que estuvieron por encima de la media para cada columna\n",
        "print(dias_por_encima_de_la_media)"
      ],
      "metadata": {
        "id": "-VDKHBYf_w6y"
      },
      "execution_count": null,
      "outputs": []
    },
    {
      "cell_type": "markdown",
      "source": [
        "### 5. Contabilizar los días que tuvieron valores bajo cero de temperatura mínima:"
      ],
      "metadata": {
        "id": "Sq7HnabqVUtZ"
      }
    },
    {
      "cell_type": "code",
      "source": [
        "# Contabilizar los días que tuvieron valores bajo cero en la columna T2M_MIN\n",
        "dias_bajo_cero_t2m_min = (df['T2M_MIN'] < 0).sum()\n",
        "\n",
        "# Mostrar la cantidad de días con temperatura mínima bajo cero\n",
        "print(f\"Días con temperatura mínima bajo cero: {dias_bajo_cero_t2m_min}\")"
      ],
      "metadata": {
        "id": "Uxw3X7lMhZtO"
      },
      "execution_count": null,
      "outputs": []
    }
  ]
}