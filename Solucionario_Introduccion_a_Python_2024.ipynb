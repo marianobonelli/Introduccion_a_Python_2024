{
  "nbformat": 4,
  "nbformat_minor": 0,
  "metadata": {
    "colab": {
      "provenance": [],
      "authorship_tag": "ABX9TyPYkRwhwjWhhYaVyEujl+RU",
      "include_colab_link": true
    },
    "kernelspec": {
      "name": "python3",
      "display_name": "Python 3"
    },
    "language_info": {
      "name": "python"
    }
  },
  "cells": [
    {
      "cell_type": "markdown",
      "metadata": {
        "id": "view-in-github",
        "colab_type": "text"
      },
      "source": [
        "<a href=\"https://colab.research.google.com/github/marianobonelli/Introduccion_a_Python_2024/blob/main/Solucionario_Introduccion_a_Python_2024.ipynb\" target=\"_parent\"><img src=\"https://colab.research.google.com/assets/colab-badge.svg\" alt=\"Open In Colab\"/></a>"
      ]
    },
    {
      "cell_type": "markdown",
      "source": [
        "# Solucionario - Introducción a la programación y análisis de datos con Python orientado a la producción agropecuaria\n",
        "\n",
        "[![Cronograma](https://img.shields.io/badge/-Cronograma-blue?style=flat&logo=google-docs&logoColor=white)](https://docs.google.com/document/d/1RkiQrAyWAuJglmTdKCfa4QQ4JYHh0Klg6iRRzxSv8cc/edit?usp=sharing) [![Repositorio de GitHub](https://img.shields.io/badge/-Repositorio%20de%20GitHub-blue?style=flat&logo=github&logoColor=white)](https://github.com/marianobonelli/Introduccion_a_Python_2024)\n",
        "\n",
        "\n",
        "\n",
        "\n",
        "\n",
        "\n",
        "---"
      ],
      "metadata": {
        "id": "NcSQvjU782Sn"
      }
    },
    {
      "cell_type": "markdown",
      "source": [
        "# **Clase 1: Martes 20 de agosto**\n",
        "\n",
        "Introducción:\n",
        "\n",
        "* Introducción a la programación en Python.\n",
        "\n",
        "* Tipos de datos (int, float, boolean, string).\n",
        "\n",
        "* Variables.\n",
        "\n",
        "* Input / Output.\n",
        "\n",
        "* Operadores y operaciones con tipos de datos."
      ],
      "metadata": {
        "id": "XVgnif0Y9Hdi"
      }
    },
    {
      "cell_type": "markdown",
      "source": [
        "Generar un código que le pida al usuario (mediante un input) que ingrese el diametro de un círculo y que imprima el perimetro del mismo de esta manera:\n",
        "\n",
        "El perimetro del circulo es de __ cm."
      ],
      "metadata": {
        "id": "RpLYikrLax1f"
      }
    },
    {
      "cell_type": "code",
      "source": [
        "diametro = float(input(\"Ingrese el diametro del circulo: \"))\n",
        "perimetro = 3.14 * diametro\n",
        "print(\"El perimetro del circulo es de\", perimetro, \"cm.\")"
      ],
      "metadata": {
        "id": "h3uACpxYax9R"
      },
      "execution_count": null,
      "outputs": []
    },
    {
      "cell_type": "markdown",
      "source": [
        "Generar un código que le pida al usuario (mediante un input) que ingrese Nombre, Apellido, año de nacimiento e imprima al final un saludo de esta manera:\n",
        "\n",
        "Hola soy {nombre} {apellido} y mi edad es de {años} años."
      ],
      "metadata": {
        "id": "VkGImcRnayr0"
      }
    },
    {
      "cell_type": "code",
      "source": [
        "nombre = input(\"Ingrese su nombre: \")\n",
        "apellido = input(\"Ingrese su apellido: \")\n",
        "año_nacimiento = int(input(\"Ingrese su año de nacimiento: \"))\n",
        "años = 2024 - año_nacimiento\n",
        "#print(f'Hola soy {nombre} {apellido} y mie edad es de {años} años')\n",
        "print(\"Hola soy\", nombre, apellido, \"y mi edad es de\", años, \"años.\")"
      ],
      "metadata": {
        "id": "aWBXhIZTayyq"
      },
      "execution_count": null,
      "outputs": []
    },
    {
      "cell_type": "markdown",
      "source": [
        "\n",
        "\n",
        "---\n",
        "\n",
        "\n",
        "# **Clase 2: Jueves 22 de agosto**\n",
        "\n",
        "Control de flujo:\n",
        "\n",
        "* Control de flujo (if, while, for).\n"
      ],
      "metadata": {
        "id": "q2oMVHds9pTc"
      }
    },
    {
      "cell_type": "markdown",
      "source": [
        "## Minidesafío if:\n"
      ],
      "metadata": {
        "id": "STJPgikpwRt_"
      }
    },
    {
      "cell_type": "markdown",
      "source": [
        "Contexto: Estás monitoreando la temperatura para evitar el estrés térmico en un invernadero. Si la temperatura supera los 30°C, se debe activar el sistema de enfriamiento.\n",
        "\n",
        "Desafío: Escribe un programa en Python que tome como entrada la temperatura actual del invernadero. Usa una estructura if para verificar si la temperatura es demasiado alta y, en ese caso, imprime un mensaje para activar el sistema de enfriamiento.\n",
        "\n",
        "Ejemplo de salida esperada si la temperatura es 32°C:\n",
        "\n",
        "\n",
        "\n",
        "```yaml\n",
        "La temperatura actual es 32°C. Activar el sistema de enfriamiento.\n",
        "```"
      ],
      "metadata": {
        "id": "S7g7bxl--Rn9"
      }
    },
    {
      "cell_type": "code",
      "source": [
        "temperatura = float(input(\"Ingrese la temperatura actual del invernadero: \"))\n",
        "\n",
        "if temperatura > 30:\n",
        "    print(\"La temperatura actual es\", temperatura, \"°C. Activar el sistema de enfriamiento.\")\n",
        "else:\n",
        "    print(\"La temperatura actual es\", temperatura, \"°C. No es necesario activar el sistema de enfriamiento.\")"
      ],
      "metadata": {
        "id": "c6z1lBRQwf0W"
      },
      "execution_count": null,
      "outputs": []
    },
    {
      "cell_type": "markdown",
      "source": [
        "Desafío: Realizar un programa que revise si una nota está aprobada (es decir si es mayor o igual a 4) utilizando un if/else. La nota será ingresada por el usuario usando input()."
      ],
      "metadata": {
        "id": "doz8Xh6N9EVh"
      }
    },
    {
      "cell_type": "code",
      "source": [
        "nota = float(input(\"Ingrese la nota: \"))\n",
        "\n",
        "if nota >= 4:\n",
        "    print(\"La nota es aprobada.\")\n",
        "else:\n",
        "    print(\"La nota es reprobada.\")"
      ],
      "metadata": {
        "id": "_aSQ-lKw9Jjf"
      },
      "execution_count": null,
      "outputs": []
    },
    {
      "cell_type": "markdown",
      "source": [
        "Desafío: Realizar un programa que convierta una nota porcentual del 0 al 100 a una letra entre A y F de acuerdo a la siguiente conversión:\n",
        "\n",
        "```yaml\n",
        "A: 90–100\n",
        "B: 80–89\n",
        "C: 70–79\n",
        "D: 60–69\n",
        "F: 0–59\n",
        "```\n"
      ],
      "metadata": {
        "id": "TVj-eXok9J96"
      }
    },
    {
      "cell_type": "code",
      "source": [
        "nota = float(input(\"Ingrese la nota porcentual: \"))\n",
        "\n",
        "if nota >= 90:\n",
        "    print(\"La nota es A.\")\n",
        "elif nota >= 80:\n",
        "    print(\"La nota es B.\")\n",
        "elif nota >= 70:\n",
        "    print(\"La nota es C.\")\n",
        "elif nota >= 60:\n",
        "    print(\"La nota es D.\")\n",
        "else:\n",
        "    print(\"La nota es F.\")"
      ],
      "metadata": {
        "id": "r3Rg33ct9K3B"
      },
      "execution_count": null,
      "outputs": []
    },
    {
      "cell_type": "markdown",
      "source": [
        "## Minidesafío while:\n",
        "\n"
      ],
      "metadata": {
        "id": "Q-KfdMgyv79A"
      }
    },
    {
      "cell_type": "markdown",
      "source": [
        "Contexto: Tienes un tanque de agua para riego que se está llenando. Sabes que el tanque tiene una capacidad de 1000 litros y que la tasa de flujo hacia el tanque es de 100 litros por hora.\n",
        "\n",
        "Desafío: Escribe un script que simule el tiempo que toma llenar el tanque. Usa un bucle while para incrementar la cantidad de agua en el tanque hasta que se llene. Imprime un mensaje cada hora que indique la cantidad de agua en el tanque.\n",
        "\n",
        "Ejemplo de salida esperada:\n",
        "\n",
        "\n",
        "\n",
        "```yaml\n",
        "1 hora: El tanque tiene 100 litros.\n",
        "2 horas: El tanque tiene 200 litros.\n",
        "...\n",
        "10 horas: El tanque tiene 1000 litros. El tanque está ahora lleno.\n",
        "```\n"
      ],
      "metadata": {
        "id": "LgpYAwGs-PRa"
      }
    },
    {
      "cell_type": "code",
      "source": [
        "capacidad_tanque = 1000\n",
        "tasa_flujo = 100\n",
        "cantidad_agua = 0\n",
        "horas = 0\n",
        "\n",
        "while cantidad_agua < capacidad_tanque:\n",
        "    cantidad_agua += tasa_flujo\n",
        "    horas += 1\n",
        "    print(horas, \"horas: El tanque tiene\", cantidad_agua, \"litros.\")\n",
        "\n",
        "print(\"El tanque está ahora lleno.\")"
      ],
      "metadata": {
        "id": "YuAcEldIwlcM"
      },
      "execution_count": null,
      "outputs": []
    },
    {
      "cell_type": "markdown",
      "source": [
        "Control de Orugas Defoliadoras\n",
        "\n",
        "Supongamos que tienes equipo de muestreo en un campo de cultivo que cuenta el número de orugas defoliadoras. El número de orugas comienza en 0 y aumenta cada día. Cuando el número de orugas alcanza un umbral crítico, se debe aplicar un control.\n",
        "\n",
        "Instrucciones:\n",
        "\n",
        "* Define un número inicial de orugas (por ejemplo, 0).\n",
        "\n",
        "* Cada día, el número de orugas aumenta en un valor fijo (por ejemplo, 1 oruga por día).\n",
        "\n",
        "* Define un umbral crítico de orugas (por ejemplo, 7 orugas).\n",
        "\n",
        "* Utiliza un bucle while para simular el proceso hasta que se alcance el umbral crítico.\n",
        "\n",
        "* Imprime el día, el número de orugas y un mensaje que indique si se debe aplicar control."
      ],
      "metadata": {
        "id": "Hnlot4369rcn"
      }
    },
    {
      "cell_type": "code",
      "source": [
        "numero_inicial_orugas = 0\n",
        "umbral_critico = 7\n",
        "dia = 1\n",
        "\n",
        "while numero_inicial_orugas < umbral_critico:\n",
        "    numero_inicial_orugas += 1\n",
        "    print(\"Día\", dia, \": El número de orugas es\", numero_inicial_orugas, \". No es necesario aplicar control.\")"
      ],
      "metadata": {
        "id": "GHy9IAJo9wEl"
      },
      "execution_count": null,
      "outputs": []
    },
    {
      "cell_type": "markdown",
      "source": [
        "## Minidesafío for:\n",
        "\n"
      ],
      "metadata": {
        "id": "MJeILxJ4wF2B"
      }
    },
    {
      "cell_type": "markdown",
      "source": [
        "Contexto: Eres un agricultor que planea sembrar una hilera de plantas con espacios iguales entre ellas. Dispones de 20 semillas para sembrar en una hilera de 100 metros de largo.\n",
        "\n",
        "Desafío: Escribe un programa que calcule y muestre las posiciones exactas (en metros) donde cada semilla debe ser plantada a lo largo de la hilera. Usa un ciclo for con range para iterar sobre el número de semillas y calcular las posiciones.\n",
        "\n",
        "Ejemplo de salida esperada:\n",
        "\n",
        "\n",
        "\n",
        "```yaml\n",
        "Planta la semilla 1 en la posición 5.0m.\n",
        "Planta la semilla 2 en la posición 10.0m.\n",
        "...\n",
        "Planta la semilla 20 en la posición 100.0m.\n",
        "```\n"
      ],
      "metadata": {
        "id": "wsrZA1Ef-UF3"
      }
    },
    {
      "cell_type": "code",
      "source": [
        "for i in range(1, 21):\n",
        "    posicion = i * 5\n",
        "    print(\"Planta la semilla\", i, \"en la posición\", posicion, \"m.\")"
      ],
      "metadata": {
        "id": "tLNM1xxiwmEx"
      },
      "execution_count": null,
      "outputs": []
    }
  ]
}