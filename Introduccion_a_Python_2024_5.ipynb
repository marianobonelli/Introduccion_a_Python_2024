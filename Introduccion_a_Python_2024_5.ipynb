{
  "nbformat": 4,
  "nbformat_minor": 0,
  "metadata": {
    "colab": {
      "provenance": [],
      "include_colab_link": true
    },
    "kernelspec": {
      "name": "python3",
      "display_name": "Python 3"
    },
    "language_info": {
      "name": "python"
    }
  },
  "cells": [
    {
      "cell_type": "markdown",
      "metadata": {
        "id": "view-in-github",
        "colab_type": "text"
      },
      "source": [
        "<a href=\"https://colab.research.google.com/github/marianobonelli/Introduccion_a_Python_2024/blob/main/Introduccion_a_Python_2024_5.ipynb\" target=\"_parent\"><img src=\"https://colab.research.google.com/assets/colab-badge.svg\" alt=\"Open In Colab\"/></a>"
      ]
    },
    {
      "cell_type": "markdown",
      "source": [
        "# Introducción a la programación y análisis de datos con Python orientado a la producción agropecuaria\n",
        "\n",
        "[![Cronograma](https://img.shields.io/badge/-Cronograma-blue?style=flat&logo=google-docs&logoColor=white)](https://docs.google.com/document/d/1RkiQrAyWAuJglmTdKCfa4QQ4JYHh0Klg6iRRzxSv8cc/edit?usp=sharing) [![Repositorio de GitHub](https://img.shields.io/badge/-Repositorio%20de%20GitHub-blue?style=flat&logo=github&logoColor=white)](https://github.com/marianobonelli/Introduccion_a_Python_2024)\n",
        "\n",
        "\n",
        "\n",
        "\n",
        "**Clase 5: Jueves 5 de Septiembre**\n",
        "\n",
        "\n",
        "Introducción a librerías - Parte I:\n",
        "\n",
        "* Uso de matplotlib y seaborn para visualizar datos.\n",
        "\n",
        "---"
      ],
      "metadata": {
        "id": "Al-INYTSu9hm"
      }
    },
    {
      "cell_type": "markdown",
      "source": [
        "# Matplotlib\n",
        "\n",
        "[<img src=\"https://matplotlib.org/_static/logo_dark.svg\" width=200px>](https://matplotlib.org/stable/gallery/index)\n",
        "\n"
      ],
      "metadata": {
        "id": "hM7PUJCaVpko"
      }
    },
    {
      "cell_type": "markdown",
      "source": [
        "<img src=\"https://matplotlib.org/stable/_images/sphx_glr_barchart_thumb.png\" width=200px><img src=\"https://matplotlib.org/stable/_images/sphx_glr_csd_demo_thumb.png\" width=200px><img src=\"https://matplotlib.org/stable/_images/sphx_glr_scatter_demo2_thumb.png\" width=200px><img src=\"https://matplotlib.org/stable/_images/sphx_glr_step_demo_thumb.png\" width=200px><img src=\"https://matplotlib.org/stable/_images/sphx_glr_multicolored_line_thumb.png\" width=200px>\n",
        "\n",
        "[Matplotlib](https://matplotlib.org/) (**Mat**-h **Plot** **Lib**rary)\n",
        "\n",
        "Matplotlib es una poderosa librería de Python para la visualización de datos, ampliamente utilizada para crear gráficos estáticos, animados e interactivos. Su flexibilidad la convierte en una herramienta esencial para quienes buscan realizar visualizaciones detalladas y personalizadas. Es considerada una biblioteca de bajo nivel para la visualización de datos.\n"
      ],
      "metadata": {
        "id": "t3uTgA-O6b9r"
      }
    },
    {
      "cell_type": "markdown",
      "source": [
        "### Características principales\n",
        "\n",
        "* ***Abstracción detallada:*** Matplotlib permite un control minucioso sobre prácticamente todos los aspectos de un gráfico, desde el tamaño del lienzo y el espaciado, hasta los colores, tipos de líneas y escalas de los ejes. Esta capacidad de personalización es ideal para crear gráficos que se ajusten exactamente a las necesidades del usuario.\n",
        "\n",
        "* ***Flexibilidad:*** Como una biblioteca de bajo nivel, Matplotlib ofrece la posibilidad de construir gráficos muy específicos y adaptados. Sin embargo, esta flexibilidad suele requerir una mayor cantidad de código, lo que implica un esfuerzo adicional en su desarrollo.\n",
        "\n",
        "* ***Curva de Aprendizaje:*** Debido a su naturaleza detallada, Matplotlib puede presentar una curva de aprendizaje más pronunciada, especialmente para usuarios novatos o aquellos que no requieren un alto grado de personalización en sus gráficos.\n",
        "\n",
        "* ***Uso:*** Matplotlib es la elección perfecta cuando se necesita desarrollar gráficos altamente específicos o cuando se trabaja con visualizaciones que no están cubiertas por bibliotecas de más alto nivel."
      ],
      "metadata": {
        "id": "CVUbTHg20r_5"
      }
    },
    {
      "cell_type": "markdown",
      "source": [
        "### Estructura del código:\n",
        "\n",
        "* ***Importación de la Biblioteca:***  Para comenzar a trabajar con Matplotlib, se importa la librería utilizando import matplotlib.pyplot as plt.\n",
        "\n",
        "\n",
        "* ***Creación de la Figura y los Ejes:*** Se emplea plt.subplots() para crear una figura y uno o varios ejes (subgráficos). Por ejemplo, fig, axes = plt.subplots(2, 2, figsize=(12, 10)) genera una figura con 4 subgráficos organizados en 2 filas y 2 columnas.\n",
        "\n",
        "* ***Dibujar en los Ejes:*** Para cada subgráfico, se utilizan métodos como scatter() para gráficos de dispersión o hist() para histogramas. Los ejes específicos en los que se dibuja se especifican, por ejemplo, axes[0, 0].scatter(...).\n",
        "\n",
        "* ***Personalización:*** Se pueden añadir títulos, etiquetas a los ejes, modificar colores, entre otras personalizaciones.\n",
        "\n",
        "* ***Visualización:*** Finalmente, el gráfico se muestra en pantalla utilizando plt.show().\n"
      ],
      "metadata": {
        "id": "HKNpzuo562Cj"
      }
    },
    {
      "cell_type": "markdown",
      "source": [
        "## [Matplotlib cheatsheets and handouts](https://matplotlib.org/cheatsheets/)\n",
        "\n",
        "\n",
        "\n",
        "[<img src=\"https://matplotlib.org/cheatsheets/_images/cheatsheets-1.png\" width=300px>](https://matplotlib.org/cheatsheets/_images/cheatsheets-1.png) [<img src=\"https://matplotlib.org/cheatsheets/_images/cheatsheets-2.png\" width=300px>](https://matplotlib.org/cheatsheets/_images/cheatsheets-2.png)"
      ],
      "metadata": {
        "id": "DiGUZIC1qx0S"
      }
    },
    {
      "cell_type": "code",
      "source": [
        "import requests\n",
        "import pandas as pd"
      ],
      "metadata": {
        "id": "vxC8TjCL7vAd"
      },
      "execution_count": null,
      "outputs": []
    },
    {
      "cell_type": "code",
      "source": [
        "# Definimos la función para extraer datos de Nasa Power\n",
        "def get_climate_data_nasa_power(parameters, longitud, latitud, start, end, format='json'):\n",
        "\n",
        "  response = requests.get(f\"https://power.larc.nasa.gov/api/temporal/daily/point?parameters={parameters}&community=RE&longitude={longitud}&latitude={latitud}&start={start}&end={end}&format={format}\")\n",
        "\n",
        "  # Extraer los datos en formato de diccionario de la respuesta\n",
        "  data = response.json()\n",
        "\n",
        "  return data"
      ],
      "metadata": {
        "id": "cjc0eMFeAGu0"
      },
      "execution_count": null,
      "outputs": []
    },
    {
      "cell_type": "code",
      "source": [
        "parametros = 'T2M,T2M_MAX,T2M_MIN,WS2M,PRECTOTCORR,RH2M'\n",
        "lon = -64.29\n",
        "lat = -33.1\n",
        "inicio = 20240101 # AAAAMMDD\n",
        "fin = 20240115 # AAAAMMDD\n",
        "\n",
        "# Llamado a la función\n",
        "data = get_climate_data_nasa_power(parameters=parametros,\n",
        "                                   longitud=lon,\n",
        "                                   latitud=lat,\n",
        "                                   start=inicio,\n",
        "                                   end=fin)\n",
        "\n",
        "# Extraer la sección relevante del diccionario para crear el DataFrame\n",
        "df = pd.DataFrame(data['properties']['parameter'])\n",
        "\n",
        "df.head()"
      ],
      "metadata": {
        "id": "qD-DRZPMePpm"
      },
      "execution_count": null,
      "outputs": []
    },
    {
      "cell_type": "code",
      "source": [
        "#Lograr las fechas sean una columna en lugar del índice\n",
        "df = df.reset_index() #Reset del indice y genera una nueva columna \"indice\"\n",
        "\n",
        "# Renombrar la columna de fechas\n",
        "df.rename(columns={\n",
        "    'index' : 'Fecha',\n",
        "    'T2M' : 'temperatura',\n",
        "    'T2M_MAX' : 'temperatura_max',\n",
        "    'T2M_MIN' : 'temperatura_min',\n",
        "    'WS2M' : 'velocidad_viento',\n",
        "    'PRECTOTCORR' : 'precipitaciones',\n",
        "    'RH2M' : 'humedad_relativa'\n",
        "    }, inplace=True)\n",
        "\n",
        "# Convertir la fecha al formato Día-Mes-Año\n",
        "df['Fecha'] = pd.to_datetime(df['Fecha'], format='%Y%m%d').dt.strftime('%d-%m-%Y')\n",
        "\n",
        "# Mostrar el DataFrame\n",
        "df.head()"
      ],
      "metadata": {
        "id": "01EBeJ3MIera"
      },
      "execution_count": null,
      "outputs": []
    },
    {
      "cell_type": "markdown",
      "source": [
        "##Importación de la biblioteca"
      ],
      "metadata": {
        "id": "JAkPqm8RvrUp"
      }
    },
    {
      "cell_type": "code",
      "source": [
        "import matplotlib.pyplot as plt"
      ],
      "metadata": {
        "id": "UrXFloVurs8R"
      },
      "execution_count": null,
      "outputs": []
    },
    {
      "cell_type": "markdown",
      "source": [
        "##Crear la figura y los ejes\n",
        "\n",
        "Ahora vamos a crear el gráfico. Para esto, usamos la función plt.subplots(), que crea un lienzo y un \"eje\" donde dibujar.\n",
        "\n",
        "* plt.subplots() crea una figura (fig) y un eje (ax).\n",
        "\n",
        "* figsize=(10, 6) define el tamaño del gráfico, donde 10 representa el ancho y 6 el alto. Esto se puede ajustar según la necesidad.\n",
        "\n"
      ],
      "metadata": {
        "id": "8PRA8cLBrwvk"
      }
    },
    {
      "cell_type": "code",
      "source": [
        "fig, ax = plt.subplots(figsize=(10, 6))"
      ],
      "metadata": {
        "id": "BQssqqRyr3PQ"
      },
      "execution_count": null,
      "outputs": []
    },
    {
      "cell_type": "markdown",
      "source": [
        "## Grafico de evolucion de la temperatura"
      ],
      "metadata": {
        "id": "KQ9d7IxYARhB"
      }
    },
    {
      "cell_type": "code",
      "source": [
        "# Crear la figura y los ejes\n",
        "fig, ax = plt.subplots(figsize=(10, 6))\n",
        "\n",
        "# Dibujar la línea de temperatura\n",
        "ax.plot(df['Fecha'],\n",
        "        df['temperatura'], # Dibuja una línea usando los datos en el eje x (df['Fecha']) y el eje y (df['temperatura'])\n",
        "        color='blue', # Se elige el color azul para la línea\n",
        "        label='Temperatura') # Asigna un nombre a la línea que aparecerá en la leyenda\n",
        "\n",
        "# Añadir título y etiquetas\n",
        "ax.set_title('Evolución de la Temperatura', fontsize=16) # Asigna el título del gráfico (\"Evolución de la Temperatura\")\n",
        "ax.set_xlabel('Fecha', fontsize=12) # Etiqueta para el eje x (\"Fecha\")\n",
        "ax.set_ylabel('Temperatura (°C)', fontsize=12)  # Etiqueta para el eje y (\"Temperatura (°C)\"), y el parámetro fontsize ajusta el tamaño de la fuente\n",
        "plt.xticks(rotation=45) # Rota las etiquetas de los valores del eje x (las fechas) 45 grados para que no se superpongan y se vean más claramente.\n",
        "ax.legend() # Muestra la leyenda en el gráfico, usando el label definido en la línea del gráfico\n",
        "\n",
        "# Mostrar el gráfico\n",
        "plt.show() # Muestra la leyenda en el gráfico, usando el label definido en la línea del gráfico"
      ],
      "metadata": {
        "id": "FQqmJFnZtGdr"
      },
      "execution_count": null,
      "outputs": []
    },
    {
      "cell_type": "markdown",
      "source": [
        "## Gráfico de barras: Comparar precipitaciones por fecha.\n"
      ],
      "metadata": {
        "id": "BE66gCjzeqUE"
      }
    },
    {
      "cell_type": "code",
      "source": [
        "# Crear la figura y los ejes\n",
        "fig, ax = plt.subplots(figsize=(10, 6))\n",
        "\n",
        "# Dibujar el gráfico de barras\n",
        "ax.bar(df['Fecha'],\n",
        "       df['precipitaciones'],\n",
        "       color='green')\n",
        "\n",
        "# Añadir título y etiquetas\n",
        "ax.set_title('Precipitaciones Diarias', fontsize=16)\n",
        "ax.set_xlabel('Fecha', fontsize=12)\n",
        "ax.set_ylabel('Precipitaciones (mm)', fontsize=12)\n",
        "plt.xticks(rotation=45) # Rotar las etiquetas del eje x\n",
        "\n",
        "# Mostrar el gráfico\n",
        "plt.show()"
      ],
      "metadata": {
        "id": "_-MiU6anOjRl"
      },
      "execution_count": null,
      "outputs": []
    },
    {
      "cell_type": "markdown",
      "source": [
        "## Histograma: Distribución de la temperatura máxima."
      ],
      "metadata": {
        "id": "Bpm2jcRkAyBA"
      }
    },
    {
      "cell_type": "code",
      "source": [
        "# Crear la figura y los ejes\n",
        "fig, ax = plt.subplots(figsize=(10, 6))\n",
        "\n",
        "# Dibujar el histograma\n",
        "ax.hist(df['temperatura_max'],\n",
        "        bins=5,\n",
        "        color='orange',\n",
        "        edgecolor='black')\n",
        "\n",
        "# Añadir título y etiquetas\n",
        "ax.set_title('Distribución de la Temperatura Máxima', fontsize=16)\n",
        "ax.set_xlabel('Temperatura Máxima (°C)', fontsize=12)\n",
        "ax.set_ylabel('Frecuencia', fontsize=12)\n",
        "\n",
        "# Mostrar el gráfico\n",
        "plt.show()"
      ],
      "metadata": {
        "id": "wd4hVLUidy9d"
      },
      "execution_count": null,
      "outputs": []
    },
    {
      "cell_type": "markdown",
      "source": [
        "## Gráfico de dispersión (scatter plot): Relación entre la velocidad del viento y la humedad relativa."
      ],
      "metadata": {
        "id": "nC8uCmeqBAsx"
      }
    },
    {
      "cell_type": "code",
      "source": [
        "# Crear la figura y los ejes\n",
        "fig, ax = plt.subplots(figsize=(10, 6))\n",
        "\n",
        "# Dibujar el gráfico de dispersión\n",
        "ax.scatter(df['velocidad_viento'],\n",
        "           df['humedad_relativa'],\n",
        "           color='red')\n",
        "\n",
        "# Añadir título y etiquetas\n",
        "ax.set_title('Velocidad del Viento vs. Humedad Relativa', fontsize=16)\n",
        "ax.set_xlabel('Velocidad del Viento (m/s)', fontsize=12)\n",
        "ax.set_ylabel('Humedad Relativa (%)', fontsize=12)\n",
        "\n",
        "# Mostrar el gráfico\n",
        "plt.show()"
      ],
      "metadata": {
        "id": "tkgRqnEMd2As"
      },
      "execution_count": null,
      "outputs": []
    },
    {
      "cell_type": "markdown",
      "source": [
        "## Múltiples gráficos en una misma figura:\n",
        "\n",
        "`plt.subplots()` te permite crear una cuadrícula de gráficos dentro de una figura. Al especificar el número de filas y columnas, puedes crear múltiples \"ejes\" o gráficos en la misma figura.\n",
        "\n",
        "Ejemplo Básico: Crear una Figura con Múltiples Gráficos\n",
        "Supongamos que deseas crear una figura con dos gráficos (uno al lado del otro):\n",
        "\n",
        "Configurar la Cuadrícula de Gráficos Utilizas plt.subplots(nrows, ncols) donde nrows es el número de filas y ncols es el número de columnas.\n",
        "\n",
        "```python\n",
        "# Crear una figura con 1 fila y 2 columnas de gráficos\n",
        "fig, ax = plt.subplots(nrows=1, ncols=2, figsize=(12, 6))\n",
        "```\n",
        "Esto crea una figura de 12x6 pulgadas con dos gráficos dispuestos en una sola fila.\n",
        "\n",
        "Dibujar en los Ejes Cada elemento de ax es un gráfico independiente. Puedes acceder a cada uno usando `ax[0]`, `ax[1]`, etc., dependiendo de su posición.\n"
      ],
      "metadata": {
        "id": "qomc6_9Rpquw"
      }
    },
    {
      "cell_type": "code",
      "source": [
        "# Crear una figura con 2 filas y 2 columnas de gráficos\n",
        "fig, ax = plt.subplots(nrows=2, ncols=2, figsize=(12, 8))\n",
        "\n",
        "################################################################################\n",
        "# Primer gráfico: Temperatura media\n",
        "\n",
        "ax[0, 0].plot(df['Fecha'],\n",
        "              df['temperatura'],\n",
        "              label='Temperatura Media',\n",
        "              color='orange')\n",
        "\n",
        "ax[0, 0].set_title('Temperatura Media')\n",
        "ax[0, 0].set_xlabel('Fecha')\n",
        "ax[0, 0].set_ylabel('Temperatura (°C)')\n",
        "ax[0, 0].legend()\n",
        "ax[0, 0].tick_params(axis='x', rotation=45)\n",
        "\n",
        "################################################################################\n",
        "# Segundo gráfico: Temperatura máxima y mínima\n",
        "\n",
        "ax[0, 1].plot(df['Fecha'],\n",
        "              df['temperatura_max'],\n",
        "              label='Temperatura Máxima',\n",
        "              color='red')\n",
        "\n",
        "ax[0, 1].plot(df['Fecha'],\n",
        "              df['temperatura_min'],\n",
        "              label='Temperatura Mínima',\n",
        "              color='blue')\n",
        "\n",
        "ax[0, 1].set_title('Temperatura Máxima y Mínima')\n",
        "ax[0, 1].set_xlabel('Fecha')\n",
        "ax[0, 1].set_ylabel('Temperatura (°C)')\n",
        "ax[0, 1].legend()\n",
        "ax[0, 1].tick_params(axis='x', rotation=45)\n",
        "\n",
        "################################################################################\n",
        "# Tercer gráfico: Velocidad del viento\n",
        "\n",
        "ax[1, 0].plot(df['Fecha'],\n",
        "              df['velocidad_viento'],\n",
        "              label='Velocidad del Viento',\n",
        "              color='green')\n",
        "\n",
        "ax[1, 0].set_title('Velocidad del Viento')\n",
        "ax[1, 0].set_xlabel('Fecha')\n",
        "ax[1, 0].set_ylabel('Velocidad (m/s)')\n",
        "ax[1, 0].legend()\n",
        "ax[1, 0].tick_params(axis='x', rotation=45)\n",
        "\n",
        "################################################################################\n",
        "# Cuarto gráfico: Precipitaciones y Humedad Relativa\n",
        "\n",
        "ax[1, 1].plot(df['Fecha'],\n",
        "              df['precipitaciones'],\n",
        "              label='Precipitaciones (mm)',\n",
        "              color='purple')\n",
        "\n",
        "ax[1, 1].plot(df['Fecha'],\n",
        "              df['humedad_relativa'],\n",
        "              label='Humedad Relativa (%)',\n",
        "              color='cyan')\n",
        "\n",
        "ax[1, 1].set_title('Precipitaciones y Humedad Relativa')\n",
        "ax[1, 1].set_xlabel('Fecha')\n",
        "ax[1, 1].set_ylabel('Valor')\n",
        "ax[1, 1].legend()\n",
        "ax[1, 1].tick_params(axis='x', rotation=45)\n",
        "\n",
        "################################################################################\n",
        "\n",
        "# Ajustar el diseño para que los gráficos no se superpongan\n",
        "plt.tight_layout()\n",
        "\n",
        "# Mostrar la figura\n",
        "plt.show()"
      ],
      "metadata": {
        "id": "EEpJt0VxnfaW"
      },
      "execution_count": null,
      "outputs": []
    },
    {
      "cell_type": "markdown",
      "source": [
        "# Seaborn\n",
        "\n",
        "[<img src=\"https://seaborn.pydata.org/_static/logo-wide-lightbg.svg\" width=200px>](https://seaborn.pydata.org/examples/index.html)"
      ],
      "metadata": {
        "id": "FcZi6qo4Wu3T"
      }
    },
    {
      "cell_type": "markdown",
      "source": [
        "<img src=\"https://seaborn.pydata.org/_images/scatterplot_matrix_thumb.png\" width=200px><img src=\"https://seaborn.pydata.org/_images/errorband_lineplots_thumb.png\" width=200px><img src=\"https://seaborn.pydata.org/_images/scatterplot_sizes_thumb.png\" width=200px><img src=\"https://seaborn.pydata.org/_images/horizontal_boxplot_thumb.png\" width=200px><img src=\"https://seaborn.pydata.org/_images/regression_marginals_thumb.png\" width=200px>\n",
        "\n",
        "[Seaborn](https://seaborn.pydata.org/#)\n",
        "\n",
        "Seaborn es una biblioteca de alto nivel diseñada para la creación de gráficos estadísticos en Python. Construida sobre Matplotlib, Seaborn ofrece una interfaz simplificada que facilita la creación de visualizaciones complejas y estéticamente atractivas con un enfoque en el análisis estadístico.\n"
      ],
      "metadata": {
        "id": "kO0DGxuq1e-v"
      }
    },
    {
      "cell_type": "markdown",
      "source": [
        "### Características\n",
        "* ***Abstracción simplificada:*** Seaborn se basa en Matplotlib pero ofrece una capa de abstracción más alta, lo que permite a los usuarios crear gráficos estadísticos comunes de manera más sencilla. Esto hace que sea ideal para quienes buscan generar visualizaciones informativas sin necesidad de un control exhaustivo sobre cada detalle.\n",
        "\n",
        "* ***Facilidad de uso:*** Con Seaborn, es posible producir gráficos complejos y visualmente atractivos con menos líneas de código. La biblioteca incluye una variedad de tipos de gráficos predefinidos y estilos que están optimizados para la claridad y la estética.\n",
        "\n",
        "* ***Funcionalidades estadísticas integradas:*** Seaborn incorpora capacidades estadísticas avanzadas directamente en sus gráficos, como la posibilidad de realizar regresiones lineales o visualizar distribuciones de datos de forma nativa. Esto facilita el análisis exploratorio de datos al permitir una integración fluida de estadísticas y visualización.\n",
        "\n",
        "* ***Uso:***: Seaborn es especialmente adecuado para análisis exploratorios de datos, donde es crucial generar gráficos estadísticos informativos y atractivos de manera rápida y eficiente.\n"
      ],
      "metadata": {
        "id": "1ZyoPtKx7km6"
      }
    },
    {
      "cell_type": "markdown",
      "source": [
        "### Estructura del código\n",
        "\n",
        "* ***Importación de la biblioteca:*** Seaborn se importa con import seaborn as sns.\n",
        "\n",
        "* ***Cargar datos:*** Seaborn trabaja directamente con DataFrames de Pandas. Por ejemplo, iris = sns.load_dataset(\"iris\") carga un conjunto de datos directamente en un DataFrame.\n",
        "\n",
        "* ***Creación de gráficos:*** Seaborn ofrece funciones de alto nivel para crear diversos tipos de gráficos. Por ejemplo, sns.pairplot(iris, hue='species') genera una matriz de gráficos para cada combinación de variables en el DataFrame, coloreadas según una categoría específica.\n",
        "\n",
        "* ***Personalización y estilo:*** Seaborn aplica automáticamente estilos y temas que mejoran la apariencia de los gráficos, con opciones disponibles para personalizar estos aspectos según las necesidades del usuario.\n",
        "\n",
        "* ***Visualización:*** Aunque la visualización suele ocurrir automáticamente al llamar a una función de gráficos en Seaborn, se recomienda utilizar plt.show() para asegurar que el gráfico se renderice correctamente en todos los entornos.\n"
      ],
      "metadata": {
        "id": "aXYQvSh-7my7"
      }
    },
    {
      "cell_type": "markdown",
      "source": [
        "## [Seaborn cheatsheets and handouts](https://www.paradigmadigital.com/assets/cms/cheat_sheet_pandas_seaborn_49f1c67732.pdf)"
      ],
      "metadata": {
        "id": "etid9vhAU45U"
      }
    },
    {
      "cell_type": "markdown",
      "source": [
        "###Comparación con Matplotlib\n",
        "\n",
        "Mientras que Matplotlib ofrece un control total sobre cada aspecto de un gráfico a cambio de una mayor complejidad y cantidad de código, Seaborn simplifica la creación de visualizaciones comunes, permitiendo a los usuarios concentrarse en el análisis y la interpretación de datos."
      ],
      "metadata": {
        "id": "U1a-72DS3ViF"
      }
    },
    {
      "cell_type": "markdown",
      "source": [
        "##Importación de la biblioteca"
      ],
      "metadata": {
        "id": "4pllZamqDEb5"
      }
    },
    {
      "cell_type": "code",
      "source": [
        "import seaborn as sns"
      ],
      "metadata": {
        "id": "jQ3JxNF2OH_A"
      },
      "execution_count": null,
      "outputs": []
    },
    {
      "cell_type": "markdown",
      "source": [
        "##Gráfico de dispersión"
      ],
      "metadata": {
        "id": "NeIpfO2KDRHO"
      }
    },
    {
      "cell_type": "code",
      "source": [
        "plt.figure(figsize=(10, 6))\n",
        "\n",
        "sns.scatterplot(x='temperatura',\n",
        "                y='precipitaciones',\n",
        "                data=df,\n",
        "                hue='velocidad_viento', # Este parámetro se usa para añadir una dimensión adicional al gráfico mediante el color, en este caso velocidad del viento\n",
        "                palette='viridis'\n",
        "                )\n",
        "\n",
        "plt.title('Temperatura vs Precipitaciones')\n",
        "plt.xlabel('Temperatura (°C)')\n",
        "plt.ylabel('Precipitaciones (mm)')\n",
        "plt.legend(title='Velocidad del Viento')\n",
        "\n",
        "plt.show()"
      ],
      "metadata": {
        "id": "AbJQf_alCng2"
      },
      "execution_count": null,
      "outputs": []
    },
    {
      "cell_type": "markdown",
      "source": [
        "##Gráfico de líneas"
      ],
      "metadata": {
        "id": "uGHpRoWNDfxp"
      }
    },
    {
      "cell_type": "code",
      "source": [
        "plt.figure(figsize=(10, 6))\n",
        "\n",
        "sns.lineplot(x='Fecha',\n",
        "             y='temperatura',\n",
        "             data=df,\n",
        "             marker='o',\n",
        "             color='b',\n",
        "             label='Temperatura')\n",
        "\n",
        "sns.lineplot(x='Fecha',\n",
        "             y='temperatura_max',\n",
        "             data=df,\n",
        "             marker='o',\n",
        "             color='r',\n",
        "             label='Temperatura Max')\n",
        "\n",
        "sns.lineplot(x='Fecha',\n",
        "             y='temperatura_min',\n",
        "             data=df,\n",
        "             marker='o',\n",
        "             color='g',\n",
        "             label='Temperatura Min')\n",
        "\n",
        "plt.title('Temperaturas a lo Largo del Tiempo')\n",
        "plt.xlabel('Fecha')\n",
        "plt.ylabel('Temperatura (°C)')\n",
        "plt.legend()\n",
        "plt.xticks(rotation=45)\n",
        "\n",
        "plt.show()"
      ],
      "metadata": {
        "id": "vV0T1WQrCuGL"
      },
      "execution_count": null,
      "outputs": []
    },
    {
      "cell_type": "markdown",
      "source": [
        "##Histograma"
      ],
      "metadata": {
        "id": "Kho1h8p6Dm2c"
      }
    },
    {
      "cell_type": "code",
      "source": [
        "plt.figure(figsize=(10, 6))\n",
        "\n",
        "sns.histplot(df['precipitaciones'],\n",
        "             bins=5, # Define el número de intervalos (bins) en el histograma. En este caso, el rango de los datos se divide en 5 intervalos o barras\n",
        "             kde=True, # kde=True:La KDE es una técnica de estimación de la densidad de probabilidad que suaviza el histograma para mostrar la distribución subyacente de los datos. Esto se representa con una línea suavizada sobre el histograma.\n",
        "             color='blue'\n",
        "             )\n",
        "\n",
        "plt.title('Distribución de Precipitaciones')\n",
        "plt.xlabel('Precipitaciones (mm)')\n",
        "plt.ylabel('Frecuencia')\n",
        "\n",
        "plt.show()"
      ],
      "metadata": {
        "id": "9tpmgIByHEAf"
      },
      "execution_count": null,
      "outputs": []
    },
    {
      "cell_type": "markdown",
      "source": [
        "##Pairplot"
      ],
      "metadata": {
        "id": "x5dWTZ93EG-_"
      }
    },
    {
      "cell_type": "code",
      "source": [
        "plt.figure(figsize=(12, 8))\n",
        "\n",
        "sns.pairplot(df[['temperatura', 'temperatura_max', 'temperatura_min', 'precipitaciones']],\n",
        "             diag_kind='kde',\n",
        "             hue='temperatura')\n",
        "\n",
        "plt.show()"
      ],
      "metadata": {
        "id": "mB5Cd1vGEGdp"
      },
      "execution_count": null,
      "outputs": []
    },
    {
      "cell_type": "markdown",
      "source": [
        "\n",
        "\n",
        "---\n",
        "\n",
        "\n",
        "\n",
        "# Minidesafíos"
      ],
      "metadata": {
        "id": "gTCxcfy2tw-3"
      }
    },
    {
      "cell_type": "markdown",
      "source": [
        "A partir de la función de llamada a la API de NASA POWER obtener los datos de precipitación, humedad de suelo a 5cm (GWETTOP) y humedad de suelo a 100cm (GWETROOT) para las fechas entre el 01 de septiembre del 2023 al 1 de febrero del 2024.\n",
        "\n",
        "Cargar los datos a un dataframe de pandas como se muestra al principio de la clase\n",
        "\n",
        "Graficar los datos en matplotlib y seaborn de la siguiente manera:\n",
        "\n",
        "* 1 grafico de lineas con los datos de humedad de suelo.\n",
        "* 1 grafico de barras con los datos de precipitación.\n",
        "\n",
        "En ambos casos asegurarse de que los gráficos tengan título, leyenda y nombre en los ejes.\n",
        "\n",
        "Para mayor complejidad graficarlos en una misma figura."
      ],
      "metadata": {
        "id": "FH8uutAtH7xY"
      }
    },
    {
      "cell_type": "code",
      "source": [],
      "metadata": {
        "id": "ER4FKIqQKLAx"
      },
      "execution_count": null,
      "outputs": []
    }
  ]
}