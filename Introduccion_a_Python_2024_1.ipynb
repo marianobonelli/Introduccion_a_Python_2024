{
  "nbformat": 4,
  "nbformat_minor": 0,
  "metadata": {
    "colab": {
      "provenance": [],
      "authorship_tag": "ABX9TyMmmb26Sp7aJRoRFUTReCn8",
      "include_colab_link": true
    },
    "kernelspec": {
      "name": "python3",
      "display_name": "Python 3"
    },
    "language_info": {
      "name": "python"
    }
  },
  "cells": [
    {
      "cell_type": "markdown",
      "metadata": {
        "id": "view-in-github",
        "colab_type": "text"
      },
      "source": [
        "<a href=\"https://colab.research.google.com/github/marianobonelli/Introduccion_a_Python_2024/blob/main/Introduccion_a_Python_2024_1.ipynb\" target=\"_parent\"><img src=\"https://colab.research.google.com/assets/colab-badge.svg\" alt=\"Open In Colab\"/></a>"
      ]
    },
    {
      "cell_type": "markdown",
      "source": [
        "# Introducción a la programación y análisis de datos con Python orientado a la producción agropecuaria\n",
        "\n",
        "[![Cronograma](https://img.shields.io/badge/-Cronograma-blue?style=flat&logo=google-docs&logoColor=white)](https://docs.google.com/document/d/1RkiQrAyWAuJglmTdKCfa4QQ4JYHh0Klg6iRRzxSv8cc/edit?usp=sharing)\n",
        "[![Repositorio de GitHub](https://img.shields.io/badge/-Repositorio%20de%20GitHub-blue?style=flat&logo=github&logoColor=white)](https://github.com/marianobonelli/Introduccion_a_Python_2024)\n",
        "\n",
        "<!-- [![Video de la clase](https://img.shields.io/badge/-Video%20de%20la%20clase-blue?style=flat&logo=youtube&logoColor=white)](https://www.youtube.com/) -->\n",
        "---\n",
        "\n",
        "\n",
        "\n",
        "**Clase 1: Lunes 20 de agosto**\n",
        "\n",
        "Introducción:\n",
        "\n",
        "* Introducción a la programación en Python.\n",
        "\n",
        "* Tipos de datos (int, float, boolean, string).\n",
        "\n",
        "* Variables.\n",
        "\n",
        "* Input / Output.\n",
        "\n",
        "* Operadores y operaciones con tipos de datos.\n",
        "\n",
        "\n",
        "---"
      ],
      "metadata": {
        "id": "rMMzXSjZZrIX"
      }
    },
    {
      "cell_type": "markdown",
      "source": [
        "# Introducción a la programación en Python.\n",
        "<img src=\"https://media.geeksforgeeks.org/wp-content/cdn-uploads/20200703121051/Why-is-it-Better-to-Learn-to-Code-on-a-Whiteborard.png\" height=\"300\" alt = \"Code\" title=\"Code\">\n",
        "\n",
        "La programación es el proceso que se utiliza para diseñar e implementar un programa de computadora, valiéndose de algún lenguaje que permita comunicar una serie de acciones que se requiere que la computadora realice. Podemos pensar que es una caja negra que recibe alguna información, la cual es llamada *input* (entrada), realiza alguna acción, y devuelve información, la cual es llamada *output* (salida).\n",
        "\n",
        "<img src=\"https://raw.githubusercontent.com/IEEESBITBA/Curso-Python/master/_assets/BlackBox.png\" height=\"300\" alt = \"Black Box\" title=\"Black Box\">\n",
        "\n",
        "# Lenguajes de programación\n",
        "Un lenguaje de programación es un [lenguaje formal](https://es.wikipedia.org/wiki/Lenguaje_formal) que proporciona una serie de instrucciones, las cuales permiten a un programador escribir secuencias de órdenes para controlar el comportamiento físico y lógico de una computadora, con el objetivo de que produzca diversas acciones deseadas por el programador (¡y los usuarios!).\n",
        "\n",
        "Algunos de los lenguajes mas populares en los últimos tiempos (lejos de ser los únicos) son Python, Java, C++, JavaScript, PHP, etc.\n",
        "\n",
        "<img src=\"https://i.imgur.com/12T9u0f.jpg\" height=\"300\" alt = \"Collage de lenguajes de programación populares\" title=\"Hay varios otros lenguajes, como Go, Go!, Gosu etc. \">"
      ],
      "metadata": {
        "id": "SQTDOGwgcCTf"
      }
    },
    {
      "cell_type": "markdown",
      "source": [
        "## ¿Por qué Python?\n",
        "Elegimos Python porque es uno de los lenguajes de programación con reglas más simples e intuitivas que existen; esto explica la creciente popularidad que ha tenido en los ultimos tiempos.\n",
        "\n",
        "A pesar de su simpleza, es muy utilizado tanto en la industria para servidores y servicios web, así como también en el área académica para redes neuronales, deep learning, simulación, etc.\n",
        "\n",
        "La comunidad de Python es una de las más grandes. Por lo tanto cualquier duda que tengan, a partir de ahora, Google es su amigo: pueden buscar la duda que tengan y seguramente alguien ya haya tenido ese problema. Una de los sitios web más conocidos para este fin es [StackOverflow](https://stackoverflow.com/)."
      ],
      "metadata": {
        "id": "XRJMc3JmdenB"
      }
    },
    {
      "cell_type": "markdown",
      "source": [
        "# Tipos de datos (int, float, boolean, string).\n",
        "\n",
        "## int\n",
        "Es el tipo de dato más básico, con el que pueden almacenarse números enteros.\n",
        "\n",
        "\n",
        "\n",
        "```python\n",
        "912\n",
        "```\n",
        "\n",
        "\n",
        "\n",
        "## float\n",
        "Este tipo de dato es utilizado para almacenar números reales que pueden contener decimales.\n",
        "\n",
        "\n",
        "\n",
        "```python\n",
        "9.12\n",
        "```\n",
        "\n",
        "\n",
        "\n",
        "## boolean\n",
        "Es un tipo de dato que puede tomar dos valores distintos, True (Verdadero) o False (Falso).\n",
        "\n",
        "\n",
        "\n",
        "```python\n",
        "True\n",
        "False\n",
        "```\n",
        "\n",
        "\n",
        "\n",
        "## string\n",
        "Los strings son un tipo de dato utilizado para guardar letras, palabras, oraciones, texto, etc.\n",
        "\n",
        "\n",
        "\n",
        "```python\n",
        "\"Clase 1\"\n",
        "'Clase 1'\n",
        "```\n",
        "\n"
      ],
      "metadata": {
        "id": "1LAp8rT42d59"
      }
    },
    {
      "cell_type": "markdown",
      "source": [
        "# Variables\n",
        "\n",
        "Para poder realizar tareas es necesario guardar en la memoria de la computadora los datos que necesita mi aplicación para funcionar. Por ejemplo, en este momento tu navegador web sabe cuántas pestañas hay abiertas y qué página se abrió en cada una, sabe en qué posición de la página estás y qué usuario utilizaste para entrar a Google Colab. Todos estos datos están almacenados en la memoria de la computadora y el navegador lee estos datos y los modifica cada vez que lo requiere.\n",
        "En programación, se le asigna un nombre o apodo a cada pequeño segmento de la memoria que almacena un dato o un valor. De esta forma en el programa cada vez que se usa este nombre se esta refiriendo al valor del dato almacenado en la memoria. Este es el concepto de \"variable\".\n",
        "En python esto se logra de la siguiente manera:\n",
        "\n",
        "\n",
        "\n",
        "```python\n",
        "x = 5\n",
        "```\n",
        "\n",
        "Este ejemplo utilizará un bloque de la memoria para almacenar el número `5`, luego le asigna a este bloque el nombre `x` y por lo tanto a partir de entonces cada vez que se utiliza la palabra `x` en realidad nos referimos al valor almacenado dentro del bloque de memoria, al cual apodamos `x`.\n",
        "\n",
        "**¿Cómo se interpreta una expresión de asignación?**\n",
        "\n",
        "Es muy importante entender cómo leer una expresión de asignación.\n",
        "Cuando recorras y analices tu código, es preferible que entiendas el significado de la operación:\n",
        "\n",
        "*nombre* = *expresión*\n",
        "\n",
        "Como:\n",
        "* Se **asigna** el valor de *expresión* a *nombre*.\n",
        "\n",
        "Y no como:\n",
        "* ~~*variable* es *igual* a *expresión*~~.\n",
        "\n",
        "Es importante tener en cuenta que no es necesario aclarar de antemano si las variables son textos (Strings) o números, el lenguaje lo puede identificar automáticamente\n",
        "\n",
        "**Reglas para el nombre de una variable:**\n",
        "\n",
        "- Debe empezar con una letra (a-z, A-Z) o un guión bajo (_).\n",
        "- Los otros caracteres pueden ser letras, numeros o guión bajo.\n",
        "- Distingue mayúsculas de minúsculas.\n",
        "- Existen palabras reservadas que no se pueden usar como nombre de variable porque Python las usa para otras cosas. Por ejemplo el nombre de una variable no puede ser print.\n",
        "\n",
        "**Prolijidad y buenas prácticas**\n",
        "\n",
        "Cuando se escribe código, no solamente se está utilizando un lenguaje de programación para poder aprovechar los recursos de una computadora. Al igual que cualquier otra actividad humana, la tarea de programar se vuelve más interesante cuando se realiza junto a otras personas.\n",
        "\n",
        "De hecho, para realizar ciertos trabajos de mucha complejidad, no es posible que un único individuo se encargue de escribir todo el código. Por eso, es importante ser prolijos y utilizar buenas prácticas de programación, para que otras personas puedan entender nuestro código (incluído nuestro yo del futuro) y de esa forma corregirlo o agregarle funcionalidad.\n",
        "\n",
        "Unos tips  que ya pueden a empezar a usar son:\n",
        "* Separar el nombre de la variable, el operador de asignación y la expresión a evaluar con espacios.\n",
        "\n",
        "Es decir, en lugar de escribir:\n",
        "```python\n",
        "x=\"Hola mundo!\"\n",
        "```\n",
        "Es mejor escribir:\n",
        "```python\n",
        "x = \"Hola mundo!\"\n",
        "```\n",
        "\n",
        "* Elegir nombres de variables descriptivos, aunque nos de pereza escribirlos.\n",
        "\n",
        "```python\n",
        "radio = 5\n",
        "pi = 3.14\n",
        "perimetro = 2 * pi * radio\n",
        "areaEsfera = 4 * pi * radio**2\n",
        "volumenEsfera = 4 / 3 * pi * radio**3\n",
        "```\n"
      ],
      "metadata": {
        "id": "sGbxl7RG8uPK"
      }
    },
    {
      "cell_type": "markdown",
      "source": [
        "# Input / Output\n"
      ],
      "metadata": {
        "id": "Mu3DzZksEfYF"
      }
    },
    {
      "cell_type": "markdown",
      "source": [
        "## Output\n",
        "\n",
        "El output de un programa es la manera de transmitir información hacia el entorno externo. Por ejemplo, puede escribir en la consola de la computadora, puede generar una imagen, reproducir un sonido, etc. En Google Colaboratory veremos el output del programa debajo de la celda donde fue ejecutado.\n",
        "\n",
        "Para poder mostrar texto, podemos utilizar la instrucción print( ) poniendo lo que deseemos mostrar entre los paréntesis. Más adelante veremos cómo se pueden generar imágenes, archivos y demás.\n",
        "\n",
        "Tip: En la esquina superior izquierda del cuadro de texto con el código hay un botón para ejecutar el programa"
      ],
      "metadata": {
        "id": "ecX0Ugk5EtZS"
      }
    },
    {
      "cell_type": "code",
      "source": [
        "print('Hola mundo!')"
      ],
      "metadata": {
        "id": "N4nNVYtVIhN_"
      },
      "execution_count": null,
      "outputs": []
    },
    {
      "cell_type": "code",
      "source": [
        "print(123)\n",
        "print(\"Hola, cómo estas?\")\n",
        "print('Buen día')"
      ],
      "metadata": {
        "id": "7wD4nz35E4hv"
      },
      "execution_count": null,
      "outputs": []
    },
    {
      "cell_type": "code",
      "source": [
        "nombre = 'Mariano'\n",
        "print(nombre)"
      ],
      "metadata": {
        "id": "3LNSrGzxE_na"
      },
      "execution_count": null,
      "outputs": []
    },
    {
      "cell_type": "code",
      "source": [
        "apellido = 'Bonelli'\n",
        "print('Mi nombre es:', nombre, apellido)"
      ],
      "metadata": {
        "id": "EbE_1_-oFOyr"
      },
      "execution_count": null,
      "outputs": []
    },
    {
      "cell_type": "markdown",
      "source": [
        "## Input\n",
        "\n",
        "El input de un programa es la manera de recibir información del entorno externo al programa. Esto puede ser un usuario, un archivo, otro programa, un sensor, etc.\n",
        "\n",
        "Para ingresar una variable podemos usar input( \"Texto a mostrar:\" ). Corran este código ustedes para que les de una pequeña casilla donde escribir, y luego el programa escribirá lo que ustedes ingresaron."
      ],
      "metadata": {
        "id": "3nVmGlrZFpO1"
      }
    },
    {
      "cell_type": "code",
      "source": [
        "# Esto es un comentario!\n",
        "# Los comentarios no son ejecutados por Python\n",
        "# De esta forma el programador puede hacer una nota para humanos\n",
        "\n",
        "nombre = input(\"Ingrese su nombre: \")\n",
        "edad = int( input(\"Ingrese su edad: \") )\n",
        "\n",
        "print(\"Su nombre:\", nombre)\n",
        "print(\"Su edad:\", edad)"
      ],
      "metadata": {
        "id": "DYSHK_yAFz43"
      },
      "execution_count": null,
      "outputs": []
    },
    {
      "cell_type": "markdown",
      "source": [
        "# Operadores y operaciones con tipos de datos."
      ],
      "metadata": {
        "id": "23T-khuKGM2T"
      }
    },
    {
      "cell_type": "markdown",
      "source": [
        "## Operaciones de modificación"
      ],
      "metadata": {
        "id": "qDDdAkztHDTn"
      }
    },
    {
      "cell_type": "markdown",
      "source": [
        "No sería muy útil un programa si lo único que podemos hacer es guardar en una variable y mostrarla, por lo que existen algunas operaciones básicas que nos permiten modificar el contenido:\n",
        "\n",
        "- Sumar dos variables ( $a+b$ ):\n",
        "\n",
        "  `a + b`\n",
        "\n",
        "- Restar dos variables ( $a-b$ ):\n",
        "\n",
        "  `a − b`\n",
        "\n",
        "- Multiplicar dos variables ( $a\\cdot b$ ):\n",
        "\n",
        "  `a * b`\n",
        "\n",
        "- Dividir una variable por la otra ( $a\\div b$ ):\n",
        "\n",
        "  `a / b`\n",
        "\n",
        "- Una variable elevada a la otra ( $a^b$ ):\n",
        "\n",
        "  `a ** b`\n",
        "\n",
        "- Asignarle un valor a una variable ( $a\\leftarrow b$ ):\n",
        "\n",
        "  `a = b`\n",
        "  \n",
        "\n",
        "¿Cual será la salida del siguiente programa?"
      ],
      "metadata": {
        "id": "UXIWD5VGGhj-"
      }
    },
    {
      "cell_type": "code",
      "source": [
        "x = 3\n",
        "y = -2\n",
        "y = x*y\n",
        "x = x**2\n",
        "print(\"y =\", y)\n",
        "print(\"x =\", x)"
      ],
      "metadata": {
        "id": "24umXEZoGoVJ"
      },
      "execution_count": null,
      "outputs": []
    },
    {
      "cell_type": "markdown",
      "source": [
        "A veces operando con datos enteros podemos obtener números racionales, por ejemplo:"
      ],
      "metadata": {
        "id": "bJZj2lkvOeke"
      }
    },
    {
      "cell_type": "code",
      "source": [
        "x = 3\n",
        "y = 9\n",
        "print(\"Resultado:\", x/y)"
      ],
      "metadata": {
        "id": "Z_ZaDQWcOhXJ"
      },
      "execution_count": null,
      "outputs": []
    },
    {
      "cell_type": "markdown",
      "source": [
        "Para evitar esto podemos usar el operador división entera // para obtener la parte entera del resultado de la división (cociente):"
      ],
      "metadata": {
        "id": "Y4tlRSr6Oo7s"
      }
    },
    {
      "cell_type": "code",
      "source": [
        "x = 3\n",
        "y = 9\n",
        "print(\"Resultado división entera:\", x//y)"
      ],
      "metadata": {
        "id": "LVfvDeYuOplG"
      },
      "execution_count": null,
      "outputs": []
    },
    {
      "cell_type": "markdown",
      "source": [
        "Si queremos saber el resto de la división entera, usamos el operador módulo % que fue explicado previamente:"
      ],
      "metadata": {
        "id": "tw77eqGdOxt1"
      }
    },
    {
      "cell_type": "code",
      "source": [
        "x = 3\n",
        "y = 9\n",
        "\n",
        "print(\"División entera =\", x // y) # Redondea division hacia abajo\n",
        "print(\"Resto =\",x % y)             # Operación Módulo\n",
        "\n",
        "#Se pueden mostrar varias cosas juntas si se separan con coma dentro de print()\n",
        "print(x // y, \"*\", y, \"+\", x%y,\"=\", x)"
      ],
      "metadata": {
        "id": "DwQtd1F6Oyu6"
      },
      "execution_count": null,
      "outputs": []
    },
    {
      "cell_type": "markdown",
      "source": [
        "Python nos permite ahorrar código combinando el operando **=** con alguno de los anteriormente vistos:\n",
        "\n",
        "*   Suma a la varaible ( $a \\leftarrow a+ b$ ):\n",
        "\n",
        "  `a += b`\n",
        "\n",
        "*   Resta a la variable ( $a \\leftarrow a- b$ ):\n",
        "\n",
        "  `a -= b`\n",
        "\n",
        "*   Multiplica a la variable ( $a \\leftarrow a\\cdot b$ ):\n",
        "\n",
        "  `a *= b`\n",
        "\n",
        "*   Divide a la variable ( $a \\leftarrow a\\div b$ ):\n",
        "\n",
        "  `a /= b`\n",
        "\n",
        "¿Cual será la salida del siguiente codigo?"
      ],
      "metadata": {
        "id": "H5YsyRcFGqC0"
      }
    },
    {
      "cell_type": "code",
      "source": [
        "x = 17\n",
        "x += 3\n",
        "x /= 10\n",
        "print(\"x =\",x)"
      ],
      "metadata": {
        "id": "IRYCC9avG2hi"
      },
      "execution_count": null,
      "outputs": []
    },
    {
      "cell_type": "markdown",
      "source": [
        "**Prolijidad y buenas prácticas**\n",
        "Al igual que al asignar, a veces introducir espacios al escribir expresiones vuelve más legible el código.\n",
        "\n",
        "¿Cúal de las siguientes asignaciones te parece más prolija y entendible?\n",
        "\n",
        "```python\n",
        "a = 5+4/4**5*3-7*x+b\n",
        "```\n",
        "```python\n",
        "a = 5 + 7 / 4**5 * 3 - 7 * x + b\n",
        "```"
      ],
      "metadata": {
        "id": "QuIOMkeqGvcH"
      }
    },
    {
      "cell_type": "markdown",
      "source": [
        "## Operador módulo"
      ],
      "metadata": {
        "id": "jbcftlouHH_N"
      }
    },
    {
      "cell_type": "markdown",
      "source": [
        "El operador módulo se utiliza con el símbolo **%**, y permite calcular el resto de un numero en la división por otro. Por ejemplo:\n",
        "\n",
        "*   $5$ % $3$ $= 2$\n",
        "*   $17$ % $10$ $= 7$\n",
        "*   $9$ % $6$ $= 3$\n",
        "*   $15$ % $5$ $= 0$\n",
        "\n",
        "Podríamos por ejemplo preguntar si el resto de un numero **x** en la division por **y** es igual a 0 y así saber si **x** es multiplo de **y**:"
      ],
      "metadata": {
        "id": "AV2SHAxHHMRZ"
      }
    },
    {
      "cell_type": "code",
      "source": [
        "x = 27\n",
        "y = 9\n",
        "print(\"Resultado:\", x % y )"
      ],
      "metadata": {
        "id": "4-ID7B-dHPdR"
      },
      "execution_count": null,
      "outputs": []
    },
    {
      "cell_type": "markdown",
      "source": [
        "## Operaciones de comparación"
      ],
      "metadata": {
        "id": "fId7LFxRHWCa"
      }
    },
    {
      "cell_type": "markdown",
      "source": [
        "Existen operaciones para comparar propiedades de las variables, que serán especialmente importantes para el próximo tema de la clase. Las principales comparaciones posibles son:\n",
        "\n",
        "*   Menor que ( $a < b$ ):\n",
        "\n",
        " `a < b`\n",
        "\n",
        "*   Mayor que ( $a > b$ ):\n",
        "\n",
        " `a > b`\n",
        "\n",
        "*   Menor o igual que ( $a \\leq b$ ):\n",
        "\n",
        " `a <= b`\n",
        "\n",
        "*   Mayor o igual que ( $a \\geq b$ ):\n",
        "\n",
        " `a >= b`\n",
        "\n",
        "*   Es igual ( $a = b$ ):\n",
        "\n",
        " `a == b` (Ojo: se utilizan 2 símbolos `=` para diferenciarse del operador asignación)\n",
        "\n",
        "*   Es distinto ( $a \\neq b$ ):\n",
        "\n",
        " `a != b`\n",
        "\n",
        "\n",
        "Al comprarar dos números se obtiene True o False (Verdadero o Falso) según si se cumple la condición:"
      ],
      "metadata": {
        "id": "tfno9ih4Hasu"
      }
    },
    {
      "cell_type": "code",
      "source": [
        "x = 4\n",
        "print(\"Es x mayor o igual a 4?\", x >= 4)\n",
        "print(\"Es x menor a 3?\", x < 3)"
      ],
      "metadata": {
        "id": "kr0lQWDkHhxo"
      },
      "execution_count": null,
      "outputs": []
    },
    {
      "cell_type": "markdown",
      "source": [
        "También podemos combinar diversas condiciones:\n",
        "\n",
        "*  Si se cumplen las dos condiciones ( $a \\land b$ ):\n",
        "\n",
        "  `a and b`\n",
        "\n",
        "*  Si se cumple alguna de las condiciones ( $ a \\lor b$ ):\n",
        "\n",
        "  `a or b`\n",
        "\n",
        "*  Si no se cumple esa condición ( $ \\overline{a} $ ):\n",
        "\n",
        "  `not a`\n",
        "\n",
        "\n",
        "Veamos un ejemplo:"
      ],
      "metadata": {
        "id": "9OvJFvRjHkko"
      }
    },
    {
      "cell_type": "code",
      "source": [
        "x = int(input(\"Ingrese un numero:\"))\n",
        "y = x > 5 and x < 7\n",
        "z = x > 5 or x < 7\n",
        "k = not x > 5\n",
        "print(\"x > 5 y x < 7?\", y)\n",
        "print(\"x > 5 ó x < 7?\", z)\n",
        "print(\"Es x NO mayor a 5?\", k)"
      ],
      "metadata": {
        "id": "P-Lc87KXHmZ1"
      },
      "execution_count": null,
      "outputs": []
    },
    {
      "cell_type": "markdown",
      "source": [
        "## Operaciones con String:\n",
        " Al poder trabajar los datos de tipo \"string\" como \"numericos\", podemos realizar diversas operaciones.\n",
        "\n",
        " -Algunas de estas son:\n",
        "\n",
        "  - **len**( $string$ ): obtiene el tamaño de un string."
      ],
      "metadata": {
        "id": "6WiAJtJlJC_P"
      }
    },
    {
      "cell_type": "code",
      "source": [
        "x = \"Hola\"\n",
        "y = 'Adios'\n",
        "\n",
        "print( len(x) )\n",
        "print( len(y) )"
      ],
      "metadata": {
        "id": "iqnNT0ULNjeb"
      },
      "execution_count": null,
      "outputs": []
    },
    {
      "cell_type": "markdown",
      "source": [
        "* **.replace**(*string_viejo*, *string_nuevo*, *cantidad*): cada vez que aparece el *string_viejo* dentro del texto, se reemplaza por el *string_nuevo*. Adicionalmente se puede especificar la *cantidad* de veces que se realizará un reemplazo.\n"
      ],
      "metadata": {
        "id": "6X84R4n8N6MD"
      }
    },
    {
      "cell_type": "code",
      "source": [
        "x = \"acalambrar\"\n",
        "y = x.replace('a', 'e', 2)\n",
        "z = x.replace('a', 'e')\n",
        "print(y)\n",
        "print(z)"
      ],
      "metadata": {
        "id": "RkJTUxZ3N7Fm"
      },
      "execution_count": null,
      "outputs": []
    },
    {
      "cell_type": "markdown",
      "source": [
        "* **f-strings**: permiten crear cadenas de texto que incluyen el valor de variables o expresiones directamente dentro de la cadena. Las variables se colocan dentro de llaves {}. Esto facilita la construcción dinámica de textos sin necesidad de concatenar múltiples cadenas."
      ],
      "metadata": {
        "id": "wWMBK51BYrtj"
      }
    },
    {
      "cell_type": "code",
      "source": [
        "nombre = \"Juan\"\n",
        "edad = 30\n",
        "mensaje = f\"Hola, mi nombre es {nombre} y tengo {edad} años.\"\n",
        "print(mensaje)"
      ],
      "metadata": {
        "id": "5SsLV9SUZfSa"
      },
      "execution_count": null,
      "outputs": []
    },
    {
      "cell_type": "markdown",
      "source": [
        "# Ejercicios:\n",
        "\n"
      ],
      "metadata": {
        "id": "rOducc1BaHoM"
      }
    },
    {
      "cell_type": "markdown",
      "source": [],
      "metadata": {
        "id": "RpLYikrLax1f"
      }
    },
    {
      "cell_type": "code",
      "source": [],
      "metadata": {
        "id": "h3uACpxYax9R"
      },
      "execution_count": null,
      "outputs": []
    },
    {
      "cell_type": "markdown",
      "source": [],
      "metadata": {
        "id": "VkGImcRnayr0"
      }
    },
    {
      "cell_type": "code",
      "source": [],
      "metadata": {
        "id": "aWBXhIZTayyq"
      },
      "execution_count": null,
      "outputs": []
    },
    {
      "cell_type": "markdown",
      "source": [],
      "metadata": {
        "id": "lIX7AeqkazA1"
      }
    },
    {
      "cell_type": "code",
      "source": [],
      "metadata": {
        "id": "pWOzQdHRazH4"
      },
      "execution_count": null,
      "outputs": []
    },
    {
      "cell_type": "markdown",
      "source": [
        "# Anexo: Operaciones con String"
      ],
      "metadata": {
        "id": "1GGRi0MOZyoK"
      }
    },
    {
      "cell_type": "markdown",
      "source": [
        "- *stringA* **in** *stringB*: pregunta si un string aparece dentro de otro (si es un **substring**)."
      ],
      "metadata": {
        "id": "13a-UML4NmkM"
      }
    },
    {
      "cell_type": "code",
      "source": [
        "vocales = \"aeiou\"\n",
        "print( \"a\" in vocales )\n",
        "print( \"eio\" in vocales )\n",
        "print( \"eoi\" in vocales )\n",
        "print( \"z\" in vocales )\n",
        "print( vocales in vocales)"
      ],
      "metadata": {
        "id": "csXxFqO7NoSm"
      },
      "execution_count": null,
      "outputs": []
    },
    {
      "cell_type": "markdown",
      "source": [
        " - **.startswith**( $algo$ ): le preguntamos a la string si empieza con cierto texto."
      ],
      "metadata": {
        "id": "O5cJrzN6NqRA"
      }
    },
    {
      "cell_type": "code",
      "source": [
        "x = 'hola'\n",
        "print( x.startswith('h'))\n",
        "print( x.startswith('x'))"
      ],
      "metadata": {
        "id": "xL6QbS2GNsVL"
      },
      "execution_count": null,
      "outputs": []
    },
    {
      "cell_type": "markdown",
      "source": [
        " - **.endswith**( $algo$ ): le preguntamos a la string si termina con cierto\n",
        "texto."
      ],
      "metadata": {
        "id": "GuCT4BoZNuR7"
      }
    },
    {
      "cell_type": "code",
      "source": [
        "x = 'hola'\n",
        "print( x.endswith('h'))\n",
        "print( x.endswith('a'))"
      ],
      "metadata": {
        "id": "sTIwMb0QNx8Q"
      },
      "execution_count": null,
      "outputs": []
    },
    {
      "cell_type": "markdown",
      "source": [
        " - **[ *índice* ]**: se pueden obtener letras de un string. Entre corchetes se indica el *índice* de la letra deseada, empezando a contar desde cero."
      ],
      "metadata": {
        "id": "sfJvCrE1Nz_P"
      }
    },
    {
      "cell_type": "code",
      "source": [
        "x = 'hola'\n",
        "\n",
        "print( x[0] )\n",
        "print( x[1] )\n",
        "print( x[2] )\n",
        "print( x[3] )\n",
        "\n",
        "print( x[3] + x[2] + x[1] + x[0] + x[3] )"
      ],
      "metadata": {
        "id": "NDUHRBmcN2yU"
      },
      "execution_count": null,
      "outputs": []
    },
    {
      "cell_type": "markdown",
      "source": [
        " - **[ *comienzo* : *fin* ]**: Se puede obtener una secuencia consecutiva de letras de un string. Entre corchetes se indica el índice de la primer letra deseada, luego dos puntos, y por último el índice de la última letra (la última letra no será incluída)."
      ],
      "metadata": {
        "id": "HVxmR3XtN_Ds"
      }
    },
    {
      "cell_type": "code",
      "source": [
        "x = 'programacion'\n",
        "\n",
        "# Ayudín:\n",
        "#  p   r   o   g   r   a   m   a   c   i   o   n\n",
        "#  0   1   2   3   4   5   6   7   8   9   10  11\n",
        "# -12 -11 -10 -9  -8  -7  -6  -5  -4  -3  -2  -1\n",
        "\n",
        "print( x[0:8] )\n",
        "print( x[4:8] )\n",
        "\n",
        "# Se pueden usar signos negativos para referir los índices desde el final para atras\n",
        "print( x[-7:-4] )\n",
        "\n",
        "# Se puede omitir el parametro de fin para seguir hasta el final\n",
        "print( x[8: ])\n",
        "\n",
        "# Se puede omitir el parametro de inicio para comenzar desde el principio\n",
        "print( x[ :8])"
      ],
      "metadata": {
        "id": "GBPZD6k7ODxU"
      },
      "execution_count": null,
      "outputs": []
    },
    {
      "cell_type": "markdown",
      "source": [
        " - **[ *comienzo* : *fin* : *salto* ]**: Se puede obtener una secuencia de letras a una separación regular de un string. Entre corchetes se indica el índice de la primer letra deseada, luego dos puntos, después el índice de la última letra, luego 2 puntos, y por último el salto entre letra y letra (la última letra no será incluída)."
      ],
      "metadata": {
        "id": "WOqVH0lXOL9h"
      }
    },
    {
      "cell_type": "code",
      "source": [
        "x = 'Curso de Python'\n",
        "\n",
        "print( x[0:5:2] )\n",
        "\n",
        "# Se pueden usar signos negativos para referir los índices desde el final para atras\n",
        "# Se puede omitir el parametro de inicio para comenzar desde el principio\n",
        "# Se puede omitir el parametro de fin para seguir hasta el final\n",
        "print( x[0: :3] )\n",
        "\n",
        "# Se puede usar un salto negativo para recorrer el string en sentido inverso\n",
        "print( x[11:1:-2] )\n",
        "# Se puede invertir un string de la siguiente forma\n",
        "print( x[ : :-1] )"
      ],
      "metadata": {
        "id": "nrScF2LUOLOk"
      },
      "execution_count": null,
      "outputs": []
    }
  ]
}