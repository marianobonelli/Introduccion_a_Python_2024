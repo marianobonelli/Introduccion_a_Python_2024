{
  "nbformat": 4,
  "nbformat_minor": 0,
  "metadata": {
    "colab": {
      "provenance": [],
      "include_colab_link": true
    },
    "kernelspec": {
      "name": "python3",
      "display_name": "Python 3"
    },
    "language_info": {
      "name": "python"
    }
  },
  "cells": [
    {
      "cell_type": "markdown",
      "metadata": {
        "id": "view-in-github",
        "colab_type": "text"
      },
      "source": [
        "<a href=\"https://colab.research.google.com/github/marianobonelli/Introduccion_a_Python_2024/blob/main/Introduccion_a_Python_2024_4.ipynb\" target=\"_parent\"><img src=\"https://colab.research.google.com/assets/colab-badge.svg\" alt=\"Open In Colab\"/></a>"
      ]
    },
    {
      "cell_type": "markdown",
      "source": [
        "# Introducción a la programación y análisis de datos con Python orientado a la producción agropecuaria\n",
        "\n",
        "[![Cronograma](https://img.shields.io/badge/-Cronograma-blue?style=flat&logo=google-docs&logoColor=white)](https://docs.google.com/document/d/1RkiQrAyWAuJglmTdKCfa4QQ4JYHh0Klg6iRRzxSv8cc/edit?usp=sharing) [![Repositorio de GitHub](https://img.shields.io/badge/-Repositorio%20de%20GitHub-blue?style=flat&logo=github&logoColor=white)](https://github.com/marianobonelli/Introduccion_a_Python_2024) [![Video de la clase](https://img.shields.io/badge/-Video%20de%20la%20clase-blue?style=flat&logo=youtube&logoColor=white)](https://youtu.be/V862Qnol488)\n",
        "---\n",
        "\n",
        "\n",
        "**Clase 4: Jueves 29 de agosto**\n",
        "\n",
        "\n",
        "Introducción a librerías - Parte I:\n",
        "\n",
        "* Introducción a librerías y ejemplos.\n",
        "\n",
        "* Importación y manejo de datos con requests y pandas.\n",
        "\n",
        "\n",
        "---"
      ],
      "metadata": {
        "id": "Al-INYTSu9hm"
      }
    },
    {
      "cell_type": "markdown",
      "source": [
        "# Introducción a librerías y ejemplos"
      ],
      "metadata": {
        "id": "O0i9IKHHfd4H"
      }
    },
    {
      "cell_type": "markdown",
      "source": [
        "Una *librería* o *biblioteca* es un conjunto de funciones implementadas por otro programador que nos facilitan realizar tareas, principalmente porque no debemos volver a programar este código.\n",
        "\n",
        "<img src=\"http://www.goalexandria.com/wp-content/uploads/2016/02/alt-lib.png\" width=200px>\n",
        "\n",
        "*¿Como usamos una librería?* Primero debemos importarla, para lo cual tenemos opciones. A continuación, se expone la sintaxis general junto con un ejemplo:\n",
        "\n",
        "* Opción 1: importar una librería, sin alias.\n",
        "\n",
        "  > **import** (nombre de la libreria)\n",
        "\n",
        "  ```python\n",
        "  import math\n",
        "\n",
        "  ```\n",
        "\n",
        "* Opción 2: importar una librería, con alias.\n",
        "\n",
        "  > **import** (nombre de la libreria) **as** (nombre abreviado)\n",
        "\n",
        "  ```python\n",
        "  import pandas as pd\n",
        "\n",
        "  ```\n",
        "\n",
        "Las librerías muchas veces están separadas en distintos módulos. Podríamos decir que la librería es como un estante de libros, y en cada libro se encuentran las funciones de un tema en común, incluso un \"libro\" podría estar subdividido en \"capítulos\". Es decir, los distintos módulos de una librería podrían llegar a estar subdivididos en módulos, y cada módulo podría estar nuevamente subdividido.\n",
        "\n",
        "Si lo que queremos son módulos o funciones particulares de una librería, podemos importar de a uno o más de diversas formas.\n",
        "\n",
        "* Opción 1: importar un módulo o función, sin alias.\n",
        "\n",
        "  > **from** (nombre de la libreria) **import** (nombre de un módulo)\n",
        "\n",
        "  ```python\n",
        "  from random import randint\n",
        "\n",
        "  ```\n",
        "\n",
        "* Opción 2: importar más de un módulo o función.\n",
        "\n",
        "  > **from** (nombre de la libreria) **import** (nombre de un módulo), (nombre de otro módulo), ...\n",
        "\n",
        "  ```python\n",
        "  from random import randint, randrange\n",
        "\n",
        "  ```\n",
        "\n",
        "* Opción 3: importar un módulo o función, con un alias.\n",
        "\n",
        "  > **from** (nombre de la libreria) **import** (nombre de un módulo) **as** (nombre abreviado)\n",
        "\n",
        "  ```python\n",
        "  from matplotlib import pyplot as plt\n",
        "\n",
        "  ```\n",
        "\n",
        "* Opción 4: importar un módulo o función, con un alias, otra forma.\n",
        "\n",
        "  > **import** (nombre de la libreria)**.**(nombre de un módulo) **as** (nombre abreviado)\n",
        "\n",
        "  ```python\n",
        "  import matplotlib.pyplot as plt\n",
        "\n",
        "  ```\n",
        "\n",
        "* Opción 5: importar todos los módulos o funciones de una librería.\n",
        "\n",
        "  > **from** (nombre de la librería) **import** * (todo)\n",
        "\n",
        "  ```python\n",
        "  from numpy import *\n",
        "\n",
        "  ```\n",
        "\n",
        "Una vez importada la librería, podremos utilizar las funciones y variables definidas en ella. La utilización de una función o variable dependerá de cómo hayamos realizado la importación. Ejemplos:\n",
        "\n",
        "* Si se importó una librería o módulo:\n",
        "  > (nombre de la libreria/módulo)**.**función*(argumentos)*\n",
        "\n",
        "  > (nombre de la libreria/módulo)**.**(nombre de la variable)\n",
        "\n",
        "  ```python\n",
        "  import math\n",
        "\n",
        "  print(math.sin(math.pi / 2))\n",
        "\n",
        "  ```\n",
        "\n",
        "* Si se importó una función o variable:\n",
        "  > función(argumentos)\n",
        "\n",
        "  > variable\n",
        "\n",
        "  ```python\n",
        "  from math import sin, pi\n",
        "\n",
        "  print(sin(pi / 2))\n",
        "\n",
        "  ```\n",
        "\n",
        "* Si se importó una librería dividida en módulos:\n",
        "\n",
        "  > (nombre de la libreria)**.**(nombre del módulo)**.**función*(argumentos)*\n",
        "\n",
        "  ```python\n",
        "  import matplotlib\n",
        "\n",
        "  datos = [i for i in range(-10, 10)]\n",
        "  print(matplotlib.pyplot.plot(datos, datos))\n",
        "\n",
        "  ```\n",
        "\n",
        "\n",
        "**Notas:**\n",
        "- No es obligatorio especificar un nombre abreviado con **as**, puede utilizarse una librería con su nombre original omitiendo este comando.\n",
        "- No sólo pueden importarse módulos de una librería, sino también funciones sueltas, según lo que necesiten. Siempre tengan cuidado de que los nombres de función sean únicos. Si importan una función directamente entonces no querrán definir su propia función con el mismo nombre.\n",
        "- Es una buena práctica que todas las librerías se importen al principio del programa, o sea que las instrucciones de **import** se encuentren arriba de todo.\n",
        "\n",
        "\n",
        "**Ejemplos:**"
      ],
      "metadata": {
        "id": "u0Pbufygfec5"
      }
    },
    {
      "cell_type": "code",
      "source": [
        "import math  # Importamos la libreria math\n",
        "\n",
        "print('El seno de 0 es ', math.sin(0), 'y el coseno', math.cos(0))"
      ],
      "metadata": {
        "id": "6erFd-mVfvlq"
      },
      "execution_count": null,
      "outputs": []
    },
    {
      "cell_type": "code",
      "source": [
        "from math import sin, cos  # Importamos directamente las funciones que usaremos\n",
        "\n",
        "print('El seno de 0 es ', sin(0), 'y el coseno', cos(0))"
      ],
      "metadata": {
        "id": "8YWCqwEPf0Ao"
      },
      "execution_count": null,
      "outputs": []
    },
    {
      "cell_type": "code",
      "source": [
        "import math as m  # Importamos la libreria math abreviada como m\n",
        "\n",
        "print('El seno de 0 es ', m.sin(0), 'y el coseno', m.cos(0))"
      ],
      "metadata": {
        "id": "XDj4BDvSf2N8"
      },
      "execution_count": null,
      "outputs": []
    },
    {
      "cell_type": "markdown",
      "source": [
        "Si cierta librería no se encuentra instalada en el sistema, entonces el comando *import* para esa librería no funcionará. Usando la herramienta **pip** se pueden instalar librerías nuevas. En este ejemplo, al ejecutar el siguiente bloque de código se instalan las librerías *numpy* y *pandas* en el entorno de Google Colab."
      ],
      "metadata": {
        "id": "etisIdCCfvtl"
      }
    },
    {
      "cell_type": "code",
      "source": [
        "! pip install numpy\n",
        "! pip install scipy"
      ],
      "metadata": {
        "id": "u0RPZqk_fwbf"
      },
      "execution_count": null,
      "outputs": []
    },
    {
      "cell_type": "markdown",
      "source": [
        "# Importación y manejo de datos con pandas"
      ],
      "metadata": {
        "id": "6BuhT_ZngK9K"
      }
    },
    {
      "cell_type": "markdown",
      "source": [
        "Importemos primero algunos archivos con el comando !wget\n",
        "\n",
        "wget es una herramienta de línea de comandos que se utiliza para descargar archivos desde la web. En Google Colab, se puede usar directamente con el signo de exclamación (!) al principio del comando.\n",
        "\n",
        "Cómo funciona wget\n",
        "\n",
        "wget toma una URL como argumento y descarga el contenido del archivo en la ubicación especificada.\n",
        "Puedes usar la opción -O para nombrar el archivo descargado."
      ],
      "metadata": {
        "id": "5VJkQ4F6FxFO"
      }
    },
    {
      "cell_type": "code",
      "source": [
        "# Descargar los archivos usando wget\n",
        "!wget https://raw.githubusercontent.com/marianobonelli/Introduccion_a_Python_2024/main/assets/series-historicas-pizarra.csv -O series-historicas-pizarra.csv\n",
        "!wget https://raw.githubusercontent.com/marianobonelli/Introduccion_a_Python_2024/main/assets/A872824.xls -O A872824.xls\n",
        "!wget https://raw.githubusercontent.com/marianobonelli/Introduccion_a_Python_2024/main/assets/app.csv -O app.csv"
      ],
      "metadata": {
        "id": "n9FR44zXGAVj"
      },
      "execution_count": null,
      "outputs": []
    },
    {
      "cell_type": "markdown",
      "source": [
        "\n",
        "\n",
        "---\n",
        "\n",
        "\n",
        "\n",
        "[Pandas](https://pandas.pydata.org) es una librería muy popular en los últimos tiempos. Nos permite, entre otras cosas, sistematizar con unas pocas funciones la conversión de un archivo de información en los tipos de datos que Python maneja. En esta clase la utilizaremos para poder leer archivos con información en filas y columnas, tales como los formatos **excel** o **csv**.\n",
        "\n",
        "<img src=\"https://upload.wikimedia.org/wikipedia/commons/thumb/e/ed/Pandas_logo.svg/1200px-Pandas_logo.svg.png\" width=600px>"
      ],
      "metadata": {
        "id": "dnL6nXQEiBVX"
      }
    },
    {
      "cell_type": "markdown",
      "source": [
        "A continuación mostraremos un ejemplo donde se accede a la información de un archivo utilizando *pandas*. El archivo que leeremos se llama **california_housing_test.csv**, normalmente desde nuestra computadora podremos acceder a los archivos locales mediante su ubicación en el disco. Colab requiere cargar los archivos a su entorno antes de poder usarlos, este archivo es uno de los archivos de prueba que proporciona colab:"
      ],
      "metadata": {
        "id": "ID-F_WegiYel"
      }
    },
    {
      "cell_type": "code",
      "source": [
        "import pandas as pd"
      ],
      "metadata": {
        "id": "ja72riOEiYsV"
      },
      "execution_count": null,
      "outputs": []
    },
    {
      "cell_type": "markdown",
      "source": [
        "## Formas de leer datos con Pandas"
      ],
      "metadata": {
        "id": "uLqdWJms_q75"
      }
    },
    {
      "cell_type": "code",
      "source": [
        "# Lee un archivo CSV y lo carga en un DataFrame.\n",
        "df = pd.read_csv(\"app.csv\")"
      ],
      "metadata": {
        "id": "MS5D07Ha_vbM"
      },
      "execution_count": null,
      "outputs": []
    },
    {
      "cell_type": "code",
      "source": [
        "# leer el csv, determinar el separador y eliminar las primeras 4 filas\n",
        "\n",
        "df = pd.read_csv(\"archivo.csv\", # ruta al archivo\n",
        "                 sep=\",\", # Aca podemos configurar el separador\n",
        "                 skiprows=4 # Aca podemos eliminar los primeros renglones a la hora de armar el df\n",
        "                 )"
      ],
      "metadata": {
        "id": "f1vlCxUZIpfQ"
      },
      "execution_count": null,
      "outputs": []
    },
    {
      "cell_type": "code",
      "source": [
        "# Lee un archivo Excel (.xlsx, .xls) y lo carga en un DataFrame.\n",
        "df = pd.read_excel()"
      ],
      "metadata": {
        "id": "pRiB2X6K_5SX"
      },
      "execution_count": null,
      "outputs": []
    },
    {
      "cell_type": "code",
      "source": [
        "# Lee un csv a partir de una url\n",
        "url = 'https://raw.githubusercontent.com/marianobonelli/Introduccion_a_Python_2024/main/assets/app.csv'\n",
        "df = pd.read_csv(url)"
      ],
      "metadata": {
        "id": "GGNRZ1JqjD1w"
      },
      "execution_count": null,
      "outputs": []
    },
    {
      "cell_type": "markdown",
      "source": [
        "## Exploración Básica de Datos\n",
        "\n",
        "Antes de analizar los datos, es útil explorarlos para entender su estructura, tipo de datos, y estadísticas básicas. head(), tail(), info() y describe() son métodos útiles para esto."
      ],
      "metadata": {
        "id": "iYeFyAd9loii"
      }
    },
    {
      "cell_type": "markdown",
      "source": [
        "Muestra las primeras 5 filas de un DataFrame."
      ],
      "metadata": {
        "id": "tb4iKEGN9g-K"
      }
    },
    {
      "cell_type": "code",
      "source": [
        "df.head()"
      ],
      "metadata": {
        "id": "D5Y2o4a-lkkR"
      },
      "execution_count": null,
      "outputs": []
    },
    {
      "cell_type": "markdown",
      "source": [
        "Muestra las últimas 5 filas de un DataFrame."
      ],
      "metadata": {
        "id": "e-wn3EPa9xIb"
      }
    },
    {
      "cell_type": "code",
      "source": [
        "df.tail()"
      ],
      "metadata": {
        "id": "m2QH1yz7m-4T"
      },
      "execution_count": null,
      "outputs": []
    },
    {
      "cell_type": "markdown",
      "source": [
        " Muestra un resumen de la información del DataFrame, incluyendo el tipo de datos y el uso de memoria.\n",
        "\n",
        "\n",
        "\n",
        "\n",
        "\n",
        "\n"
      ],
      "metadata": {
        "id": "FBd60SEa95D-"
      }
    },
    {
      "cell_type": "code",
      "source": [
        "df.info()"
      ],
      "metadata": {
        "id": "WkIWGqWBltJ5"
      },
      "execution_count": null,
      "outputs": []
    },
    {
      "cell_type": "markdown",
      "source": [
        " Muestra estadísticas descriptivas del DataFrame para columnas numéricas.\n"
      ],
      "metadata": {
        "id": "FC6KiNo6962w"
      }
    },
    {
      "cell_type": "code",
      "source": [
        "df.describe()"
      ],
      "metadata": {
        "id": "NU4IYpoKlufZ"
      },
      "execution_count": null,
      "outputs": []
    },
    {
      "cell_type": "markdown",
      "source": [
        " Muestra el conteo de valores nulos en cada columna del DataFrame.\n"
      ],
      "metadata": {
        "id": "qxPIXs9T-C8G"
      }
    },
    {
      "cell_type": "code",
      "source": [
        "df.isnull().sum()"
      ],
      "metadata": {
        "id": "BVuAKdxGpaBt"
      },
      "execution_count": null,
      "outputs": []
    },
    {
      "cell_type": "markdown",
      "source": [
        "Merge : Combina dos DataFrames en uno solo"
      ],
      "metadata": {
        "id": "LhbYGG4OCnq4"
      }
    },
    {
      "cell_type": "code",
      "source": [
        "df_a = pd.read_csv(\"app.csv\")\n",
        "df_b = pd.read_csv(\"app.csv\")\n",
        "\n",
        "df_c = pd.merge(df_a, df_b)\n",
        "df_c"
      ],
      "metadata": {
        "id": "6e-Ch8VlBYfs"
      },
      "execution_count": null,
      "outputs": []
    },
    {
      "cell_type": "markdown",
      "source": [
        "Rename : Cambia el nombre de las columnas especificadas en el diccionario."
      ],
      "metadata": {
        "id": "YrHjzq5BDG1U"
      }
    },
    {
      "cell_type": "code",
      "source": [
        "df.rename(columns={'columna_antigua1': 'columna_nueva1', 'columna_antigua2': 'columna_nueva2'})"
      ],
      "metadata": {
        "id": "zRWRbyJFDhco"
      },
      "execution_count": null,
      "outputs": []
    },
    {
      "cell_type": "markdown",
      "source": [
        "Drop : Elimina las columnas especificadas"
      ],
      "metadata": {
        "id": "z-vw8rD0Dqhr"
      }
    },
    {
      "cell_type": "code",
      "source": [
        "df.drop(columns=['columna1', 'columna2'])"
      ],
      "metadata": {
        "id": "gGN2THHhDq6H"
      },
      "execution_count": null,
      "outputs": []
    },
    {
      "cell_type": "markdown",
      "source": [
        "Valores nulos:\n",
        "\n",
        ".isna(): Este método devuelve un DataFrame del mismo tamaño que df, donde cada celda contiene True si el valor es faltante (NA o NaN) y False si no lo es.\n",
        "\n",
        ".sum(): Cuando aplicas .sum() a este DataFrame de valores booleanos, pandas suma los True (que se cuentan como 1) en cada columna. El resultado es una Serie que muestra el conteo de valores NA en cada columna del DataFrame original."
      ],
      "metadata": {
        "id": "torjdB4jCebl"
      }
    },
    {
      "cell_type": "code",
      "source": [
        "df.isna()"
      ],
      "metadata": {
        "id": "JS4310kjC1PL"
      },
      "execution_count": null,
      "outputs": []
    },
    {
      "cell_type": "code",
      "source": [
        "df.isna().sum()"
      ],
      "metadata": {
        "id": "tZ9QEfonC4YD"
      },
      "execution_count": null,
      "outputs": []
    },
    {
      "cell_type": "code",
      "source": [
        "df.isna().sum().sum()"
      ],
      "metadata": {
        "id": "0UUSxEKUCOQM"
      },
      "execution_count": null,
      "outputs": []
    },
    {
      "cell_type": "markdown",
      "source": [
        "Dropna : Se utiliza para eliminar filas con valores nulos (NaN) en un DataFrame de pandas. dropna()"
      ],
      "metadata": {
        "id": "HV2LvObSD-p9"
      }
    },
    {
      "cell_type": "code",
      "source": [
        "df.dropna()"
      ],
      "metadata": {
        "id": "qpOUSt9dD_Iy"
      },
      "execution_count": null,
      "outputs": []
    },
    {
      "cell_type": "markdown",
      "source": [
        "Si deseas eliminar columnas con valores nulos en lugar de filas, puedes usar:"
      ],
      "metadata": {
        "id": "V-NAzLjzEI9l"
      }
    },
    {
      "cell_type": "code",
      "source": [
        "df.dropna(axis=1)"
      ],
      "metadata": {
        "id": "-qaJUvedELGH"
      },
      "execution_count": null,
      "outputs": []
    },
    {
      "cell_type": "markdown",
      "source": [
        "Fillna : se utiliza para reemplazar los valores nulos (NaN) se puede utilizar el método fillna(), especificando el valor."
      ],
      "metadata": {
        "id": "sGF-DNI1EYx6"
      }
    },
    {
      "cell_type": "code",
      "source": [
        "df.fillna(0)"
      ],
      "metadata": {
        "id": "gO7zV49rEfkR"
      },
      "execution_count": null,
      "outputs": []
    },
    {
      "cell_type": "markdown",
      "source": [
        "Ordenar df a partir de una columna"
      ],
      "metadata": {
        "id": "sAwnSn8vNFo8"
      }
    },
    {
      "cell_type": "code",
      "source": [
        "df.sort_values(by='columna')"
      ],
      "metadata": {
        "id": "yDtXNPIlNK2L"
      },
      "execution_count": null,
      "outputs": []
    },
    {
      "cell_type": "markdown",
      "source": [
        "## Selección y Filtrado de Datos\n",
        "\n",
        "Pandas permite seleccionar columnas específicas y filtrar filas según ciertos criterios. Esto es fundamental para enfocar el análisis en datos relevantes."
      ],
      "metadata": {
        "id": "AiEGiYyfnGzT"
      }
    },
    {
      "cell_type": "code",
      "source": [
        "# Selección de los valores de una columna\n",
        "\n",
        "df['Velocidad_']"
      ],
      "metadata": {
        "id": "Wvn-vMSuny6R"
      },
      "execution_count": null,
      "outputs": []
    },
    {
      "cell_type": "code",
      "source": [
        "print('Media: ', df['Velocidad_'].mean())\n",
        "print('Max: ', df['Velocidad_'].max())\n",
        "print('Min: ', df['Velocidad_'].min())\n",
        "print('Desvío: ', df['Velocidad_'].std())"
      ],
      "metadata": {
        "id": "rG4xowh3oCN_"
      },
      "execution_count": null,
      "outputs": []
    },
    {
      "cell_type": "code",
      "source": [
        "# Filtrado:\n",
        "# Seleccionar los valores del df donde los valores de esta columna son x\n",
        "\n",
        "df_filtrado = df[df['Velocidad_'] >= 3.5]\n",
        "df_filtrado"
      ],
      "metadata": {
        "id": "gAtCMRE7nMdg"
      },
      "execution_count": null,
      "outputs": []
    },
    {
      "cell_type": "markdown",
      "source": [
        "## Guardar Datos Procesados\n",
        "\n",
        "Después de procesar y analizar los datos, es común guardar el resultado. Pandas permite exportar los DataFrame a diferentes formatos, como CSV, Excel, entre otros."
      ],
      "metadata": {
        "id": "Sp3xMa8Opj22"
      }
    },
    {
      "cell_type": "code",
      "source": [
        "df_filtrado.to_csv('datos_modificados.csv', index=False)"
      ],
      "metadata": {
        "id": "LRuNR_QCpo1D"
      },
      "execution_count": null,
      "outputs": []
    },
    {
      "cell_type": "markdown",
      "source": [
        "# Introducción a **requests**"
      ],
      "metadata": {
        "id": "-xSNtfKRNYro"
      }
    },
    {
      "cell_type": "markdown",
      "source": [
        "\n",
        "[requests](https://requests.readthedocs.io/en/latest/user/quickstart/#make-a-request) es una librería de Python que facilita hacer solicitudes HTTP de manera sencilla y eficiente. Permite interactuar con APIs y descargar datos de la web.\n",
        "\n",
        "<img src=\"https://requests.readthedocs.io/en/latest/_static/requests-sidebar.png\" width=300px>\n",
        "\n",
        "### Qué es una API?\n",
        "\n",
        "\n",
        "Una API (Application Programming Interface, o Interfaz de Programación de Aplicaciones) es un conjunto de definiciones y protocolos que permite a diferentes aplicaciones comunicarse entre sí. Las APIs permiten que los desarrolladores utilicen las funcionalidades de un software o servicio sin tener que conocer cómo está implementado internamente.\n",
        "\n",
        "¿Cómo funcionan las APIs?\n",
        "Intermediario: Actúan como intermediarios entre dos sistemas, permitiendo que un programa solicite datos o realice acciones en otro programa.\n",
        "Estandarización: Las APIs definen un conjunto de reglas sobre cómo una aplicación puede interactuar con otra, proporcionando métodos y rutas específicas para acceder a datos y servicios.\n",
        "Ejemplos comunes: APIs de redes sociales (Facebook, Twitter), APIs de pagos (PayPal, Stripe), APIs de datos climáticos (NASA, OpenWeather), entre muchas otras.\n",
        "Ejemplo práctico\n",
        "Un ejemplo clásico es cuando una app de clima utiliza la API de un servicio meteorológico para obtener y mostrar el pronóstico del tiempo. La app envía una solicitud a la API con la ubicación del usuario, y la API devuelve la información del clima.\n",
        "\n",
        "Las APIs son esenciales para integrar servicios, automatizar procesos y crear aplicaciones modernas que puedan interactuar con múltiples fuentes de datos y funcionalidades."
      ],
      "metadata": {
        "id": "CWv_eLQVNcnF"
      }
    },
    {
      "cell_type": "code",
      "source": [
        "import requests\n",
        "\n",
        "# Haciendo una solicitud GET\n",
        "response = requests.get('https://dolarapi.com/v1/dolares/tarjeta')\n",
        "\n",
        "# Imprimiendo el contenido de la respuesta\n",
        "print(response.text)"
      ],
      "metadata": {
        "id": "t__AqXIjOOFS"
      },
      "execution_count": null,
      "outputs": []
    },
    {
      "cell_type": "markdown",
      "source": [
        "Una Response en la librería requests de Python contiene varios componentes útiles que permiten manejar y analizar la respuesta de una solicitud HTTP. Aquí tienes los componentes más importantes:\n",
        "\n",
        "## Componentes de una response\n",
        "**status_code**: El código de estado HTTP que indica si la solicitud fue exitosa o si hubo algún error (200 para éxito, 404 para no encontrado, etc.)."
      ],
      "metadata": {
        "id": "7DiL91OXPQDp"
      }
    },
    {
      "cell_type": "code",
      "source": [
        "print(response.status_code)"
      ],
      "metadata": {
        "id": "Px_1-fu9Pb7_"
      },
      "execution_count": null,
      "outputs": []
    },
    {
      "cell_type": "code",
      "source": [
        "# Verificar si la solicitud fue exitosa\n",
        "if response.status_code == 200:\n",
        "  print('Solicitud exitosa')\n",
        "else:\n",
        "  print('Hubo un problema con la solicitud')"
      ],
      "metadata": {
        "id": "se98fiNSQ_Zq"
      },
      "execution_count": null,
      "outputs": []
    },
    {
      "cell_type": "markdown",
      "source": [
        "**text**: El contenido de la respuesta como una cadena de texto (en formato HTML, JSON, etc.).\n",
        "\n"
      ],
      "metadata": {
        "id": "9WH20K5QPjrA"
      }
    },
    {
      "cell_type": "code",
      "source": [
        "print(response.text)"
      ],
      "metadata": {
        "id": "xbbbXgCiPlC8"
      },
      "execution_count": null,
      "outputs": []
    },
    {
      "cell_type": "markdown",
      "source": [
        "**content**: El contenido de la respuesta en bytes, útil para trabajar con datos binarios como imágenes o archivos."
      ],
      "metadata": {
        "id": "0B39N5tdPonY"
      }
    },
    {
      "cell_type": "code",
      "source": [
        "print(response.content)"
      ],
      "metadata": {
        "id": "0Wr6FSS9Pqo_"
      },
      "execution_count": null,
      "outputs": []
    },
    {
      "cell_type": "markdown",
      "source": [
        "**json()**: Si la respuesta está en formato JSON, puedes convertirla directamente a un diccionario de Python usando este método."
      ],
      "metadata": {
        "id": "OEUHFf7LPvky"
      }
    },
    {
      "cell_type": "code",
      "source": [
        "data = response.json()\n",
        "print(data)"
      ],
      "metadata": {
        "id": "8_m4nj_kPyDC"
      },
      "execution_count": null,
      "outputs": []
    },
    {
      "cell_type": "markdown",
      "source": [
        "**headers**: Un diccionario que contiene los encabezados de la respuesta, como el tipo de contenido, la longitud, y más."
      ],
      "metadata": {
        "id": "n-lv1HacP0_5"
      }
    },
    {
      "cell_type": "code",
      "source": [
        "print(response.headers)"
      ],
      "metadata": {
        "id": "8YQrrK8bP2f1"
      },
      "execution_count": null,
      "outputs": []
    },
    {
      "cell_type": "markdown",
      "source": [
        "**url**: La URL final de la solicitud, que puede diferir de la original si hubo redirecciones.\n",
        "\n",
        "Recomendamos tener instalado en el navegador la extensión: [JSON formatter](https://chromewebstore.google.com/detail/bcjindcccaagfpapjjmafapmmgkkhgoa)"
      ],
      "metadata": {
        "id": "HyQQYTCpP-GC"
      }
    },
    {
      "cell_type": "code",
      "source": [
        "print(response.url)"
      ],
      "metadata": {
        "id": "6VQyH7-nP_lu"
      },
      "execution_count": null,
      "outputs": []
    },
    {
      "cell_type": "markdown",
      "source": [
        "**encoding**: La codificación de caracteres de la respuesta (por defecto, intenta detectar la codificación basada en los encabezados de la respuesta)."
      ],
      "metadata": {
        "id": "EO6HYUQmQDyW"
      }
    },
    {
      "cell_type": "code",
      "source": [
        "print(response.encoding)"
      ],
      "metadata": {
        "id": "YbIK86H0QFJU"
      },
      "execution_count": null,
      "outputs": []
    },
    {
      "cell_type": "markdown",
      "source": [
        "**cookies**: Las cookies enviadas por el servidor en la respuesta, representadas como un objeto de tipo RequestsCookieJar."
      ],
      "metadata": {
        "id": "a-jgCWvcQH83"
      }
    },
    {
      "cell_type": "code",
      "source": [
        "print(response.cookies)"
      ],
      "metadata": {
        "id": "dvgRfDuyQJm4"
      },
      "execution_count": null,
      "outputs": []
    },
    {
      "cell_type": "markdown",
      "source": [
        "**elapsed**: Tiempo que tomó la solicitud en completarse, representado como un objeto timedelta."
      ],
      "metadata": {
        "id": "KMhPbI2GQM8c"
      }
    },
    {
      "cell_type": "code",
      "source": [
        "print(response.elapsed)"
      ],
      "metadata": {
        "id": "dlAp7E0zQOa_"
      },
      "execution_count": null,
      "outputs": []
    },
    {
      "cell_type": "markdown",
      "source": [
        "**history**: Lista de respuestas previas si hubo redirecciones. Cada elemento es una Response anterior."
      ],
      "metadata": {
        "id": "pmcB0LXXQTRF"
      }
    },
    {
      "cell_type": "code",
      "source": [
        "print(response.history)"
      ],
      "metadata": {
        "id": "PVLyjFEWQVDc"
      },
      "execution_count": null,
      "outputs": []
    },
    {
      "cell_type": "markdown",
      "source": [
        "**reason**: Explicación en texto del código de estado HTTP (por ejemplo, \"OK\" para 200).\n",
        "\n"
      ],
      "metadata": {
        "id": "Z1ioBy80QZTF"
      }
    },
    {
      "cell_type": "code",
      "source": [
        "print(response.reason)"
      ],
      "metadata": {
        "id": "w1iIdv-jQaXW"
      },
      "execution_count": null,
      "outputs": []
    },
    {
      "cell_type": "markdown",
      "source": [
        "**ok**: Devuelve True si el código de estado es menor que 400, lo que indica que la solicitud fue exitosa."
      ],
      "metadata": {
        "id": "pk_4cPcuQdby"
      }
    },
    {
      "cell_type": "code",
      "source": [
        "print(response.ok)"
      ],
      "metadata": {
        "id": "7umolGFXQe-C"
      },
      "execution_count": null,
      "outputs": []
    },
    {
      "cell_type": "markdown",
      "source": [
        "## Obtención de datos agrocimáticos a partir de la API de NASA POWER\n",
        "\n",
        "[Tutorial](https://power.larc.nasa.gov/docs/tutorials/api-getting-started/) para el armado de la API de NASA POWER\n",
        "\n",
        "[Link](https://power.larc.nasa.gov/data-access-viewer/) al panel de NASA POWER\n",
        "\n",
        "\n",
        "<video width=\"800\" controls>\n",
        "  <source src=\"https://power.larc.nasa.gov/docs/tutorials/data-access-viewer/video/api-demo-from-dave.mp4\" type=\"video/mp4\">\n",
        "</video>\n",
        "\n"
      ],
      "metadata": {
        "id": "4YsUgb-Cbj8p"
      }
    },
    {
      "cell_type": "code",
      "source": [
        "parameters = 'GWETTOP,GWETROOT,PRECTOTCORR'\n",
        "longitud = -64.29\n",
        "latitud = -33.1\n",
        "start = 20240101 # AAAAMMDD\n",
        "end = 20240115 # AAAAMMDD\n",
        "\n",
        "response = requests.get(f\"https://power.larc.nasa.gov/api/temporal/daily/point?parameters={parameters}&community=RE&longitude={longitud}&latitude={latitud}&start={start}&end={end}&format=json\")\n",
        "\n",
        "# Imprimiendo el contenido de la respuesta\n",
        "print(response.url)"
      ],
      "metadata": {
        "id": "Lm2MsyTKcA81"
      },
      "execution_count": null,
      "outputs": []
    },
    {
      "cell_type": "markdown",
      "source": [
        "# Minidesafíos"
      ],
      "metadata": {
        "id": "pSLIYwZm5dp1"
      }
    },
    {
      "cell_type": "markdown",
      "source": [
        "## Minidesafíos **requests**:\n",
        "\n"
      ],
      "metadata": {
        "id": "VmqOujnEeZEb"
      }
    },
    {
      "cell_type": "markdown",
      "source": [
        "### 1. Armar un llamado a la API de power.larc.nasa.gov y obtener los datos de precipitación, temperatura mínima, temperatura media, temperatura máxima para una coordenada y un rango de fechas a elección."
      ],
      "metadata": {
        "id": "AU_dG3OJV_KE"
      }
    },
    {
      "cell_type": "code",
      "source": [],
      "metadata": {
        "id": "nMbOIiizWMOM"
      },
      "execution_count": null,
      "outputs": []
    },
    {
      "cell_type": "markdown",
      "source": [
        "### 2. Obtener los datos tanto como json y como csv"
      ],
      "metadata": {
        "id": "u-RocdzeWDAw"
      }
    },
    {
      "cell_type": "code",
      "source": [],
      "metadata": {
        "id": "6_cVUvn_WMxp"
      },
      "execution_count": null,
      "outputs": []
    },
    {
      "cell_type": "markdown",
      "source": [
        "## Minidesafíos Pandas"
      ],
      "metadata": {
        "id": "i-Q1TQOu7FJg"
      }
    },
    {
      "cell_type": "markdown",
      "source": [
        "### 1. Leer el csv con pandas y visualizar el dataframe"
      ],
      "metadata": {
        "id": "hpCym6YW9bMD"
      }
    },
    {
      "cell_type": "code",
      "source": [],
      "metadata": {
        "id": "2MKnpgl_7Y80"
      },
      "execution_count": null,
      "outputs": []
    },
    {
      "cell_type": "markdown",
      "source": [
        "### 2. Descripción del dataframe:\n",
        "\n",
        "Visualizar los tipos de datos almacenados con .info() y calcular estadísticas descriptivas con .describe()"
      ],
      "metadata": {
        "id": "BPf4peYe9uuA"
      }
    },
    {
      "cell_type": "code",
      "source": [],
      "metadata": {
        "id": "FgLXqFu29_Nm"
      },
      "execution_count": null,
      "outputs": []
    },
    {
      "cell_type": "markdown",
      "source": [
        "### 3. Obtener los valores medios para cada columna del periodo:\n",
        "\n"
      ],
      "metadata": {
        "id": "9U46WFo89_dN"
      }
    },
    {
      "cell_type": "code",
      "source": [],
      "metadata": {
        "id": "K3ZXcR_k_WJu"
      },
      "execution_count": null,
      "outputs": []
    },
    {
      "cell_type": "markdown",
      "source": [
        "### 4. Contabilizar los días que tuvieron valores por encima de la media para cada columna:\n",
        "\n"
      ],
      "metadata": {
        "id": "toRZ80CB_ig5"
      }
    },
    {
      "cell_type": "code",
      "source": [],
      "metadata": {
        "id": "-VDKHBYf_w6y"
      },
      "execution_count": null,
      "outputs": []
    },
    {
      "cell_type": "markdown",
      "source": [
        "### 5. Contabilizar los días que tuvieron valores bajo cero de temperatura mínima:"
      ],
      "metadata": {
        "id": "Sq7HnabqVUtZ"
      }
    },
    {
      "cell_type": "code",
      "source": [],
      "metadata": {
        "id": "Uxw3X7lMhZtO"
      },
      "execution_count": null,
      "outputs": []
    },
    {
      "cell_type": "markdown",
      "source": [
        "# Anexo"
      ],
      "metadata": {
        "id": "xFwPx6tVE2dL"
      }
    },
    {
      "cell_type": "markdown",
      "source": [
        "En este anexo incluimos el uso de la librería [ydata-profiling](https://pypi.org/project/ydata-profiling/), la cual genera un reporte a partir de un DataFrame de pandas.\n",
        "\n",
        "Es importante tener en cuenta que, para utilizarla, primero hay que instalar la librería. Sin embargo, algunas de sus dependencias pueden entrar en conflicto con las versiones ya preinstaladas en Colab, lo que nos pedirá reiniciar el entorno. Una vez reiniciado, debemos volver a instalar todo, y esta vez ya no presentará problemas."
      ],
      "metadata": {
        "id": "4-sByGUkFApM"
      }
    },
    {
      "cell_type": "code",
      "source": [
        "# el comando %%capture captura la salida del código para evitar que se muestre\n",
        "# en este caso la estamos utilizando para que evite mostrar todo el proceso de instalación de la librería\n",
        "\n",
        "!pip install numba==0.56.4\n",
        "!pip install ydata_profiling\n",
        "from ydata_profiling import ProfileReport"
      ],
      "metadata": {
        "id": "Mb4RqPomFmbO"
      },
      "execution_count": null,
      "outputs": []
    },
    {
      "cell_type": "code",
      "source": [
        "profile = ProfileReport(df, title=\"Profiling Report\") # Reemplazar df por el nombre de la variable que le hayan asignado al dataframe\n",
        "profile"
      ],
      "metadata": {
        "id": "tddKuGGZm-0b"
      },
      "execution_count": null,
      "outputs": []
    }
  ]
}