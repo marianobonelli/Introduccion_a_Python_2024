{
  "nbformat": 4,
  "nbformat_minor": 0,
  "metadata": {
    "colab": {
      "provenance": [],
      "include_colab_link": true
    },
    "kernelspec": {
      "name": "python3",
      "display_name": "Python 3"
    },
    "language_info": {
      "name": "python"
    }
  },
  "cells": [
    {
      "cell_type": "markdown",
      "metadata": {
        "id": "view-in-github",
        "colab_type": "text"
      },
      "source": [
        "<a href=\"https://colab.research.google.com/github/marianobonelli/Introduccion_a_Python_2024/blob/main/Introduccion_a_Python_2024_3.ipynb\" target=\"_parent\"><img src=\"https://colab.research.google.com/assets/colab-badge.svg\" alt=\"Open In Colab\"/></a>"
      ]
    },
    {
      "cell_type": "markdown",
      "source": [
        "# Introducción a la programación y análisis de datos con Python orientado a la producción agropecuaria\n",
        "\n",
        "[![Cronograma](https://img.shields.io/badge/-Cronograma-blue?style=flat&logo=google-docs&logoColor=white)](https://docs.google.com/document/d/1wDjkT1pYXirQgByWfcu82Szsbn8249sRxHX0E7leNog/edit?usp=sharing)\n",
        "[![Canal de Discord](https://img.shields.io/badge/-Discord-blue?style=flat&logo=discord&logoColor=white)](https://discord.gg/WaA2uTp4)\n",
        "[![Video de la clase](https://img.shields.io/badge/-Video%20de%20la%20clase-blue?style=flat&logo=youtube&logoColor=white)](https://youtu.be/RPxx7jjAeYE)\n",
        "[![Repositorio de GitHub](https://img.shields.io/badge/-Repositorio%20de%20GitHub-blue?style=flat&logo=github&logoColor=white)](https://github.com/marianobonelli/Introduccion_a_Python_2023)\n",
        "\n",
        "\n",
        "---\n",
        "\n",
        "\n",
        "\n",
        "**Clase 3: Lunes 13 de noviembre**\n",
        "\n",
        "\n",
        "Estructuras de datos:\n",
        "\n",
        "* Listas.\n",
        "\n",
        "* Operaciones con listas.\n",
        "\n",
        "* Estructuras de datos (Dictionary, Set, Tuple).\n",
        "\n",
        "* Operaciones con estructuras de datos.\n",
        "\n",
        "\n",
        "\n",
        "---"
      ],
      "metadata": {
        "id": "Al-INYTSu9hm"
      }
    },
    {
      "cell_type": "markdown",
      "source": [
        "# Funciones\n",
        "\n",
        "Podemos pensar que una función es como tomar un conjunto de instrucciones y empaquetarlas bajo el mismo nombre, es como un pequeño programa dentro del programa, una manera de crear nuestras propias instrucciones. Las funciones son bloques que nos permiten acortar el código, no repitiendo estructuras que necesitamos utilizar mucho. Al igual que los programas las funciones tienen un *input* y un *output*: el input son las variables de entrada y su output es el valor o valores que devuelven.\n",
        "\n",
        "Por ejemplo, supongamos que frecuentemente necesito calcular las ganancias totales generadas por cierto producto que se encuentra a la venta en mi negocio. Cada vez que quiera realizar este cálculo tendré que obtener el costo de venta, restarle el costo de fabricación y multiplicarlo por la cantidad de ventas. Usando una función puedo crear mi propia instrucción a la que se le ingrese el código de producto y devuelva el resultado. Así puedo escribir el nombre de la función cada vez que quiera hacer este cálculo sin tener que escribir nuevamente el procedimiento completo.\n",
        "\n",
        "En Python las funciones se implementan de la siguiente forma:\n",
        "\n",
        "```python\n",
        "def miFuncion( a , b , c , ...):\n",
        "    \n",
        "    #Hago lo que necesite con las variables a, b, c, ...\n",
        "    \n",
        "    return x , y , z , ...\n",
        "```\n",
        "En este ejemplo, el nombre de la función es `miFuncion`, los parámetros de entrada son las variables `a , b , c , ...` que se indican entre paréntesis, y los parámetros que la función devuelve son `x , y , z , ...` que se indican con la instrucción **return**.\n",
        "\n",
        "En el caso de que la función no necesite recibir información, los paréntesis se deben dejar vacíos. Al ejecutar la función no hay que olvidarse de escribir estos paréntesis, incluso aunque estén vacíos. Es la forma que tiene Python de diferenciar variables de funciones:"
      ],
      "metadata": {
        "id": "lz6Wp_0aGhSt"
      }
    },
    {
      "cell_type": "code",
      "source": [
        "def saludar():\n",
        "    print( \"¡Hola! Que tengas un buen día :)\")\n",
        "\n",
        "print(\"A continuación se imprimirán tres saludos:\")\n",
        "saludar()\n",
        "saludar()\n",
        "saludar()"
      ],
      "metadata": {
        "id": "9bHpYFBkGlR8"
      },
      "execution_count": null,
      "outputs": []
    },
    {
      "cell_type": "markdown",
      "source": [
        "Noten que no siempre es necesario poner la instrucción **return** al final de la función. En este caso la función termina cuando finaliza el bloque indentado (con sangría).\n",
        "\n",
        "Es importante tener en cuenta que la *definición* de la función no provoca ninguna acción, solamente le indica a la computadora que la próxima vez que se escriba el nombre de la función, esta debe realizar las instrucciones indicadas por la definición. En consecuencia, en preferible escribir todas las definiciones de funciones al inicio del programa, así estarán definidas para cuando se las quiera ejecutar más adelante.\n",
        "\n",
        "Veamos un ejemplo:"
      ],
      "metadata": {
        "id": "APXn4gKvGrH2"
      }
    },
    {
      "cell_type": "code",
      "source": [
        "def suma(a, b):\n",
        "    s = a + b\n",
        "    return s\n",
        "\n",
        "z = suma(3, 4)\n",
        "print(\"3 + 4 =\", z)\n",
        "\n",
        "x = int(input(\"Ingrese el primer sumando: \"))\n",
        "y = int(input(\"Ingrese el segundo sumando: \"))\n",
        "z = suma(x, y)\n",
        "print(\"x + y =\", z)"
      ],
      "metadata": {
        "id": "iMRTJCeTGt0z"
      },
      "execution_count": null,
      "outputs": []
    },
    {
      "cell_type": "markdown",
      "source": [
        "En este ejemplo podemos ver que los nombres que le damos a las variables de input (`a, b`) son utilizados de forma interna a la función. Cuando ejecutamos la función con los valores `3` y `4`, las variables pasan a tomar estos valores y luego se ejecutan las instrucciones correspondientes. Cuando ejecutamos la función con los parámetros `x, y` lo que sucede es que `a` y `b` copian los valores de estas variables indicadas.\n",
        "\n",
        "La instrucción **return** sirve para indicar el resultado que la función \"devuelve\". Una vez que se alcanza la instrucción **return** la función termina y devuelve el valor indicado. En general es preferible devolver información usando **return** antes que imprimirla usando **print** ya que esto permite reutilizar la función para una cantidad de casos mayor, donde no siempre quiero mostrar el resultado en pantalla, aunque queda a criterio de cada uno para lo que necesite.\n",
        "\n",
        "Al concepto de función también podemos combinarlo con las estructuras que vimos previamente:"
      ],
      "metadata": {
        "id": "D5jtuTmpGuSw"
      }
    },
    {
      "cell_type": "code",
      "source": [
        "def chequarContraseña(c):\n",
        "    if c == \"Secreto\":\n",
        "        resultado = True\n",
        "    else:\n",
        "        resultado = False\n",
        "    return resultado\n",
        "\n",
        "\n",
        "ingresado = input(\"Ingrese contraseña: \")\n",
        "while not chequarContraseña(ingresado):\n",
        "    ingresado = input(\"Contraseña incorrecta. Ingrese de nuevo:\")\n",
        "else:\n",
        "    print(\"Contraseña correcta.\")"
      ],
      "metadata": {
        "id": "IvMEDD1eGwQp"
      },
      "execution_count": null,
      "outputs": []
    },
    {
      "cell_type": "markdown",
      "source": [
        "¿Se dieron cuenta que la forma que usamos para imprimir una variable es una función? **print**( ... ) lo que hace es llamar a una función ya creada que está en el estándar de Python y permite que mostremos el contendido que se le pase como parámetro a la función."
      ],
      "metadata": {
        "id": "XlD7LLgvGyX-"
      }
    },
    {
      "cell_type": "markdown",
      "source": [
        "# Estructura de datos\n",
        "Utilizando variables de los distintos tipos de datos se pueden armar programas mas complejos. Sin embargo, hay un límite en la versatilidad del programa si sólo utilizamos los tipos de datos que vimos hasta ahora.\n",
        "Se suele llamar \"estructura de datos\" a cierta clase de tipos de datos más complejos, los cuales nos permiten organizar la información de manera más efectiva.\n",
        "\n",
        "En particular, nos permiten agrupar datos (cada uno de ellos con su tipo), e interactuar con ellos de la forma más apropiada.\n",
        "\n",
        "![estructuras-de-datos-950x500.jpg](data:image/jpeg;base64,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)"
      ],
      "metadata": {
        "id": "IQUCDFv6zmqG"
      }
    },
    {
      "cell_type": "markdown",
      "source": [
        "# Listas\n",
        "\n",
        "* ¿Que son y para que sirve las listas?\n",
        "\n",
        "Las listas son una forma de estructura que nos permite almacenar elementos de manera secuencial, los cuales pueden ser accedidos mediante el conocimiento de su posición en la lista. Estas las creamos usando corchetes de la siguiente manera:\n",
        "\n",
        "> a = **[** $ a_{0}, a_{1}, a_{2}, \\dots $ **]**\n",
        "\n",
        "cultivos = [\"Maíz\", \"Trigo\", \"Arroz\", \"Tomate\"]\n"
      ],
      "metadata": {
        "id": "td7Qm1f_1PFQ"
      }
    },
    {
      "cell_type": "code",
      "source": [
        "# Creamos una lista con elementos\n",
        "a = [\"Maíz\", \"Trigo\", \"Arroz\", \"Tomate\"]\n",
        "print(a)\n",
        "\n",
        "# Creamos una lista vacía\n",
        "b = [ 13, 40, [10, 30], 30, 67 ]\n",
        "print(b)\n",
        "\n",
        "# Creamos una lista vacía\n",
        "c = list()\n",
        "print(c)"
      ],
      "metadata": {
        "id": "_x-8w8Ja3M6K"
      },
      "execution_count": null,
      "outputs": []
    },
    {
      "cell_type": "markdown",
      "source": [
        "* Para acceder a un elemento de una lista se utiliza `lista[índice]` de forma similar a como funcionan los strings.\n",
        "Podemos modificar el elemento asignándole un valor.\n",
        "\n",
        "Al igual que los strings, las listas permiten hacer **slicing**. Esto significa obtener una sub-lista a partir de valores de comienzo, fin y step indicados entre corchetes y separados por dos puntos."
      ],
      "metadata": {
        "id": "y45Ot8Od369o"
      }
    },
    {
      "cell_type": "code",
      "source": [
        "a = [5, 6, 7, 8]\n",
        "print('a =', a)\n",
        "print('a[0] =', a[0])\n",
        "print('a[2] =', a[2])\n",
        "\n",
        "a[2] = 0\n",
        "print('a =', a)"
      ],
      "metadata": {
        "id": "0xOJCP1y3-Ko"
      },
      "execution_count": null,
      "outputs": []
    },
    {
      "cell_type": "markdown",
      "source": [
        "## Algunas cualidades de las listas\n"
      ],
      "metadata": {
        "id": "hbyFSsXh6tev"
      }
    },
    {
      "cell_type": "markdown",
      "source": [
        "* Se pueden intercambiar dos elementos de una lista de la siguiente forma"
      ],
      "metadata": {
        "id": "3Ey_Cv_L6-bq"
      }
    },
    {
      "cell_type": "code",
      "source": [
        "a = [5, 6, 0, 8]\n",
        "a[0], a[1] = a[1], a[0]\n",
        "print('a =', a)"
      ],
      "metadata": {
        "id": "ar67j3VH6zyn"
      },
      "execution_count": null,
      "outputs": []
    },
    {
      "cell_type": "markdown",
      "source": [
        "* Se pueden usar signos negativos para referir los índices desde el final para atras"
      ],
      "metadata": {
        "id": "hv13wP4h7Ch_"
      }
    },
    {
      "cell_type": "code",
      "source": [
        "print('a[-1] =', a[-1])"
      ],
      "metadata": {
        "id": "kYCxITvV68E6"
      },
      "execution_count": null,
      "outputs": []
    },
    {
      "cell_type": "markdown",
      "source": [
        "* Slicing"
      ],
      "metadata": {
        "id": "DevI9a0m7YR8"
      }
    },
    {
      "cell_type": "code",
      "source": [
        "a = [6, 5, 0, 8]\n",
        "print('a[1:3] =', a[1:3])\n",
        "\n",
        "# Se puede omitir el parametro de inicio para comenzar desde el principio\n",
        "# Se puede omitir el parametro de fin para seguir hasta el final\n",
        "# Se puede usar un salto negativo para recorrer la lista en sentido inverso\n",
        "# Se puede invertir una lista de la siguiente forma\n",
        "print('a[ : :-1] =', a[ : :-1] )"
      ],
      "metadata": {
        "id": "bQ5u4ajL7Yot"
      },
      "execution_count": null,
      "outputs": []
    },
    {
      "cell_type": "markdown",
      "source": [
        "* Notar que, a diferencia de lo que diría el sentido común, el primer elemento de la lista se accede con el índice $0$.\n",
        "\n",
        "Otro tema a tener en cuenta es que no es posible ponerle el nombre *list* a una lista, ya que es una palabra reservada. Esta es una función para generar una lista a partir de otro objeto, como un string. Por ejemplo:"
      ],
      "metadata": {
        "id": "ZfULtJCG79IP"
      }
    },
    {
      "cell_type": "code",
      "source": [
        "texto = \"Hola\"\n",
        "lista = list(texto)\n",
        "\n",
        "print(texto)\n",
        "print(lista)"
      ],
      "metadata": {
        "id": "SuJySP1k8DvW"
      },
      "execution_count": null,
      "outputs": []
    },
    {
      "cell_type": "markdown",
      "source": [
        "* A modo informativo  \n",
        "\n",
        "Una forma alternativa de generar una lista es utilizando la instrucción for dentro de los corchetes de la siguiente manera:"
      ],
      "metadata": {
        "id": "MHJzHP7tAhAD"
      }
    },
    {
      "cell_type": "code",
      "source": [
        "b = [x for x in range(10)]\n",
        "print(b)"
      ],
      "metadata": {
        "id": "Lh_oAxZCAvVP"
      },
      "execution_count": null,
      "outputs": []
    },
    {
      "cell_type": "markdown",
      "source": [
        "## Operaciones con listas"
      ],
      "metadata": {
        "id": "bp9IPE-7RaoL"
      }
    },
    {
      "cell_type": "markdown",
      "source": [
        "Podemos realizar múltiples operaciones sobre una lista:\n",
        "\n",
        "- **a + b**: al igual que los strings se agrega el contenido de **b** al final de **a**."
      ],
      "metadata": {
        "id": "z7R9zydvRhJn"
      }
    },
    {
      "cell_type": "code",
      "source": [
        "a = [1,2]\n",
        "b = [3,4]\n",
        "z = a + b\n",
        "print(z)"
      ],
      "metadata": {
        "id": "93AKhgz5RhtA"
      },
      "execution_count": null,
      "outputs": []
    },
    {
      "cell_type": "markdown",
      "source": [
        "- **len**( $lista$ ): obtiene el largo de una lista."
      ],
      "metadata": {
        "id": "BuD3JKl9Rk9N"
      }
    },
    {
      "cell_type": "code",
      "source": [
        "a = [1,2,3,4]\n",
        "print(len(a))"
      ],
      "metadata": {
        "id": "OGlPLLHQRmmP"
      },
      "execution_count": null,
      "outputs": []
    },
    {
      "cell_type": "markdown",
      "source": [
        "- **.sort**(): ordena los elementos de la lista."
      ],
      "metadata": {
        "id": "nqa4dV0jRoog"
      }
    },
    {
      "cell_type": "code",
      "source": [
        "a = [\"Hola\", \"Adios\", \"Como esta\", \"Buen día\" ]\n",
        "a.sort()\n",
        "print(a)\n",
        "\n",
        "b = [1, 2, 3, 123, 23, 12]\n",
        "b.sort()\n",
        "print(b)\n",
        "\n",
        "# Es posible hacer un orden inverso indicando reverse=True\n",
        "b.sort(reverse=True)\n",
        "print(b)"
      ],
      "metadata": {
        "id": "ZGsazqULRq7I"
      },
      "execution_count": null,
      "outputs": []
    },
    {
      "cell_type": "markdown",
      "source": [
        "- **.append**($algo$): permite agregar un elemento al final de la lista."
      ],
      "metadata": {
        "id": "W93fNHZpRxOb"
      }
    },
    {
      "cell_type": "code",
      "source": [
        "mensaje = \"Hola como estas\"\n",
        "v = [50, mensaje, 150.5, True]\n",
        "print(v)\n",
        "\n",
        "# Agrego al final de la lista un elemento que vale 200 (tipo int)\n",
        "v.append(200)\n",
        "\n",
        "# Agrego una lista de elementos\n",
        "# Los elementos de la lista no son agregados individualmente\n",
        "# En cambio, la lista se agrega como un elemento en sí misma\n",
        "v.append([\"Uno\", \"Dos\", \"Tres\"])\n",
        "print(v)"
      ],
      "metadata": {
        "id": "ScyOKYsnRyvw"
      },
      "execution_count": null,
      "outputs": []
    },
    {
      "cell_type": "markdown",
      "source": [
        "- **.extend**($lista$): permite agregar elementos de una lista al final de otra. Es muy similar a la suma de listas."
      ],
      "metadata": {
        "id": "jybgTrssR1MF"
      }
    },
    {
      "cell_type": "code",
      "source": [
        "v = [1, 2, 3]\n",
        "v.extend([\"Uno\", \"Dos\", \"Tres\"])\n",
        "print(v)"
      ],
      "metadata": {
        "id": "hals4H3MR4d9"
      },
      "execution_count": null,
      "outputs": []
    },
    {
      "cell_type": "markdown",
      "source": [
        "- **.pop**(): permite remover el ultimo elemento de la lista."
      ],
      "metadata": {
        "id": "pZgYmnTkR63s"
      }
    },
    {
      "cell_type": "code",
      "source": [
        "v = [\"Uno\", 2, \"Tres\", 4, \"Cinco\"]\n",
        "v.pop() # Quito el ultimo elemento\n",
        "print(v)"
      ],
      "metadata": {
        "id": "I-OQnKsNR7Yh"
      },
      "execution_count": null,
      "outputs": []
    },
    {
      "cell_type": "markdown",
      "source": [
        "- **.remove**($valor$): remueve el primer elemento de la lista cuyo valor sea el indicado."
      ],
      "metadata": {
        "id": "wHeH9dMHSC8V"
      }
    },
    {
      "cell_type": "code",
      "source": [
        "v = [1,2,1,2]\n",
        "v.remove(2) # elimino el primer valor igual a 2\n",
        "print(v)\n",
        "v.remove(2) # elimino el primer valor igual a 2\n",
        "print(v)"
      ],
      "metadata": {
        "id": "rihPWL-iSFl_"
      },
      "execution_count": null,
      "outputs": []
    },
    {
      "cell_type": "markdown",
      "source": [
        "- **del** lista**[*índice*]**: para eliminar un elemento en una posición determinada."
      ],
      "metadata": {
        "id": "-LWWSjAQSKhu"
      }
    },
    {
      "cell_type": "code",
      "source": [
        "a = [\"hola\",\"como\",\"estas\"]\n",
        "del a[1]\n",
        "print(a)"
      ],
      "metadata": {
        "id": "Fq8Tfhm9SL4j"
      },
      "execution_count": null,
      "outputs": []
    },
    {
      "cell_type": "markdown",
      "source": [
        "- $algo$ **in** lista: muchas veces es necesario saber si un elemento esta dentro de una lista, para ello utilizamos esta herrramienta.\n"
      ],
      "metadata": {
        "id": "0-gvDNv2SPO6"
      }
    },
    {
      "cell_type": "code",
      "source": [
        "x = [1,2,3]\n",
        "if 5 in x:\n",
        "    x.remove(5)\n",
        "else:\n",
        "  print(5,'no esta en la lista')\n",
        "\n",
        "print(x)"
      ],
      "metadata": {
        "id": "yMwfp5tGSOtg"
      },
      "execution_count": null,
      "outputs": []
    },
    {
      "cell_type": "markdown",
      "source": [
        "- **max**($lista$): Obtiene el valor más alto de la lista.\n",
        "\n",
        "- **min**($lista$): Obtiene el valor más bajo de la lista."
      ],
      "metadata": {
        "id": "OVZ2fn91SR7v"
      }
    },
    {
      "cell_type": "code",
      "source": [
        "valor = max( [1, 2, 3, 4, 5, 4, 3, 2, 1] )\n",
        "print(valor)\n",
        "\n",
        "valor = max( [\"Curso\", \"De\", \"Python\"] )\n",
        "print(valor)\n",
        "\n",
        "valor = min( [1, 2, 3, 4, 5, 4, 3, 2, 1] )\n",
        "print(valor)\n",
        "\n",
        "valor = min( [\"Curso\", \"De\", \"Python\"] )\n",
        "print(valor)"
      ],
      "metadata": {
        "id": "-LJ4ZOuCSXvg"
      },
      "execution_count": null,
      "outputs": []
    },
    {
      "cell_type": "markdown",
      "source": [
        "# Tuplas\n",
        "\n",
        "Las tuplas son similares a las listas, pero a diferencia de ellas se dice que las tuplas son *inmutables*, esto quiere decir que sus elementos no pueden cambiar una vez definidos. Se pueden crear usando paréntesis de la siguiente manera:\n",
        "\n",
        "> a = **(** $ a_{0}, a_{1}, a_{2},\\dots $ **)**\n",
        "\n",
        "Los elementos de una tupla se pueden acceder usando un índice entre corchetes. Al igual que las listas admiten *slicing*.\n",
        "\n",
        "Cuando creamos una función que devuelve más de un elemento separado por comas, estamos utilizando una tupla inadvertidamente. Cuando intercambiamos 2 elementos de una lista como en los ejemplos anteriores, también aparecen tuplas."
      ],
      "metadata": {
        "id": "1QClwCeiEAD3"
      }
    },
    {
      "cell_type": "code",
      "source": [
        "tupla = (1, 2, 3)\n",
        "print(tupla)\n",
        "print(tupla[0], tupla[1], tupla[2])\n",
        "\n",
        "# Sacando el primer numeral, la siguiente línea produce un error\n",
        "#tupla[0] = 10   # Las tuplas NO admiten la asignación por índice"
      ],
      "metadata": {
        "id": "ObnvWu42F1n1"
      },
      "execution_count": null,
      "outputs": []
    },
    {
      "cell_type": "markdown",
      "source": [
        "# Set\n",
        "\n",
        "Un **set** es una estructura de datos más avanzada que las anteriores, la cual nos permite almacenar un grupo de elementos cuyo orden no es relevante. Lo único que tiene importancia cuando utilizamos un **set** es qué elemento está y qué elemento no.\n",
        "\n",
        "Un **set** no admite repetidos, ya que por su funcionamiento interno no tiene la capacidad de determinar cuando un elemento se encuentra más de una vez. Solo se puede saber qué elementos están y qué elementos no.\n",
        "A primera vista parecería entonces que un **set** es muy limitado, ya que no está ordenado y no acepta repetidos. No obstante, este es muy práctico para algunos tipos de operaciones, las cuales serían muy tediosas de  programar en listas o diccionarios.\n",
        "\n",
        "Para crear un **set** se utilizan llaves **{ }** y se colocan elementos separados por comas, su sintaxis es similar a la de las listas.\n"
      ],
      "metadata": {
        "id": "1H-dP8jAUzmR"
      }
    },
    {
      "cell_type": "code",
      "source": [
        "x = {1, 2, 3, 4, 7, 7, 7, 7, 7, 7}   # Los sets no admiten elementos repetidos\n",
        "print(\"Set x =\", x)"
      ],
      "metadata": {
        "id": "I8_0RYznVE5c"
      },
      "execution_count": null,
      "outputs": []
    },
    {
      "cell_type": "markdown",
      "source": [
        "Un ejemplo práctico del uso de sets es el de eliminar duplicados de una lista:"
      ],
      "metadata": {
        "id": "7pW4vesiT0CL"
      }
    },
    {
      "cell_type": "code",
      "source": [
        "x = [1, 2, 3, 4, 7, 7, 7, 7, 7, 7]\n",
        "set_x = set(x)\n",
        "print(\"Set x =\", set_x)\n",
        "\n",
        "b = list(set_x)\n",
        "print(b)"
      ],
      "metadata": {
        "id": "WlUuPNyRTwhi"
      },
      "execution_count": null,
      "outputs": []
    },
    {
      "cell_type": "markdown",
      "source": [
        "# Diccionarios\n",
        "\n",
        "En programación los diccionarios no son muy distintos a los disccionarios que todos conocemos. Un \"diccionario\" en este contexto es una estructura de datos cuya información esta organizada igual que en un diccionario físico. cada bloque de información, es decir, cada elemento, tiene asociada una palabra. La palabra que se utiliza para encontrar el bloque de información se la suele denominar key ó clave. Mediante la clave se puede acceder a dicha informacion, la cual se suele denominar contenido. El par clave, contenido suele llamarse elemento.\n",
        "\n",
        "Es muy importante notar que no pueden existir dos elementos con igual clave, estos serían indistinguibles.\n",
        "\n",
        "La clave suele ser información con tipo de dato string (aunque no necesariamente), mientras que el contenido puede tener cualquier tipo de dato. Los diccionarios se crean utilizando la siguiente estructura:\n",
        "\n",
        "> x = **{**  $k_{0}$ **:** $c_{0}$**,** $k_{1}$ **:** $c_{1}$, $\\dots$**}**\n",
        ">\n",
        "> Noten que el \"**:**\" divide el *key* del *contenido* en cada *elemento*, la \"**,**\" separa cada par y se enmarca todo entre llaves: **{ }**"
      ],
      "metadata": {
        "id": "64a5GGYHGw3L"
      }
    },
    {
      "cell_type": "code",
      "source": [
        "d = {\n",
        "    \"NDVI\": \"El Índice de Vegetación de Diferencia Normalizada (NDVI, por sus siglas en inglés) es un indicador utilizado en teledetección para evaluar la salud y la densidad de la vegetación en una determinada área. \\\n",
        "    Se calcula a partir de mediciones en el espectro visible e infrarrojo cercano de la luz reflejada por la superficie terrestre.\",\n",
        "    \"NDWI\": \"El Índice de Agua de Diferencia Normalizada (NDWI, por sus siglas en inglés) es otro índice utilizado en teledetección para evaluar la presencia y la cantidad de agua en una determinada área. \\\n",
        "     A diferencia del NDVI, que se centra en la vegetación, el NDWI se enfoca en la detección del agua..\"\n",
        "}\n",
        "\n",
        "print(d)\n",
        "\n",
        "a = {} # Diccionario vacío\n",
        "b = dict()\n",
        "\n",
        "print(a)\n",
        "print(b)"
      ],
      "metadata": {
        "id": "IJpLaXpDKmKn"
      },
      "execution_count": null,
      "outputs": []
    },
    {
      "cell_type": "markdown",
      "source": [
        "* Para acceder a los datos de un diccionario se utiliza la misma sintaxis que las listas pero en lugar de un *índice* numérico, utilizando la *clave* a la que queremos acceder."
      ],
      "metadata": {
        "id": "gnrZF26QLi6f"
      }
    },
    {
      "cell_type": "code",
      "source": [
        "d = {\n",
        "    \"NDVI\": \"El Índice de Vegetación de Diferencia Normalizada (NDVI, por sus siglas en inglés) es un indicador utilizado en teledetección para evaluar la salud y la densidad de la vegetación en una determinada área.\\\n",
        "    Se calcula a partir de mediciones en el espectro visible e infrarrojo cercano de la luz reflejada por la superficie terrestre.\",\n",
        "\n",
        "    \"NDWI\": \"El Índice de Agua de Diferencia Normalizada (NDWI, por sus siglas en inglés) es otro índice utilizado en teledetección para evaluar la presencia y la cantidad de agua en una determinada área. \\\n",
        "     A diferencia del NDVI, que se centra en la vegetación, el NDWI se enfoca en la detección del agua..\"\n",
        "}\n",
        "\n",
        "print('NDVI:')\n",
        "print(d['NDVI'])"
      ],
      "metadata": {
        "id": "KCk-TSEsLjXb"
      },
      "execution_count": null,
      "outputs": []
    },
    {
      "cell_type": "markdown",
      "source": [
        "Tambien podemos usar los diccionarios para acceder de forma sencilla a datos almacenados. Por ejemplo, para acceder a los estudiantes de una universidad a partir de su número de legajo, creamos una base de datos estructurada de la siguiente manera:\n",
        "\n",
        "> **clave** = Legajo\n",
        "\n",
        "> **contenido** = Nombre"
      ],
      "metadata": {
        "id": "aILNDQ5jMA_3"
      }
    },
    {
      "cell_type": "code",
      "source": [
        "database = {\n",
        "    50001:\"Karen Fernandez\",\n",
        "    50002:\"Matías Perez\",\n",
        "    50003:\"Julieta Gonzalez\"\n",
        "}\n",
        "print(\"Nombre completo del legajo\", 50002, \":\", database[50002])"
      ],
      "metadata": {
        "id": "ZYJvxSBbMJXp"
      },
      "execution_count": null,
      "outputs": []
    },
    {
      "cell_type": "markdown",
      "source": [
        "Se puede obtener una lista de todas las claves en un diccionario utilizando el método .keys(). Esto devuelve una vista de las claves, la cual se puede convertir a una lista si es necesario."
      ],
      "metadata": {
        "id": "hYjm95kNY1ev"
      }
    },
    {
      "cell_type": "code",
      "source": [
        "listado_claves = list(database.keys())\n",
        "print(listado_claves)"
      ],
      "metadata": {
        "id": "wy2JrjcYY-55"
      },
      "execution_count": null,
      "outputs": []
    },
    {
      "cell_type": "markdown",
      "source": [
        "Los diccionarios son uin formato muy utilizado para compartir datos entre programas, un ejemplo es el envío de información desde una central meteorológiaca como se ve a continuación:"
      ],
      "metadata": {
        "id": "6rqVWWhhUdkY"
      }
    },
    {
      "cell_type": "code",
      "source": [
        "datos_meteorologicos = {\n",
        "    \"estacion\": \"Central Park\",\n",
        "    \"fecha\": \"2023-11-13\",\n",
        "    \"temperatura\": {\n",
        "        \"actual\": 15,  # Grados Celsius\n",
        "        \"maxima\": 18,\n",
        "        \"minima\": 10\n",
        "    },\n",
        "    \"humedad\": 75,  # Porcentaje\n",
        "    \"viento\": {\n",
        "        \"velocidad\": 12,  # km/h\n",
        "        \"direccion\": \"Norte\"\n",
        "    },\n",
        "    \"precipitacion\": {\n",
        "        \"probabilidad\": 40,  # Porcentaje\n",
        "        \"cantidad\": 5  # mm\n",
        "    },\n",
        "    \"observaciones\": \"Parcialmente nublado\"\n",
        "}\n",
        "\n",
        "\n",
        "print('Temperatura actual:', datos_meteorologicos['temperatura']['actual'])"
      ],
      "metadata": {
        "id": "7UQHzp4uI2NN"
      },
      "execution_count": null,
      "outputs": []
    },
    {
      "cell_type": "markdown",
      "source": [
        "Resultado de las PASO: [API resultados provisorios](https://paso.resultados.gob.ar/backend-difu/scope/data/getScopeData/00000000000000000000000b/1/1)\n",
        "\n",
        "Se recomienda tener instalada esta extensión en chrome: [JSON formatter](https://chromewebstore.google.com/detail/bcjindcccaagfpapjjmafapmmgkkhgoa)"
      ],
      "metadata": {
        "id": "pn2Aw3wcXdfP"
      }
    }
  ]
}